{
 "cells": [
  {
   "cell_type": "code",
   "execution_count": 1,
   "metadata": {},
   "outputs": [],
   "source": [
    "import pandas as pd"
   ]
  },
  {
   "cell_type": "code",
   "execution_count": 2,
   "metadata": {},
   "outputs": [],
   "source": [
    "df = pd.read_csv('kitCapstoneJan24_data.csv', header=0, sep=';')"
   ]
  },
  {
   "cell_type": "code",
   "execution_count": null,
   "metadata": {},
   "outputs": [],
   "source": [
    "def month_to_datestring(month: int):\n",
    "    # Startpunkt Januar 2000\n",
    "    m = (month - 1) % 12 + 1\n",
    "    m_string = str(m) if m > 9 else '0' + str(m)\n",
    "    y = (month-1) // 12\n",
    "    y_string = str(y) if y > 9 else '0' + str(y)\n",
    "    \n",
    "    return f'{m_string}/{y_string}'\n",
    "\n",
    "def convert_month_to_date(df: pd.DataFrame):\n",
    "    df['date'] = df['month'].apply(month_to_datestring)\n",
    "    df['date'] = pd.to_datetime(df['date'], format='%m/%y')\n",
    "    result = df.set_index('date').drop(['month'], axis=1)\n",
    "    #result.index = pd.DatetimeIndex(result.index).to_period('M')\n",
    "\n",
    "    return result.sort_index()\n",
    "\n",
    "df = convert_month_to_date(df.iloc[:360,:])"
   ]
  },
  {
   "cell_type": "code",
   "execution_count": 4,
   "metadata": {},
   "outputs": [],
   "source": [
    "porsche_data_country_a = df.iloc[:,:950]\n",
    "\n",
    "exog_columns = ['leasing_contracts__vehiclegroup23__end',\n",
    " 'leasing_contracts__vehiclegroup06__end',\n",
    " 'global_economy__nominal_statistical_discrepancy_lcu__euro',\n",
    " 'global_economy__nominal_statistical_discrepancy_euro__euro',\n",
    " 'global_economy__nominal_statistical_discrepancy_ppp__u_s_dollar',\n",
    " 'global_economy__nominal_statistical_discrepancy_us__u_s_dollar',\n",
    " 'global_economy__bop_other_investment_asset_debit_capital_outflow_lcu__euro',\n",
    " 'global_economy__bop_other_investment_asset_debit_capital_outflow_euro__euro',\n",
    " 'global_economy__bop_other_investment_liability_credit_capital_inflow_euro__euro',\n",
    " 'global_economy__bop_other_investment_liability_credit_capital_inflow_lcu__euro',\n",
    " 'global_economy__bop_direct_investment_asset_debit_capital_outflow_lcu__euro',\n",
    " 'global_economy__bop_direct_investment_asset_debit_capital_outflow_euro__euro',\n",
    " 'global_consumer__total_population_20_to_24',\n",
    " 'global_consumer__female_population_20_to_24',\n",
    " 'leasing_contracts__vehiclegroup24__end',\n",
    " 'global_economy__bop_portfolio_investment_asset_debit_capital_outflow_lcu__euro',\n",
    " 'global_economy__bop_portfolio_investment_asset_debit_capital_outflow_euro__euro',\n",
    " 'leasing_contracts__vehiclegroup25__end',\n",
    " 'leasing_contracts__vehiclegroup63__end',\n",
    " 'global_economy__index_retail_sales_real_volume__index',\n",
    " 'global_consumer__total_female_population']\n",
    "\n",
    "\n",
    "white_list_global_consumer = ['global_consumer__unemployment_rate', 'global_consumer__total_population', 'global_consumer__total_consumption', 'global_consumer__financial_other_services', 'global_consumer__average_income', 'global_consumer__automobiles']\n",
    "white_list_global_economy = ['global_economy__bop_basic_balance_euro__euro', 'global_economy__bop_goods_balance_of_gdp__percentage', 'global_economy__bop_goods_exports_euro__euro', 'global_economy__bop_goods_imports_euro__euro', 'global_consumer__consumer_price_index', 'global_economy__employment_total__persons']\n",
    "\n",
    "white_list_global_consumer = [x for x in white_list_global_consumer if x not in exog_columns]\n",
    "white_list_global_economy = [x for x in white_list_global_economy if x not in exog_columns]\n",
    "\n",
    "porsche_vg1_cols = [col for col in porsche_data_country_a.columns if 'vehiclegroup01' in col]\n",
    "for entry in white_list_global_consumer:\n",
    "    porsche_vg1_cols.append(entry)\n",
    "for entry in white_list_global_economy:\n",
    "    porsche_vg1_cols.append(entry)\n",
    "for entry in exog_columns:\n",
    "    porsche_vg1_cols.append(entry)\n",
    "\n",
    "porsche_df = df[porsche_vg1_cols]\n"
   ]
  },
  {
   "cell_type": "code",
   "execution_count": 5,
   "metadata": {},
   "outputs": [],
   "source": [
    "train_df = porsche_df.iloc[:240,:]\n",
    "test_df = porsche_df.iloc[240:258,:]"
   ]
  },
  {
   "cell_type": "code",
   "execution_count": 6,
   "metadata": {},
   "outputs": [],
   "source": [
    "from sklearn.impute import SimpleImputer\n",
    "date_range = pd.date_range(start='2000-01-01', periods=240, freq='MS')\n",
    "\n",
    "imputer = SimpleImputer()\n",
    "train_df = pd.DataFrame(imputer.fit_transform(train_df), columns=list(train_df.columns), index=date_range)"
   ]
  },
  {
   "cell_type": "code",
   "execution_count": null,
   "metadata": {},
   "outputs": [],
   "source": [
    "from statsmodels.tsa.statespace.sarimax import SARIMAX\n",
    "from sklearn.metrics import mean_absolute_percentage_error as mape\n",
    "\n",
    "orders = [[1,0,0], [0,0,1], [1,1,1]]\n",
    "seasonal_order = [[1,0,0,12], [0,0,1,12], [1,1,1,12]]\n",
    "param_list = []\n",
    "mapes=0\n",
    "counter=0\n",
    "\n",
    "\n",
    "for column in train_df.columns:#.iloc[:,1:].columns:\n",
    "    best_params = {}\n",
    "    index = 0\n",
    "\n",
    "    for order in orders:\n",
    "        for season in seasonal_order:\n",
    "            sarimax = SARIMAX(endog=train_df[column],\n",
    "                            order=order, freq='MS', seasonal_order=season)\n",
    "            results = sarimax.fit()\n",
    "            forecast = results.predict(start=240,end=257,dynamic=True)\n",
    "            forecast = pd.DataFrame(forecast)\n",
    "            mape_score = mape(test_df[column], forecast[\"predicted_mean\"])\n",
    "            params = [mape_score, order, season]\n",
    "            best_params[str(index)] = params\n",
    "            index+=1\n",
    "\n",
    "    best_mape = min(best_params.values())[0]\n",
    "    best_order = min(best_params.values())[1]\n",
    "    best_season = min(best_params.values())[2]\n",
    "    \n",
    "    if best_mape<0.2:\n",
    "        counter+=1\n",
    "        mapes+=best_mape\n",
    "        print(f'{column} -> mape score: {best_mape} with best order: {best_order} and best season: {best_season}')\n",
    "        param_list.append([column, best_order, best_season])\n",
    "   \n",
    "print(\"Mean mape: \" + str(mapes/counter))\n"
   ]
  },
  {
   "cell_type": "code",
   "execution_count": null,
   "metadata": {},
   "outputs": [],
   "source": [
    "date_range = pd.date_range(start='2020-01-01', periods=18, freq='MS')\n",
    "X_df = pd.DataFrame(1, index=date_range, columns=['col1'])\n",
    "\n",
    "column_list = []\n",
    "\n",
    "for column_triples in param_list:\n",
    "    column_list.append(column_triples[0])\n",
    "    sarimax = SARIMAX(endog=train_df[column_triples[0]],\n",
    "                            order=column_triples[1], freq='MS', seasonal_order=column_triples[2])\n",
    "    results = sarimax.fit()\n",
    "    forecast = results.predict(start=240,end=257,dynamic=True)\n",
    "    forecast_dataframe = pd.DataFrame(forecast)\n",
    "    X_df = pd.concat([X_df, forecast_dataframe], axis=1)\n",
    "    X_df.columns = [*X_df.columns[:-1], column_triples[0]]\n",
    "\n",
    "sarimax = SARIMAX(endog=train_df['sales_actuals_monthly__vehiclegroup01__orderintake'],\n",
    "                            order=[3,0,1], freq='MS', seasonal_order=[3,0,1,12], \n",
    "                            exog=train_df[exog_columns])\n",
    "results = sarimax.fit()\n",
    "forecast = results.predict(start=240,end=257,dynamic=True, exog=test_df[exog_columns])\n",
    "forecast_dataframe = pd.DataFrame(forecast)\n",
    "forecast_dataframe.columns = [\"sales_actuals_monthly__vehiclegroup01__orderintake\"]\n",
    "X_df = pd.concat([X_df, forecast_dataframe], axis=1)\n",
    "column_list.append('sales_actuals_monthly__vehiclegroup01__orderintake')\n",
    "\n",
    "X_df.drop(columns=X_df.columns[0], axis=1, inplace=True)\n"
   ]
  },
  {
   "cell_type": "code",
   "execution_count": 9,
   "metadata": {},
   "outputs": [
    {
     "name": "stderr",
     "output_type": "stream",
     "text": [
      "C:\\Users\\jaspe\\AppData\\Local\\Temp\\ipykernel_17588\\3817991492.py:9: DataConversionWarning: A column-vector y was passed when a 1d array was expected. Please change the shape of y to (n_samples,), for example using ravel().\n",
      "  clf.fit(transformed_df[column_list], transformed_df.iloc[:,:1])\n"
     ]
    },
    {
     "name": "stdout",
     "output_type": "stream",
     "text": [
      "0.28789236878573615\n"
     ]
    },
    {
     "data": {
      "image/png": "[encoded data removed]",
      "text/plain": [
       "<Figure size 640x480 with 1 Axes>"
      ]
     },
     "metadata": {},
     "output_type": "display_data"
    }
   ],
   "source": [
    "from sklearn.ensemble import RandomForestRegressor\n",
    "from sklearn.impute import SimpleImputer\n",
    "import matplotlib.pyplot as plt\n",
    "\n",
    "imputer = SimpleImputer()\n",
    "transformed_df = pd.DataFrame(imputer.fit_transform(train_df), columns=list(train_df.columns))\n",
    "\n",
    "clf = RandomForestRegressor(n_estimators=5, max_depth=3, random_state=0)\n",
    "clf.fit(transformed_df[column_list], transformed_df.iloc[:,:1])\n",
    "\n",
    "date_range = pd.date_range(start='2020-01-01', periods=18, freq='MS')\n",
    "prediction = pd.DataFrame(clf.predict(X_df), index=date_range, columns=['prediction'])\n",
    "mape_score = mape(test_df['sales_actuals_monthly__vehiclegroup01__orderintake'], prediction[\"prediction\"])\n",
    "print(mape_score)\n",
    "plt.plot(test_df['sales_actuals_monthly__vehiclegroup01__orderintake'])\n",
    "plt.plot(prediction[\"prediction\"])\n",
    "plt.show()"
   ]
  },
  {
   "cell_type": "code",
   "execution_count": null,
   "metadata": {},
   "outputs": [],
   "source": []
  },
  {
   "cell_type": "code",
   "execution_count": null,
   "metadata": {},
   "outputs": [],
   "source": []
  }
 ],
 "metadata": {
  "kernelspec": {
   "display_name": ".venv",
   "language": "python",
   "name": "python3"
  },
  "language_info": {
   "codemirror_mode": {
    "name": "ipython",
    "version": 3
   },
   "file_extension": ".py",
   "mimetype": "text/x-python",
   "name": "python",
   "nbconvert_exporter": "python",
   "pygments_lexer": "ipython3",
   "version": "3.11.6"
  }
 },
 "nbformat": 4,
 "nbformat_minor": 2
}
