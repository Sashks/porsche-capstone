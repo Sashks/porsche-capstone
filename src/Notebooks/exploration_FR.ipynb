{
 "cells": [
  {
   "cell_type": "code",
   "execution_count": 2,
   "id": "initial_id",
   "metadata": {
    "ExecuteTime": {
     "end_time": "2024-01-31T10:19:27.052329Z",
     "start_time": "2024-01-31T10:19:27.036493Z"
    }
   },
   "outputs": [],
   "source": [
    "import pandas as pd\n",
    "import matplotlib.pyplot as plt\n",
    "import seaborn as sns\n",
    "from preprocessing import month_to_datestring"
   ]
  },
  {
   "cell_type": "code",
   "execution_count": null,
   "outputs": [],
   "source": [],
   "metadata": {
    "collapsed": false
   },
   "id": "ff6dec9aa2e43d1f"
  },
  {
   "cell_type": "code",
   "execution_count": 27,
   "id": "886b32de24f2f1a3",
   "metadata": {
    "collapsed": false,
    "ExecuteTime": {
     "end_time": "2024-01-30T11:34:03.439856Z",
     "start_time": "2024-01-30T11:34:02.889806Z"
    }
   },
   "outputs": [
    {
     "data": {
      "text/plain": "      month countryname  sales_actuals_monthly__vehiclegroup01__orderintake  \\\n0         1   Country A                                              296.0    \n1         2   Country A                                              414.0    \n2         3   Country A                                              405.0    \n3         4   Country A                                              359.0    \n4         5   Country A                                              403.0    \n...     ...         ...                                                ...    \n1435    356   Country D                                                NaN    \n1436    357   Country D                                                NaN    \n1437    358   Country D                                                NaN    \n1438    359   Country D                                                NaN    \n1439    360   Country D                                                NaN    \n\n      sales_actuals_monthly__vehiclegroup01__retail  \\\n0                                             352.0   \n1                                             372.0   \n2                                             604.0   \n3                                             483.0   \n4                                             474.0   \n...                                             ...   \n1435                                            NaN   \n1436                                            NaN   \n1437                                            NaN   \n1438                                            NaN   \n1439                                            NaN   \n\n      sales_actuals_monthly__vehiclegroup02__orderintake  \\\n0                                                 739.0    \n1                                                 904.0    \n2                                                1000.0    \n3                                                 828.0    \n4                                                 594.0    \n...                                                 ...    \n1435                                                NaN    \n1436                                                NaN    \n1437                                                NaN    \n1438                                                NaN    \n1439                                                NaN    \n\n      sales_actuals_monthly__vehiclegroup02__retail  \\\n0                                             471.0   \n1                                             528.0   \n2                                             953.0   \n3                                             972.0   \n4                                             900.0   \n...                                             ...   \n1435                                            NaN   \n1436                                            NaN   \n1437                                            NaN   \n1438                                            NaN   \n1439                                            NaN   \n\n      sales_actuals_monthly__vehiclegroup03__orderintake  \\\n0                                                   NaN    \n1                                                   NaN    \n2                                                   NaN    \n3                                                   NaN    \n4                                                   NaN    \n...                                                 ...    \n1435                                                NaN    \n1436                                                NaN    \n1437                                                NaN    \n1438                                                NaN    \n1439                                                NaN    \n\n      sales_actuals_monthly__vehiclegroup03__retail  \\\n0                                               NaN   \n1                                               NaN   \n2                                               NaN   \n3                                               NaN   \n4                                               NaN   \n...                                             ...   \n1435                                            NaN   \n1436                                            NaN   \n1437                                            NaN   \n1438                                            NaN   \n1439                                            NaN   \n\n      sales_actuals_monthly__vehiclegroup04__orderintake  \\\n0                                                   NaN    \n1                                                   NaN    \n2                                                   NaN    \n3                                                   NaN    \n4                                                   NaN    \n...                                                 ...    \n1435                                                NaN    \n1436                                                NaN    \n1437                                                NaN    \n1438                                                NaN    \n1439                                                NaN    \n\n      sales_actuals_monthly__vehiclegroup04__retail  ...  \\\n0                                               NaN  ...   \n1                                               NaN  ...   \n2                                               NaN  ...   \n3                                               NaN  ...   \n4                                               NaN  ...   \n...                                             ...  ...   \n1435                                            NaN  ...   \n1436                                            NaN  ...   \n1437                                            NaN  ...   \n1438                                            NaN  ...   \n1439                                            NaN  ...   \n\n      registrations__buildtype_suv  registrations__buildtype_transport  \\\n0                              NaN                                 NaN   \n1                              NaN                                 NaN   \n2                              NaN                                 NaN   \n3                              NaN                                 NaN   \n4                              NaN                                 NaN   \n...                            ...                                 ...   \n1435                           NaN                                 NaN   \n1436                           NaN                                 NaN   \n1437                           NaN                                 NaN   \n1438                           NaN                                 NaN   \n1439                           NaN                                 NaN   \n\n      registrations__buildtype_van  registrations__buildtype_cabrio  \\\n0                              NaN                              NaN   \n1                              NaN                              NaN   \n2                              NaN                              NaN   \n3                              NaN                              NaN   \n4                              NaN                              NaN   \n...                            ...                              ...   \n1435                           NaN                              NaN   \n1436                           NaN                              NaN   \n1437                           NaN                              NaN   \n1438                           NaN                              NaN   \n1439                           NaN                              NaN   \n\n      registrations__buildtype_stufenheck  registrations__buildtype_kurzheck  \\\n0                                     NaN                                NaN   \n1                                     NaN                                NaN   \n2                                     NaN                                NaN   \n3                                     NaN                                NaN   \n4                                     NaN                                NaN   \n...                                   ...                                ...   \n1435                                  NaN                                NaN   \n1436                                  NaN                                NaN   \n1437                                  NaN                                NaN   \n1438                                  NaN                                NaN   \n1439                                  NaN                                NaN   \n\n      registrations__buildtype_other  registrations__buildtype_pickup  \\\n0                                NaN                              NaN   \n1                                NaN                              NaN   \n2                                NaN                              NaN   \n3                                NaN                              NaN   \n4                                NaN                              NaN   \n...                              ...                              ...   \n1435                             NaN                              NaN   \n1436                             NaN                              NaN   \n1437                             NaN                              NaN   \n1438                             NaN                              NaN   \n1439                             NaN                              NaN   \n\n      registrations__buildtype_coupe  registrations__buildtype_kombi  \n0                                NaN                             NaN  \n1                                NaN                             NaN  \n2                                NaN                             NaN  \n3                                NaN                             NaN  \n4                                NaN                             NaN  \n...                              ...                             ...  \n1435                             NaN                             NaN  \n1436                             NaN                             NaN  \n1437                             NaN                             NaN  \n1438                             NaN                             NaN  \n1439                             NaN                             NaN  \n\n[1440 rows x 2369 columns]",
      "text/html": "<div>\n<style scoped>\n    .dataframe tbody tr th:only-of-type {\n        vertical-align: middle;\n    }\n\n    .dataframe tbody tr th {\n        vertical-align: top;\n    }\n\n    .dataframe thead th {\n        text-align: right;\n    }\n</style>\n<table border=\"1\" class=\"dataframe\">\n  <thead>\n    <tr style=\"text-align: right;\">\n      <th></th>\n      <th>month</th>\n      <th>countryname</th>\n      <th>sales_actuals_monthly__vehiclegroup01__orderintake</th>\n      <th>sales_actuals_monthly__vehiclegroup01__retail</th>\n      <th>sales_actuals_monthly__vehiclegroup02__orderintake</th>\n      <th>sales_actuals_monthly__vehiclegroup02__retail</th>\n      <th>sales_actuals_monthly__vehiclegroup03__orderintake</th>\n      <th>sales_actuals_monthly__vehiclegroup03__retail</th>\n      <th>sales_actuals_monthly__vehiclegroup04__orderintake</th>\n      <th>sales_actuals_monthly__vehiclegroup04__retail</th>\n      <th>...</th>\n      <th>registrations__buildtype_suv</th>\n      <th>registrations__buildtype_transport</th>\n      <th>registrations__buildtype_van</th>\n      <th>registrations__buildtype_cabrio</th>\n      <th>registrations__buildtype_stufenheck</th>\n      <th>registrations__buildtype_kurzheck</th>\n      <th>registrations__buildtype_other</th>\n      <th>registrations__buildtype_pickup</th>\n      <th>registrations__buildtype_coupe</th>\n      <th>registrations__buildtype_kombi</th>\n    </tr>\n  </thead>\n  <tbody>\n    <tr>\n      <th>0</th>\n      <td>1</td>\n      <td>Country A</td>\n      <td>296.0</td>\n      <td>352.0</td>\n      <td>739.0</td>\n      <td>471.0</td>\n      <td>NaN</td>\n      <td>NaN</td>\n      <td>NaN</td>\n      <td>NaN</td>\n      <td>...</td>\n      <td>NaN</td>\n      <td>NaN</td>\n      <td>NaN</td>\n      <td>NaN</td>\n      <td>NaN</td>\n      <td>NaN</td>\n      <td>NaN</td>\n      <td>NaN</td>\n      <td>NaN</td>\n      <td>NaN</td>\n    </tr>\n    <tr>\n      <th>1</th>\n      <td>2</td>\n      <td>Country A</td>\n      <td>414.0</td>\n      <td>372.0</td>\n      <td>904.0</td>\n      <td>528.0</td>\n      <td>NaN</td>\n      <td>NaN</td>\n      <td>NaN</td>\n      <td>NaN</td>\n      <td>...</td>\n      <td>NaN</td>\n      <td>NaN</td>\n      <td>NaN</td>\n      <td>NaN</td>\n      <td>NaN</td>\n      <td>NaN</td>\n      <td>NaN</td>\n      <td>NaN</td>\n      <td>NaN</td>\n      <td>NaN</td>\n    </tr>\n    <tr>\n      <th>2</th>\n      <td>3</td>\n      <td>Country A</td>\n      <td>405.0</td>\n      <td>604.0</td>\n      <td>1000.0</td>\n      <td>953.0</td>\n      <td>NaN</td>\n      <td>NaN</td>\n      <td>NaN</td>\n      <td>NaN</td>\n      <td>...</td>\n      <td>NaN</td>\n      <td>NaN</td>\n      <td>NaN</td>\n      <td>NaN</td>\n      <td>NaN</td>\n      <td>NaN</td>\n      <td>NaN</td>\n      <td>NaN</td>\n      <td>NaN</td>\n      <td>NaN</td>\n    </tr>\n    <tr>\n      <th>3</th>\n      <td>4</td>\n      <td>Country A</td>\n      <td>359.0</td>\n      <td>483.0</td>\n      <td>828.0</td>\n      <td>972.0</td>\n      <td>NaN</td>\n      <td>NaN</td>\n      <td>NaN</td>\n      <td>NaN</td>\n      <td>...</td>\n      <td>NaN</td>\n      <td>NaN</td>\n      <td>NaN</td>\n      <td>NaN</td>\n      <td>NaN</td>\n      <td>NaN</td>\n      <td>NaN</td>\n      <td>NaN</td>\n      <td>NaN</td>\n      <td>NaN</td>\n    </tr>\n    <tr>\n      <th>4</th>\n      <td>5</td>\n      <td>Country A</td>\n      <td>403.0</td>\n      <td>474.0</td>\n      <td>594.0</td>\n      <td>900.0</td>\n      <td>NaN</td>\n      <td>NaN</td>\n      <td>NaN</td>\n      <td>NaN</td>\n      <td>...</td>\n      <td>NaN</td>\n      <td>NaN</td>\n      <td>NaN</td>\n      <td>NaN</td>\n      <td>NaN</td>\n      <td>NaN</td>\n      <td>NaN</td>\n      <td>NaN</td>\n      <td>NaN</td>\n      <td>NaN</td>\n    </tr>\n    <tr>\n      <th>...</th>\n      <td>...</td>\n      <td>...</td>\n      <td>...</td>\n      <td>...</td>\n      <td>...</td>\n      <td>...</td>\n      <td>...</td>\n      <td>...</td>\n      <td>...</td>\n      <td>...</td>\n      <td>...</td>\n      <td>...</td>\n      <td>...</td>\n      <td>...</td>\n      <td>...</td>\n      <td>...</td>\n      <td>...</td>\n      <td>...</td>\n      <td>...</td>\n      <td>...</td>\n      <td>...</td>\n    </tr>\n    <tr>\n      <th>1435</th>\n      <td>356</td>\n      <td>Country D</td>\n      <td>NaN</td>\n      <td>NaN</td>\n      <td>NaN</td>\n      <td>NaN</td>\n      <td>NaN</td>\n      <td>NaN</td>\n      <td>NaN</td>\n      <td>NaN</td>\n      <td>...</td>\n      <td>NaN</td>\n      <td>NaN</td>\n      <td>NaN</td>\n      <td>NaN</td>\n      <td>NaN</td>\n      <td>NaN</td>\n      <td>NaN</td>\n      <td>NaN</td>\n      <td>NaN</td>\n      <td>NaN</td>\n    </tr>\n    <tr>\n      <th>1436</th>\n      <td>357</td>\n      <td>Country D</td>\n      <td>NaN</td>\n      <td>NaN</td>\n      <td>NaN</td>\n      <td>NaN</td>\n      <td>NaN</td>\n      <td>NaN</td>\n      <td>NaN</td>\n      <td>NaN</td>\n      <td>...</td>\n      <td>NaN</td>\n      <td>NaN</td>\n      <td>NaN</td>\n      <td>NaN</td>\n      <td>NaN</td>\n      <td>NaN</td>\n      <td>NaN</td>\n      <td>NaN</td>\n      <td>NaN</td>\n      <td>NaN</td>\n    </tr>\n    <tr>\n      <th>1437</th>\n      <td>358</td>\n      <td>Country D</td>\n      <td>NaN</td>\n      <td>NaN</td>\n      <td>NaN</td>\n      <td>NaN</td>\n      <td>NaN</td>\n      <td>NaN</td>\n      <td>NaN</td>\n      <td>NaN</td>\n      <td>...</td>\n      <td>NaN</td>\n      <td>NaN</td>\n      <td>NaN</td>\n      <td>NaN</td>\n      <td>NaN</td>\n      <td>NaN</td>\n      <td>NaN</td>\n      <td>NaN</td>\n      <td>NaN</td>\n      <td>NaN</td>\n    </tr>\n    <tr>\n      <th>1438</th>\n      <td>359</td>\n      <td>Country D</td>\n      <td>NaN</td>\n      <td>NaN</td>\n      <td>NaN</td>\n      <td>NaN</td>\n      <td>NaN</td>\n      <td>NaN</td>\n      <td>NaN</td>\n      <td>NaN</td>\n      <td>...</td>\n      <td>NaN</td>\n      <td>NaN</td>\n      <td>NaN</td>\n      <td>NaN</td>\n      <td>NaN</td>\n      <td>NaN</td>\n      <td>NaN</td>\n      <td>NaN</td>\n      <td>NaN</td>\n      <td>NaN</td>\n    </tr>\n    <tr>\n      <th>1439</th>\n      <td>360</td>\n      <td>Country D</td>\n      <td>NaN</td>\n      <td>NaN</td>\n      <td>NaN</td>\n      <td>NaN</td>\n      <td>NaN</td>\n      <td>NaN</td>\n      <td>NaN</td>\n      <td>NaN</td>\n      <td>...</td>\n      <td>NaN</td>\n      <td>NaN</td>\n      <td>NaN</td>\n      <td>NaN</td>\n      <td>NaN</td>\n      <td>NaN</td>\n      <td>NaN</td>\n      <td>NaN</td>\n      <td>NaN</td>\n      <td>NaN</td>\n    </tr>\n  </tbody>\n</table>\n<p>1440 rows × 2369 columns</p>\n</div>"
     },
     "execution_count": 27,
     "metadata": {},
     "output_type": "execute_result"
    }
   ],
   "source": [
    "df = pd.read_csv(\"kitCapstoneJan24_data.csv\", sep=\";\")\n",
    "df"
   ]
  },
  {
   "cell_type": "code",
   "execution_count": 28,
   "id": "1e392f22aaf12b9c",
   "metadata": {
    "collapsed": false,
    "ExecuteTime": {
     "end_time": "2024-01-30T11:34:03.464260Z",
     "start_time": "2024-01-30T11:34:03.455001Z"
    }
   },
   "outputs": [],
   "source": [
    "## Filtering data for Country A\n",
    "df = df[df.countryname == \"Country A\"]\n",
    "df = df[df.month < 250]"
   ]
  },
  {
   "cell_type": "code",
   "execution_count": 29,
   "id": "c5c906ec1cc69950",
   "metadata": {
    "collapsed": false,
    "ExecuteTime": {
     "end_time": "2024-01-30T11:34:07.783480Z",
     "start_time": "2024-01-30T11:34:07.781369Z"
    }
   },
   "outputs": [
    {
     "data": {
      "text/plain": "     sales_actuals_monthly__vehiclegroup01__orderintake  \\\n0                                                296.0    \n1                                                414.0    \n2                                                405.0    \n3                                                359.0    \n4                                                403.0    \n..                                                 ...    \n244                                              351.0    \n245                                              536.0    \n246                                              371.0    \n247                                              304.0    \n248                                              287.0    \n\n     sales_actuals_monthly__vehiclegroup01__retail  \\\n0                                            352.0   \n1                                            372.0   \n2                                            604.0   \n3                                            483.0   \n4                                            474.0   \n..                                             ...   \n244                                          400.0   \n245                                          447.0   \n246                                          594.0   \n247                                          240.0   \n248                                          188.0   \n\n     sales_flow_monthly__vehiclegroup01__cp8  \\\n0                                        NaN   \n1                                        NaN   \n2                                        NaN   \n3                                        NaN   \n4                                        NaN   \n..                                       ...   \n244                                    191.0   \n245                                    285.0   \n246                                    249.0   \n247                                     15.0   \n248                                    234.0   \n\n     sales_stock_monthly__vehiclegroup01__physical  \\\n0                                              NaN   \n1                                              NaN   \n2                                              NaN   \n3                                              NaN   \n4                                              NaN   \n..                                             ...   \n244                                          547.0   \n245                                          427.0   \n246                                          290.0   \n247                                          124.0   \n248                                          150.0   \n\n     sales_stock_monthly__vehiclegroup01__grossall  \\\n0                                              NaN   \n1                                              NaN   \n2                                              NaN   \n3                                              NaN   \n4                                              NaN   \n..                                             ...   \n244                                          437.0   \n245                                          406.0   \n246                                          249.0   \n247                                          109.0   \n248                                          198.0   \n\n     sales_stock_monthly__vehiclegroup01__netimporteranddealer  \\\n0                                                  NaN           \n1                                                  NaN           \n2                                                  NaN           \n3                                                  NaN           \n4                                                  NaN           \n..                                                 ...           \n244                                              446.0           \n245                                              193.0           \n246                                              156.0           \n247                                               91.0           \n248                                               73.0           \n\n     customer_vehicle_relationships__vehiclegroup01__terminated_cars  \\\n0                                                  0.0                 \n1                                                  1.0                 \n2                                                  2.0                 \n3                                                  2.0                 \n4                                                 10.0                 \n..                                                 ...                 \n244                                              472.0                 \n245                                              531.0                 \n246                                              555.0                 \n247                                              461.0                 \n248                                              424.0                 \n\n     customer_vehicle_relationships__vehiclegroup01__active_cars  \\\n0                                                 25.0             \n1                                                102.0             \n2                                                152.0             \n3                                                 75.0             \n4                                                 91.0             \n..                                                 ...             \n244                                              779.0             \n245                                              926.0             \n246                                              931.0             \n247                                              745.0             \n248                                              732.0             \n\n     leads__vehiclegroup01__won  leads__vehiclegroup01__first_touch_point  \\\n0                           NaN                                       NaN   \n1                           NaN                                       NaN   \n2                           NaN                                       NaN   \n3                           NaN                                       NaN   \n4                           NaN                                       NaN   \n..                          ...                                       ...   \n244                       663.0                                     245.0   \n245                       863.0                                     265.0   \n246                       765.0                                     251.0   \n247                       611.0                                     199.0   \n248                       595.0                                     210.0   \n\n     ...  registrations__buildtype_suv  registrations__buildtype_transport  \\\n0    ...                           NaN                                 NaN   \n1    ...                           NaN                                 NaN   \n2    ...                           NaN                                 NaN   \n3    ...                           NaN                                 NaN   \n4    ...                           NaN                                 NaN   \n..   ...                           ...                                 ...   \n244  ...                       57882.0                             33701.0   \n245  ...                       73501.0                             40542.0   \n246  ...                      106156.0                             50455.0   \n247  ...                       86244.0                             43338.0   \n248  ...                       90473.0                             42691.0   \n\n     registrations__buildtype_van  registrations__buildtype_cabrio  \\\n0                             NaN                              NaN   \n1                             NaN                              NaN   \n2                             NaN                              NaN   \n3                             NaN                              NaN   \n4                             NaN                              NaN   \n..                            ...                              ...   \n244                        4002.0                           4479.0   \n245                        4997.0                           5212.0   \n246                        7039.0                           8140.0   \n247                        5776.0                           4532.0   \n248                        4929.0                           4489.0   \n\n     registrations__buildtype_stufenheck  registrations__buildtype_kurzheck  \\\n0                                    NaN                                NaN   \n1                                    NaN                                NaN   \n2                                    NaN                                NaN   \n3                                    NaN                                NaN   \n4                                    NaN                                NaN   \n..                                   ...                                ...   \n244                               8448.0                            42697.0   \n245                              11657.0                            60014.0   \n246                              18242.0                            89183.0   \n247                              15866.0                            73458.0   \n248                              14834.0                            83384.0   \n\n     registrations__buildtype_other  registrations__buildtype_pickup  \\\n0                               NaN                              NaN   \n1                               NaN                              NaN   \n2                               NaN                              NaN   \n3                               NaN                              NaN   \n4                               NaN                              NaN   \n..                              ...                              ...   \n244                          1762.0                           1401.0   \n245                          3018.0                           2035.0   \n246                          3065.0                           1813.0   \n247                          2907.0                           1560.0   \n248                          4869.0                           1013.0   \n\n     registrations__buildtype_coupe registrations__buildtype_kombi  \n0                               NaN                            NaN  \n1                               NaN                            NaN  \n2                               NaN                            NaN  \n3                               NaN                            NaN  \n4                               NaN                            NaN  \n..                              ...                            ...  \n244                          1465.0                        28421.0  \n245                          2143.0                        38638.0  \n246                          3177.0                        52735.0  \n247                          2300.0                        38905.0  \n248                          2307.0                        41362.0  \n\n[249 rows x 1439 columns]",
      "text/html": "<div>\n<style scoped>\n    .dataframe tbody tr th:only-of-type {\n        vertical-align: middle;\n    }\n\n    .dataframe tbody tr th {\n        vertical-align: top;\n    }\n\n    .dataframe thead th {\n        text-align: right;\n    }\n</style>\n<table border=\"1\" class=\"dataframe\">\n  <thead>\n    <tr style=\"text-align: right;\">\n      <th></th>\n      <th>sales_actuals_monthly__vehiclegroup01__orderintake</th>\n      <th>sales_actuals_monthly__vehiclegroup01__retail</th>\n      <th>sales_flow_monthly__vehiclegroup01__cp8</th>\n      <th>sales_stock_monthly__vehiclegroup01__physical</th>\n      <th>sales_stock_monthly__vehiclegroup01__grossall</th>\n      <th>sales_stock_monthly__vehiclegroup01__netimporteranddealer</th>\n      <th>customer_vehicle_relationships__vehiclegroup01__terminated_cars</th>\n      <th>customer_vehicle_relationships__vehiclegroup01__active_cars</th>\n      <th>leads__vehiclegroup01__won</th>\n      <th>leads__vehiclegroup01__first_touch_point</th>\n      <th>...</th>\n      <th>registrations__buildtype_suv</th>\n      <th>registrations__buildtype_transport</th>\n      <th>registrations__buildtype_van</th>\n      <th>registrations__buildtype_cabrio</th>\n      <th>registrations__buildtype_stufenheck</th>\n      <th>registrations__buildtype_kurzheck</th>\n      <th>registrations__buildtype_other</th>\n      <th>registrations__buildtype_pickup</th>\n      <th>registrations__buildtype_coupe</th>\n      <th>registrations__buildtype_kombi</th>\n    </tr>\n  </thead>\n  <tbody>\n    <tr>\n      <th>0</th>\n      <td>296.0</td>\n      <td>352.0</td>\n      <td>NaN</td>\n      <td>NaN</td>\n      <td>NaN</td>\n      <td>NaN</td>\n      <td>0.0</td>\n      <td>25.0</td>\n      <td>NaN</td>\n      <td>NaN</td>\n      <td>...</td>\n      <td>NaN</td>\n      <td>NaN</td>\n      <td>NaN</td>\n      <td>NaN</td>\n      <td>NaN</td>\n      <td>NaN</td>\n      <td>NaN</td>\n      <td>NaN</td>\n      <td>NaN</td>\n      <td>NaN</td>\n    </tr>\n    <tr>\n      <th>1</th>\n      <td>414.0</td>\n      <td>372.0</td>\n      <td>NaN</td>\n      <td>NaN</td>\n      <td>NaN</td>\n      <td>NaN</td>\n      <td>1.0</td>\n      <td>102.0</td>\n      <td>NaN</td>\n      <td>NaN</td>\n      <td>...</td>\n      <td>NaN</td>\n      <td>NaN</td>\n      <td>NaN</td>\n      <td>NaN</td>\n      <td>NaN</td>\n      <td>NaN</td>\n      <td>NaN</td>\n      <td>NaN</td>\n      <td>NaN</td>\n      <td>NaN</td>\n    </tr>\n    <tr>\n      <th>2</th>\n      <td>405.0</td>\n      <td>604.0</td>\n      <td>NaN</td>\n      <td>NaN</td>\n      <td>NaN</td>\n      <td>NaN</td>\n      <td>2.0</td>\n      <td>152.0</td>\n      <td>NaN</td>\n      <td>NaN</td>\n      <td>...</td>\n      <td>NaN</td>\n      <td>NaN</td>\n      <td>NaN</td>\n      <td>NaN</td>\n      <td>NaN</td>\n      <td>NaN</td>\n      <td>NaN</td>\n      <td>NaN</td>\n      <td>NaN</td>\n      <td>NaN</td>\n    </tr>\n    <tr>\n      <th>3</th>\n      <td>359.0</td>\n      <td>483.0</td>\n      <td>NaN</td>\n      <td>NaN</td>\n      <td>NaN</td>\n      <td>NaN</td>\n      <td>2.0</td>\n      <td>75.0</td>\n      <td>NaN</td>\n      <td>NaN</td>\n      <td>...</td>\n      <td>NaN</td>\n      <td>NaN</td>\n      <td>NaN</td>\n      <td>NaN</td>\n      <td>NaN</td>\n      <td>NaN</td>\n      <td>NaN</td>\n      <td>NaN</td>\n      <td>NaN</td>\n      <td>NaN</td>\n    </tr>\n    <tr>\n      <th>4</th>\n      <td>403.0</td>\n      <td>474.0</td>\n      <td>NaN</td>\n      <td>NaN</td>\n      <td>NaN</td>\n      <td>NaN</td>\n      <td>10.0</td>\n      <td>91.0</td>\n      <td>NaN</td>\n      <td>NaN</td>\n      <td>...</td>\n      <td>NaN</td>\n      <td>NaN</td>\n      <td>NaN</td>\n      <td>NaN</td>\n      <td>NaN</td>\n      <td>NaN</td>\n      <td>NaN</td>\n      <td>NaN</td>\n      <td>NaN</td>\n      <td>NaN</td>\n    </tr>\n    <tr>\n      <th>...</th>\n      <td>...</td>\n      <td>...</td>\n      <td>...</td>\n      <td>...</td>\n      <td>...</td>\n      <td>...</td>\n      <td>...</td>\n      <td>...</td>\n      <td>...</td>\n      <td>...</td>\n      <td>...</td>\n      <td>...</td>\n      <td>...</td>\n      <td>...</td>\n      <td>...</td>\n      <td>...</td>\n      <td>...</td>\n      <td>...</td>\n      <td>...</td>\n      <td>...</td>\n      <td>...</td>\n    </tr>\n    <tr>\n      <th>244</th>\n      <td>351.0</td>\n      <td>400.0</td>\n      <td>191.0</td>\n      <td>547.0</td>\n      <td>437.0</td>\n      <td>446.0</td>\n      <td>472.0</td>\n      <td>779.0</td>\n      <td>663.0</td>\n      <td>245.0</td>\n      <td>...</td>\n      <td>57882.0</td>\n      <td>33701.0</td>\n      <td>4002.0</td>\n      <td>4479.0</td>\n      <td>8448.0</td>\n      <td>42697.0</td>\n      <td>1762.0</td>\n      <td>1401.0</td>\n      <td>1465.0</td>\n      <td>28421.0</td>\n    </tr>\n    <tr>\n      <th>245</th>\n      <td>536.0</td>\n      <td>447.0</td>\n      <td>285.0</td>\n      <td>427.0</td>\n      <td>406.0</td>\n      <td>193.0</td>\n      <td>531.0</td>\n      <td>926.0</td>\n      <td>863.0</td>\n      <td>265.0</td>\n      <td>...</td>\n      <td>73501.0</td>\n      <td>40542.0</td>\n      <td>4997.0</td>\n      <td>5212.0</td>\n      <td>11657.0</td>\n      <td>60014.0</td>\n      <td>3018.0</td>\n      <td>2035.0</td>\n      <td>2143.0</td>\n      <td>38638.0</td>\n    </tr>\n    <tr>\n      <th>246</th>\n      <td>371.0</td>\n      <td>594.0</td>\n      <td>249.0</td>\n      <td>290.0</td>\n      <td>249.0</td>\n      <td>156.0</td>\n      <td>555.0</td>\n      <td>931.0</td>\n      <td>765.0</td>\n      <td>251.0</td>\n      <td>...</td>\n      <td>106156.0</td>\n      <td>50455.0</td>\n      <td>7039.0</td>\n      <td>8140.0</td>\n      <td>18242.0</td>\n      <td>89183.0</td>\n      <td>3065.0</td>\n      <td>1813.0</td>\n      <td>3177.0</td>\n      <td>52735.0</td>\n    </tr>\n    <tr>\n      <th>247</th>\n      <td>304.0</td>\n      <td>240.0</td>\n      <td>15.0</td>\n      <td>124.0</td>\n      <td>109.0</td>\n      <td>91.0</td>\n      <td>461.0</td>\n      <td>745.0</td>\n      <td>611.0</td>\n      <td>199.0</td>\n      <td>...</td>\n      <td>86244.0</td>\n      <td>43338.0</td>\n      <td>5776.0</td>\n      <td>4532.0</td>\n      <td>15866.0</td>\n      <td>73458.0</td>\n      <td>2907.0</td>\n      <td>1560.0</td>\n      <td>2300.0</td>\n      <td>38905.0</td>\n    </tr>\n    <tr>\n      <th>248</th>\n      <td>287.0</td>\n      <td>188.0</td>\n      <td>234.0</td>\n      <td>150.0</td>\n      <td>198.0</td>\n      <td>73.0</td>\n      <td>424.0</td>\n      <td>732.0</td>\n      <td>595.0</td>\n      <td>210.0</td>\n      <td>...</td>\n      <td>90473.0</td>\n      <td>42691.0</td>\n      <td>4929.0</td>\n      <td>4489.0</td>\n      <td>14834.0</td>\n      <td>83384.0</td>\n      <td>4869.0</td>\n      <td>1013.0</td>\n      <td>2307.0</td>\n      <td>41362.0</td>\n    </tr>\n  </tbody>\n</table>\n<p>249 rows × 1439 columns</p>\n</div>"
     },
     "execution_count": 29,
     "metadata": {},
     "output_type": "execute_result"
    }
   ],
   "source": [
    "# Assuming 'df' is your DataFrame\n",
    "# Replace 'your_vehicle_group01_column' with the actual name of the column for vehicle group 01\n",
    "\n",
    "# Filter out columns for vehicle group 01\n",
    "filtered_columns = [col for col in df.columns if 'vehiclegroup01' in col.lower()]\n",
    "\n",
    "# Include other columns unrelated to vehicle groups\n",
    "unrelated_columns = [col for col in df.columns if 'vehiclegroup' not in col.lower()]\n",
    "\n",
    "# Combine both sets of columns\n",
    "selected_columns = filtered_columns + unrelated_columns\n",
    "\n",
    "# Create a new DataFrame with the selected columns\n",
    "filtered_df = df[selected_columns]\n",
    "filtered_df"
   ]
  },
  {
   "cell_type": "code",
   "execution_count": 30,
   "id": "135a427384e9e312",
   "metadata": {
    "collapsed": false,
    "ExecuteTime": {
     "end_time": "2024-01-30T11:34:24.649857Z",
     "start_time": "2024-01-30T11:34:24.617289Z"
    }
   },
   "outputs": [
    {
     "data": {
      "text/plain": "     month  sales_actuals_monthly__vehiclegroup01__orderintake  \\\n0        1                                              296.0    \n1        2                                              414.0    \n2        3                                              405.0    \n3        4                                              359.0    \n4        5                                              403.0    \n..     ...                                                ...    \n244    245                                              351.0    \n245    246                                              536.0    \n246    247                                              371.0    \n247    248                                              304.0    \n248    249                                              287.0    \n\n     sales_actuals_monthly__vehiclegroup01__retail  \\\n0                                            352.0   \n1                                            372.0   \n2                                            604.0   \n3                                            483.0   \n4                                            474.0   \n..                                             ...   \n244                                          400.0   \n245                                          447.0   \n246                                          594.0   \n247                                          240.0   \n248                                          188.0   \n\n     sales_actuals_monthly__vehiclegroup02__orderintake  \\\n0                                                739.0    \n1                                                904.0    \n2                                               1000.0    \n3                                                828.0    \n4                                                594.0    \n..                                                 ...    \n244                                              133.0    \n245                                              180.0    \n246                                              211.0    \n247                                              206.0    \n248                                              289.0    \n\n     sales_actuals_monthly__vehiclegroup02__retail  \\\n0                                            471.0   \n1                                            528.0   \n2                                            953.0   \n3                                            972.0   \n4                                            900.0   \n..                                             ...   \n244                                          162.0   \n245                                          145.0   \n246                                          423.0   \n247                                          178.0   \n248                                          134.0   \n\n     sales_actuals_monthly__vehiclegroup07__orderintake  \\\n0                                                607.0    \n1                                                731.0    \n2                                               1000.0    \n3                                                835.0    \n4                                                494.0    \n..                                                 ...    \n244                                               80.0    \n245                                              116.0    \n246                                               93.0    \n247                                               83.0    \n248                                               98.0    \n\n     sales_actuals_monthly__vehiclegroup07__retail  \\\n0                                            408.0   \n1                                            474.0   \n2                                            928.0   \n3                                           1000.0   \n4                                            873.0   \n..                                             ...   \n244                                          105.0   \n245                                           74.0   \n246                                          146.0   \n247                                           63.0   \n248                                           85.0   \n\n     sales_actuals_monthly__vehiclegroup08__orderintake  \\\n0                                                614.0    \n1                                                768.0    \n2                                                573.0    \n3                                                464.0    \n4                                                487.0    \n..                                                 ...    \n244                                              116.0    \n245                                              161.0    \n246                                              180.0    \n247                                              184.0    \n248                                              262.0    \n\n     sales_actuals_monthly__vehiclegroup08__retail  \\\n0                                            495.0   \n1                                            534.0   \n2                                            869.0   \n3                                            820.0   \n4                                            827.0   \n..                                             ...   \n244                                           32.0   \n245                                           92.0   \n246                                          318.0   \n247                                          145.0   \n248                                           64.0   \n\n     sales_actuals_monthly__vehiclegroup13__orderintake  ...  \\\n0                                                518.0   ...   \n1                                                737.0   ...   \n2                                                792.0   ...   \n3                                                706.0   ...   \n4                                                783.0   ...   \n..                                                 ...   ...   \n244                                              292.0   ...   \n245                                              393.0   ...   \n246                                              258.0   ...   \n247                                              210.0   ...   \n248                                              206.0   ...   \n\n     global_economy__unspecified_revenue_total_otherwise_current_of_gdp_unspecified_government__percentage  \\\n0                                            45.906416                                                       \n1                                            45.906416                                                       \n2                                            45.906416                                                       \n3                                            46.473638                                                       \n4                                            46.473638                                                       \n..                                                 ...                                                       \n244                                          47.150566                                                       \n245                                          47.150566                                                       \n246                                          45.313979                                                       \n247                                          45.313979                                                       \n248                                          45.313979                                                       \n\n     global_economy__user_cost_of_capital__percentage  \\\n0                                                 0.0   \n1                                                 0.0   \n2                                                 0.0   \n3                                                 0.0   \n4                                                 0.0   \n..                                                ...   \n244                                               0.0   \n245                                               0.0   \n246                                               0.0   \n247                                               0.0   \n248                                               0.0   \n\n     global_economy__wages_and_salaries_gross_euro__euro  \\\n0                                              890.036     \n1                                              890.036     \n2                                              890.036     \n3                                              896.952     \n4                                              896.952     \n..                                                 ...     \n244                                           1464.472     \n245                                           1464.472     \n246                                           1512.424     \n247                                           1512.424     \n248                                           1512.424     \n\n     global_economy__wages_and_salaries_gross_lcu__chinese_renminbi  \\\n0                                                  0.0                \n1                                                  0.0                \n2                                                  0.0                \n3                                                  0.0                \n4                                                  0.0                \n..                                                 ...                \n244                                                0.0                \n245                                                0.0                \n246                                                0.0                \n247                                                0.0                \n248                                                0.0                \n\n     global_economy__wages_and_salaries_gross_lcu__euro  \\\n0                                              890.036    \n1                                              890.036    \n2                                              890.036    \n3                                              896.952    \n4                                              896.952    \n..                                                 ...    \n244                                           1464.472    \n245                                           1464.472    \n246                                           1512.424    \n247                                           1512.424    \n248                                           1512.424    \n\n     global_economy__wages_and_salaries_gross_us__u_s_dollar  \\\n0                                           878.213190         \n1                                           878.213190         \n2                                           878.213190         \n3                                           837.428237         \n4                                           837.428237         \n..                                                 ...         \n244                                        1611.436244         \n245                                        1611.436244         \n246                                        1768.326817         \n247                                        1768.326817         \n248                                        1768.326817         \n\n     global_economy__wholesale_producer_price_index_euro_basis__index  \\\n0                                            78.296552                  \n1                                            78.296552                  \n2                                            78.296552                  \n3                                            78.792610                  \n4                                            78.792610                  \n..                                                 ...                  \n244                                         103.212279                  \n245                                         103.212279                  \n246                                         103.522741                  \n247                                         103.522741                  \n248                                         103.522741                  \n\n     global_economy__wholesale_producer_price_index_us_basis__index  \\\n0                                            71.467544                \n1                                            69.370806                \n2                                            68.111474                \n3                                            67.013669                \n4                                            64.330339                \n..                                                 ...                \n244                                         101.303378                \n245                                         104.670293                \n246                                         106.623891                \n247                                         110.252011                \n248                                         110.171948                \n\n     global_economy__wholesale_producer_price_index_year_on_year_percent_change__percent_change_year_ago  \\\n0                                             2.010050                                                     \n1                                             2.138365                                                     \n2                                             2.264151                                                     \n3                                             2.125000                                                     \n4                                             2.500000                                                     \n..                                                 ...                                                     \n244                                          -2.184236                                                     \n245                                          -1.811249                                                     \n246                                          -1.714286                                                     \n247                                          -1.244019                                                     \n248                                          -0.956023                                                     \n\n     global_economy__working_age_population__persons  \n0                                          55.501656  \n1                                          55.501656  \n2                                          55.501656  \n3                                          55.450425  \n4                                          55.450425  \n..                                               ...  \n244                                        53.594035  \n245                                        53.594035  \n246                                        53.544773  \n247                                        53.544773  \n248                                        53.544773  \n\n[249 rows x 1404 columns]",
      "text/html": "<div>\n<style scoped>\n    .dataframe tbody tr th:only-of-type {\n        vertical-align: middle;\n    }\n\n    .dataframe tbody tr th {\n        vertical-align: top;\n    }\n\n    .dataframe thead th {\n        text-align: right;\n    }\n</style>\n<table border=\"1\" class=\"dataframe\">\n  <thead>\n    <tr style=\"text-align: right;\">\n      <th></th>\n      <th>month</th>\n      <th>sales_actuals_monthly__vehiclegroup01__orderintake</th>\n      <th>sales_actuals_monthly__vehiclegroup01__retail</th>\n      <th>sales_actuals_monthly__vehiclegroup02__orderintake</th>\n      <th>sales_actuals_monthly__vehiclegroup02__retail</th>\n      <th>sales_actuals_monthly__vehiclegroup07__orderintake</th>\n      <th>sales_actuals_monthly__vehiclegroup07__retail</th>\n      <th>sales_actuals_monthly__vehiclegroup08__orderintake</th>\n      <th>sales_actuals_monthly__vehiclegroup08__retail</th>\n      <th>sales_actuals_monthly__vehiclegroup13__orderintake</th>\n      <th>...</th>\n      <th>global_economy__unspecified_revenue_total_otherwise_current_of_gdp_unspecified_government__percentage</th>\n      <th>global_economy__user_cost_of_capital__percentage</th>\n      <th>global_economy__wages_and_salaries_gross_euro__euro</th>\n      <th>global_economy__wages_and_salaries_gross_lcu__chinese_renminbi</th>\n      <th>global_economy__wages_and_salaries_gross_lcu__euro</th>\n      <th>global_economy__wages_and_salaries_gross_us__u_s_dollar</th>\n      <th>global_economy__wholesale_producer_price_index_euro_basis__index</th>\n      <th>global_economy__wholesale_producer_price_index_us_basis__index</th>\n      <th>global_economy__wholesale_producer_price_index_year_on_year_percent_change__percent_change_year_ago</th>\n      <th>global_economy__working_age_population__persons</th>\n    </tr>\n  </thead>\n  <tbody>\n    <tr>\n      <th>0</th>\n      <td>1</td>\n      <td>296.0</td>\n      <td>352.0</td>\n      <td>739.0</td>\n      <td>471.0</td>\n      <td>607.0</td>\n      <td>408.0</td>\n      <td>614.0</td>\n      <td>495.0</td>\n      <td>518.0</td>\n      <td>...</td>\n      <td>45.906416</td>\n      <td>0.0</td>\n      <td>890.036</td>\n      <td>0.0</td>\n      <td>890.036</td>\n      <td>878.213190</td>\n      <td>78.296552</td>\n      <td>71.467544</td>\n      <td>2.010050</td>\n      <td>55.501656</td>\n    </tr>\n    <tr>\n      <th>1</th>\n      <td>2</td>\n      <td>414.0</td>\n      <td>372.0</td>\n      <td>904.0</td>\n      <td>528.0</td>\n      <td>731.0</td>\n      <td>474.0</td>\n      <td>768.0</td>\n      <td>534.0</td>\n      <td>737.0</td>\n      <td>...</td>\n      <td>45.906416</td>\n      <td>0.0</td>\n      <td>890.036</td>\n      <td>0.0</td>\n      <td>890.036</td>\n      <td>878.213190</td>\n      <td>78.296552</td>\n      <td>69.370806</td>\n      <td>2.138365</td>\n      <td>55.501656</td>\n    </tr>\n    <tr>\n      <th>2</th>\n      <td>3</td>\n      <td>405.0</td>\n      <td>604.0</td>\n      <td>1000.0</td>\n      <td>953.0</td>\n      <td>1000.0</td>\n      <td>928.0</td>\n      <td>573.0</td>\n      <td>869.0</td>\n      <td>792.0</td>\n      <td>...</td>\n      <td>45.906416</td>\n      <td>0.0</td>\n      <td>890.036</td>\n      <td>0.0</td>\n      <td>890.036</td>\n      <td>878.213190</td>\n      <td>78.296552</td>\n      <td>68.111474</td>\n      <td>2.264151</td>\n      <td>55.501656</td>\n    </tr>\n    <tr>\n      <th>3</th>\n      <td>4</td>\n      <td>359.0</td>\n      <td>483.0</td>\n      <td>828.0</td>\n      <td>972.0</td>\n      <td>835.0</td>\n      <td>1000.0</td>\n      <td>464.0</td>\n      <td>820.0</td>\n      <td>706.0</td>\n      <td>...</td>\n      <td>46.473638</td>\n      <td>0.0</td>\n      <td>896.952</td>\n      <td>0.0</td>\n      <td>896.952</td>\n      <td>837.428237</td>\n      <td>78.792610</td>\n      <td>67.013669</td>\n      <td>2.125000</td>\n      <td>55.450425</td>\n    </tr>\n    <tr>\n      <th>4</th>\n      <td>5</td>\n      <td>403.0</td>\n      <td>474.0</td>\n      <td>594.0</td>\n      <td>900.0</td>\n      <td>494.0</td>\n      <td>873.0</td>\n      <td>487.0</td>\n      <td>827.0</td>\n      <td>783.0</td>\n      <td>...</td>\n      <td>46.473638</td>\n      <td>0.0</td>\n      <td>896.952</td>\n      <td>0.0</td>\n      <td>896.952</td>\n      <td>837.428237</td>\n      <td>78.792610</td>\n      <td>64.330339</td>\n      <td>2.500000</td>\n      <td>55.450425</td>\n    </tr>\n    <tr>\n      <th>...</th>\n      <td>...</td>\n      <td>...</td>\n      <td>...</td>\n      <td>...</td>\n      <td>...</td>\n      <td>...</td>\n      <td>...</td>\n      <td>...</td>\n      <td>...</td>\n      <td>...</td>\n      <td>...</td>\n      <td>...</td>\n      <td>...</td>\n      <td>...</td>\n      <td>...</td>\n      <td>...</td>\n      <td>...</td>\n      <td>...</td>\n      <td>...</td>\n      <td>...</td>\n      <td>...</td>\n    </tr>\n    <tr>\n      <th>244</th>\n      <td>245</td>\n      <td>351.0</td>\n      <td>400.0</td>\n      <td>133.0</td>\n      <td>162.0</td>\n      <td>80.0</td>\n      <td>105.0</td>\n      <td>116.0</td>\n      <td>32.0</td>\n      <td>292.0</td>\n      <td>...</td>\n      <td>47.150566</td>\n      <td>0.0</td>\n      <td>1464.472</td>\n      <td>0.0</td>\n      <td>1464.472</td>\n      <td>1611.436244</td>\n      <td>103.212279</td>\n      <td>101.303378</td>\n      <td>-2.184236</td>\n      <td>53.594035</td>\n    </tr>\n    <tr>\n      <th>245</th>\n      <td>246</td>\n      <td>536.0</td>\n      <td>447.0</td>\n      <td>180.0</td>\n      <td>145.0</td>\n      <td>116.0</td>\n      <td>74.0</td>\n      <td>161.0</td>\n      <td>92.0</td>\n      <td>393.0</td>\n      <td>...</td>\n      <td>47.150566</td>\n      <td>0.0</td>\n      <td>1464.472</td>\n      <td>0.0</td>\n      <td>1464.472</td>\n      <td>1611.436244</td>\n      <td>103.212279</td>\n      <td>104.670293</td>\n      <td>-1.811249</td>\n      <td>53.594035</td>\n    </tr>\n    <tr>\n      <th>246</th>\n      <td>247</td>\n      <td>371.0</td>\n      <td>594.0</td>\n      <td>211.0</td>\n      <td>423.0</td>\n      <td>93.0</td>\n      <td>146.0</td>\n      <td>180.0</td>\n      <td>318.0</td>\n      <td>258.0</td>\n      <td>...</td>\n      <td>45.313979</td>\n      <td>0.0</td>\n      <td>1512.424</td>\n      <td>0.0</td>\n      <td>1512.424</td>\n      <td>1768.326817</td>\n      <td>103.522741</td>\n      <td>106.623891</td>\n      <td>-1.714286</td>\n      <td>53.544773</td>\n    </tr>\n    <tr>\n      <th>247</th>\n      <td>248</td>\n      <td>304.0</td>\n      <td>240.0</td>\n      <td>206.0</td>\n      <td>178.0</td>\n      <td>83.0</td>\n      <td>63.0</td>\n      <td>184.0</td>\n      <td>145.0</td>\n      <td>210.0</td>\n      <td>...</td>\n      <td>45.313979</td>\n      <td>0.0</td>\n      <td>1512.424</td>\n      <td>0.0</td>\n      <td>1512.424</td>\n      <td>1768.326817</td>\n      <td>103.522741</td>\n      <td>110.252011</td>\n      <td>-1.244019</td>\n      <td>53.544773</td>\n    </tr>\n    <tr>\n      <th>248</th>\n      <td>249</td>\n      <td>287.0</td>\n      <td>188.0</td>\n      <td>289.0</td>\n      <td>134.0</td>\n      <td>98.0</td>\n      <td>85.0</td>\n      <td>262.0</td>\n      <td>64.0</td>\n      <td>206.0</td>\n      <td>...</td>\n      <td>45.313979</td>\n      <td>0.0</td>\n      <td>1512.424</td>\n      <td>0.0</td>\n      <td>1512.424</td>\n      <td>1768.326817</td>\n      <td>103.522741</td>\n      <td>110.171948</td>\n      <td>-0.956023</td>\n      <td>53.544773</td>\n    </tr>\n  </tbody>\n</table>\n<p>249 rows × 1404 columns</p>\n</div>"
     },
     "execution_count": 30,
     "metadata": {},
     "output_type": "execute_result"
    }
   ],
   "source": [
    "import pandas as pd\n",
    "\n",
    "# Assuming 'your_dataframe' is your original DataFrame\n",
    "\n",
    "# Identify columns with text values\n",
    "text_columns = df.select_dtypes(include=['object']).columns\n",
    "\n",
    "# Drop columns with text values and NaN values\n",
    "cleaned_df = df.drop(text_columns, axis=1).dropna(axis=1, how='any')\n",
    "\n",
    "cleaned_df"
   ]
  },
  {
   "cell_type": "code",
   "execution_count": 31,
   "id": "79292d25e65cb234",
   "metadata": {
    "collapsed": false,
    "ExecuteTime": {
     "end_time": "2024-01-30T11:34:32.693807Z",
     "start_time": "2024-01-30T11:34:31.831827Z"
    }
   },
   "outputs": [
    {
     "name": "stdout",
     "output_type": "stream",
     "text": [
      "                                                       month  \\\n",
      "month                                               1.000000   \n",
      "sales_actuals_monthly__vehiclegroup01__orderintake  0.016929   \n",
      "sales_actuals_monthly__vehiclegroup01__retail      -0.014255   \n",
      "sales_actuals_monthly__vehiclegroup02__orderintake -0.499242   \n",
      "sales_actuals_monthly__vehiclegroup02__retail      -0.449252   \n",
      "...                                                      ...   \n",
      "global_economy__wages_and_salaries_gross_us__u_...  0.915288   \n",
      "global_economy__wholesale_producer_price_index_...  0.917210   \n",
      "global_economy__wholesale_producer_price_index_...  0.547161   \n",
      "global_economy__wholesale_producer_price_index_... -0.280109   \n",
      "global_economy__working_age_population__persons    -0.665825   \n",
      "\n",
      "                                                    sales_actuals_monthly__vehiclegroup01__orderintake  \\\n",
      "month                                                                                        0.016929    \n",
      "sales_actuals_monthly__vehiclegroup01__orderintake                                           1.000000    \n",
      "sales_actuals_monthly__vehiclegroup01__retail                                                0.365593    \n",
      "sales_actuals_monthly__vehiclegroup02__orderintake                                           0.227157    \n",
      "sales_actuals_monthly__vehiclegroup02__retail                                                0.269482    \n",
      "...                                                                                               ...    \n",
      "global_economy__wages_and_salaries_gross_us__u_...                                          -0.058261    \n",
      "global_economy__wholesale_producer_price_index_...                                          -0.003412    \n",
      "global_economy__wholesale_producer_price_index_...                                          -0.111804    \n",
      "global_economy__wholesale_producer_price_index_...                                           0.105606    \n",
      "global_economy__working_age_population__persons                                              0.045933    \n",
      "\n",
      "                                                    sales_actuals_monthly__vehiclegroup01__retail  \\\n",
      "month                                                                                   -0.014255   \n",
      "sales_actuals_monthly__vehiclegroup01__orderintake                                       0.365593   \n",
      "sales_actuals_monthly__vehiclegroup01__retail                                            1.000000   \n",
      "sales_actuals_monthly__vehiclegroup02__orderintake                                       0.376348   \n",
      "sales_actuals_monthly__vehiclegroup02__retail                                            0.619993   \n",
      "...                                                                                           ...   \n",
      "global_economy__wages_and_salaries_gross_us__u_...                                      -0.081143   \n",
      "global_economy__wholesale_producer_price_index_...                                      -0.089133   \n",
      "global_economy__wholesale_producer_price_index_...                                      -0.192836   \n",
      "global_economy__wholesale_producer_price_index_...                                      -0.017293   \n",
      "global_economy__working_age_population__persons                                          0.120609   \n",
      "\n",
      "                                                    sales_actuals_monthly__vehiclegroup02__orderintake  \\\n",
      "month                                                                                       -0.499242    \n",
      "sales_actuals_monthly__vehiclegroup01__orderintake                                           0.227157    \n",
      "sales_actuals_monthly__vehiclegroup01__retail                                                0.376348    \n",
      "sales_actuals_monthly__vehiclegroup02__orderintake                                           1.000000    \n",
      "sales_actuals_monthly__vehiclegroup02__retail                                                0.690151    \n",
      "...                                                                                               ...    \n",
      "global_economy__wages_and_salaries_gross_us__u_...                                          -0.567577    \n",
      "global_economy__wholesale_producer_price_index_...                                          -0.542241    \n",
      "global_economy__wholesale_producer_price_index_...                                          -0.541553    \n",
      "global_economy__wholesale_producer_price_index_...                                           0.068838    \n",
      "global_economy__working_age_population__persons                                              0.620556    \n",
      "\n",
      "                                                    sales_actuals_monthly__vehiclegroup02__retail  \\\n",
      "month                                                                                   -0.449252   \n",
      "sales_actuals_monthly__vehiclegroup01__orderintake                                       0.269482   \n",
      "sales_actuals_monthly__vehiclegroup01__retail                                            0.619993   \n",
      "sales_actuals_monthly__vehiclegroup02__orderintake                                       0.690151   \n",
      "sales_actuals_monthly__vehiclegroup02__retail                                            1.000000   \n",
      "...                                                                                           ...   \n",
      "global_economy__wages_and_salaries_gross_us__u_...                                      -0.541471   \n",
      "global_economy__wholesale_producer_price_index_...                                      -0.528904   \n",
      "global_economy__wholesale_producer_price_index_...                                      -0.570349   \n",
      "global_economy__wholesale_producer_price_index_...                                       0.073505   \n",
      "global_economy__working_age_population__persons                                          0.611220   \n",
      "\n",
      "                                                    sales_actuals_monthly__vehiclegroup07__orderintake  \\\n",
      "month                                                                                       -0.558951    \n",
      "sales_actuals_monthly__vehiclegroup01__orderintake                                           0.245587    \n",
      "sales_actuals_monthly__vehiclegroup01__retail                                                0.350599    \n",
      "sales_actuals_monthly__vehiclegroup02__orderintake                                           0.905885    \n",
      "sales_actuals_monthly__vehiclegroup02__retail                                                0.754799    \n",
      "...                                                                                               ...    \n",
      "global_economy__wages_and_salaries_gross_us__u_...                                          -0.625580    \n",
      "global_economy__wholesale_producer_price_index_...                                          -0.609114    \n",
      "global_economy__wholesale_producer_price_index_...                                          -0.587577    \n",
      "global_economy__wholesale_producer_price_index_...                                           0.117703    \n",
      "global_economy__working_age_population__persons                                              0.672894    \n",
      "\n",
      "                                                    sales_actuals_monthly__vehiclegroup07__retail  \\\n",
      "month                                                                                   -0.476008   \n",
      "sales_actuals_monthly__vehiclegroup01__orderintake                                       0.256801   \n",
      "sales_actuals_monthly__vehiclegroup01__retail                                            0.571005   \n",
      "sales_actuals_monthly__vehiclegroup02__orderintake                                       0.693035   \n",
      "sales_actuals_monthly__vehiclegroup02__retail                                            0.960656   \n",
      "...                                                                                           ...   \n",
      "global_economy__wages_and_salaries_gross_us__u_...                                      -0.565490   \n",
      "global_economy__wholesale_producer_price_index_...                                      -0.548138   \n",
      "global_economy__wholesale_producer_price_index_...                                      -0.585646   \n",
      "global_economy__wholesale_producer_price_index_...                                       0.125648   \n",
      "global_economy__working_age_population__persons                                          0.627452   \n",
      "\n",
      "                                                    sales_actuals_monthly__vehiclegroup08__orderintake  \\\n",
      "month                                                                                       -0.577972    \n",
      "sales_actuals_monthly__vehiclegroup01__orderintake                                           0.177795    \n",
      "sales_actuals_monthly__vehiclegroup01__retail                                                0.284310    \n",
      "sales_actuals_monthly__vehiclegroup02__orderintake                                           0.867732    \n",
      "sales_actuals_monthly__vehiclegroup02__retail                                                0.587731    \n",
      "...                                                                                               ...    \n",
      "global_economy__wages_and_salaries_gross_us__u_...                                          -0.578639    \n",
      "global_economy__wholesale_producer_price_index_...                                          -0.561208    \n",
      "global_economy__wholesale_producer_price_index_...                                          -0.442238    \n",
      "global_economy__wholesale_producer_price_index_...                                           0.104078    \n",
      "global_economy__working_age_population__persons                                              0.593343    \n",
      "\n",
      "                                                    sales_actuals_monthly__vehiclegroup08__retail  \\\n",
      "month                                                                                   -0.517786   \n",
      "sales_actuals_monthly__vehiclegroup01__orderintake                                       0.246088   \n",
      "sales_actuals_monthly__vehiclegroup01__retail                                            0.594063   \n",
      "sales_actuals_monthly__vehiclegroup02__orderintake                                       0.682587   \n",
      "sales_actuals_monthly__vehiclegroup02__retail                                            0.956311   \n",
      "...                                                                                           ...   \n",
      "global_economy__wages_and_salaries_gross_us__u_...                                      -0.559992   \n",
      "global_economy__wholesale_producer_price_index_...                                      -0.549223   \n",
      "global_economy__wholesale_producer_price_index_...                                      -0.511229   \n",
      "global_economy__wholesale_producer_price_index_...                                       0.115966   \n",
      "global_economy__working_age_population__persons                                          0.614691   \n",
      "\n",
      "                                                    sales_actuals_monthly__vehiclegroup13__orderintake  \\\n",
      "month                                                                                       -0.619786    \n",
      "sales_actuals_monthly__vehiclegroup01__orderintake                                           0.342918    \n",
      "sales_actuals_monthly__vehiclegroup01__retail                                                0.260052    \n",
      "sales_actuals_monthly__vehiclegroup02__orderintake                                           0.640498    \n",
      "sales_actuals_monthly__vehiclegroup02__retail                                                0.644171    \n",
      "...                                                                                               ...    \n",
      "global_economy__wages_and_salaries_gross_us__u_...                                          -0.722035    \n",
      "global_economy__wholesale_producer_price_index_...                                          -0.671281    \n",
      "global_economy__wholesale_producer_price_index_...                                          -0.701551    \n",
      "global_economy__wholesale_producer_price_index_...                                           0.156203    \n",
      "global_economy__working_age_population__persons                                              0.758908    \n",
      "\n",
      "                                                    ...  \\\n",
      "month                                               ...   \n",
      "sales_actuals_monthly__vehiclegroup01__orderintake  ...   \n",
      "sales_actuals_monthly__vehiclegroup01__retail       ...   \n",
      "sales_actuals_monthly__vehiclegroup02__orderintake  ...   \n",
      "sales_actuals_monthly__vehiclegroup02__retail       ...   \n",
      "...                                                 ...   \n",
      "global_economy__wages_and_salaries_gross_us__u_...  ...   \n",
      "global_economy__wholesale_producer_price_index_...  ...   \n",
      "global_economy__wholesale_producer_price_index_...  ...   \n",
      "global_economy__wholesale_producer_price_index_...  ...   \n",
      "global_economy__working_age_population__persons     ...   \n",
      "\n",
      "                                                    global_economy__unspecified_revenue_total_otherwise_current_of_gdp_unspecified_government__percentage  \\\n",
      "month                                                                                        0.558540                                                       \n",
      "sales_actuals_monthly__vehiclegroup01__orderintake                                           0.026383                                                       \n",
      "sales_actuals_monthly__vehiclegroup01__retail                                                0.080319                                                       \n",
      "sales_actuals_monthly__vehiclegroup02__orderintake                                          -0.012953                                                       \n",
      "sales_actuals_monthly__vehiclegroup02__retail                                               -0.030145                                                       \n",
      "...                                                                                               ...                                                       \n",
      "global_economy__wages_and_salaries_gross_us__u_...                                           0.371893                                                       \n",
      "global_economy__wholesale_producer_price_index_...                                           0.399625                                                       \n",
      "global_economy__wholesale_producer_price_index_...                                          -0.061754                                                       \n",
      "global_economy__wholesale_producer_price_index_...                                          -0.177104                                                       \n",
      "global_economy__working_age_population__persons                                             -0.004746                                                       \n",
      "\n",
      "                                                    global_economy__user_cost_of_capital__percentage  \\\n",
      "month                                                                                            NaN   \n",
      "sales_actuals_monthly__vehiclegroup01__orderintake                                               NaN   \n",
      "sales_actuals_monthly__vehiclegroup01__retail                                                    NaN   \n",
      "sales_actuals_monthly__vehiclegroup02__orderintake                                               NaN   \n",
      "sales_actuals_monthly__vehiclegroup02__retail                                                    NaN   \n",
      "...                                                                                              ...   \n",
      "global_economy__wages_and_salaries_gross_us__u_...                                               NaN   \n",
      "global_economy__wholesale_producer_price_index_...                                               NaN   \n",
      "global_economy__wholesale_producer_price_index_...                                               NaN   \n",
      "global_economy__wholesale_producer_price_index_...                                               NaN   \n",
      "global_economy__working_age_population__persons                                                  NaN   \n",
      "\n",
      "                                                    global_economy__wages_and_salaries_gross_euro__euro  \\\n",
      "month                                                                                        0.959609     \n",
      "sales_actuals_monthly__vehiclegroup01__orderintake                                           0.045460     \n",
      "sales_actuals_monthly__vehiclegroup01__retail                                                0.048040     \n",
      "sales_actuals_monthly__vehiclegroup02__orderintake                                          -0.381690     \n",
      "sales_actuals_monthly__vehiclegroup02__retail                                               -0.325885     \n",
      "...                                                                                               ...     \n",
      "global_economy__wages_and_salaries_gross_us__u_...                                           0.810285     \n",
      "global_economy__wholesale_producer_price_index_...                                           0.804863     \n",
      "global_economy__wholesale_producer_price_index_...                                           0.329962     \n",
      "global_economy__wholesale_producer_price_index_...                                          -0.266361     \n",
      "global_economy__working_age_population__persons                                             -0.469258     \n",
      "\n",
      "                                                    global_economy__wages_and_salaries_gross_lcu__chinese_renminbi  \\\n",
      "month                                                                                             NaN                \n",
      "sales_actuals_monthly__vehiclegroup01__orderintake                                                NaN                \n",
      "sales_actuals_monthly__vehiclegroup01__retail                                                     NaN                \n",
      "sales_actuals_monthly__vehiclegroup02__orderintake                                                NaN                \n",
      "sales_actuals_monthly__vehiclegroup02__retail                                                     NaN                \n",
      "...                                                                                               ...                \n",
      "global_economy__wages_and_salaries_gross_us__u_...                                                NaN                \n",
      "global_economy__wholesale_producer_price_index_...                                                NaN                \n",
      "global_economy__wholesale_producer_price_index_...                                                NaN                \n",
      "global_economy__wholesale_producer_price_index_...                                                NaN                \n",
      "global_economy__working_age_population__persons                                                   NaN                \n",
      "\n",
      "                                                    global_economy__wages_and_salaries_gross_lcu__euro  \\\n",
      "month                                                                                        0.959609    \n",
      "sales_actuals_monthly__vehiclegroup01__orderintake                                           0.045460    \n",
      "sales_actuals_monthly__vehiclegroup01__retail                                                0.048040    \n",
      "sales_actuals_monthly__vehiclegroup02__orderintake                                          -0.381690    \n",
      "sales_actuals_monthly__vehiclegroup02__retail                                               -0.325885    \n",
      "...                                                                                               ...    \n",
      "global_economy__wages_and_salaries_gross_us__u_...                                           0.810285    \n",
      "global_economy__wholesale_producer_price_index_...                                           0.804863    \n",
      "global_economy__wholesale_producer_price_index_...                                           0.329962    \n",
      "global_economy__wholesale_producer_price_index_...                                          -0.266361    \n",
      "global_economy__working_age_population__persons                                             -0.469258    \n",
      "\n",
      "                                                    global_economy__wages_and_salaries_gross_us__u_s_dollar  \\\n",
      "month                                                                                        0.915288         \n",
      "sales_actuals_monthly__vehiclegroup01__orderintake                                          -0.058261         \n",
      "sales_actuals_monthly__vehiclegroup01__retail                                               -0.081143         \n",
      "sales_actuals_monthly__vehiclegroup02__orderintake                                          -0.567577         \n",
      "sales_actuals_monthly__vehiclegroup02__retail                                               -0.541471         \n",
      "...                                                                                               ...         \n",
      "global_economy__wages_and_salaries_gross_us__u_...                                           1.000000         \n",
      "global_economy__wholesale_producer_price_index_...                                           0.947020         \n",
      "global_economy__wholesale_producer_price_index_...                                           0.810407         \n",
      "global_economy__wholesale_producer_price_index_...                                          -0.185805         \n",
      "global_economy__working_age_population__persons                                             -0.805824         \n",
      "\n",
      "                                                    global_economy__wholesale_producer_price_index_euro_basis__index  \\\n",
      "month                                                                                        0.917210                  \n",
      "sales_actuals_monthly__vehiclegroup01__orderintake                                          -0.003412                  \n",
      "sales_actuals_monthly__vehiclegroup01__retail                                               -0.089133                  \n",
      "sales_actuals_monthly__vehiclegroup02__orderintake                                          -0.542241                  \n",
      "sales_actuals_monthly__vehiclegroup02__retail                                               -0.528904                  \n",
      "...                                                                                               ...                  \n",
      "global_economy__wages_and_salaries_gross_us__u_...                                           0.947020                  \n",
      "global_economy__wholesale_producer_price_index_...                                           1.000000                  \n",
      "global_economy__wholesale_producer_price_index_...                                           0.779051                  \n",
      "global_economy__wholesale_producer_price_index_...                                          -0.108840                  \n",
      "global_economy__working_age_population__persons                                             -0.788065                  \n",
      "\n",
      "                                                    global_economy__wholesale_producer_price_index_us_basis__index  \\\n",
      "month                                                                                        0.547161                \n",
      "sales_actuals_monthly__vehiclegroup01__orderintake                                          -0.111804                \n",
      "sales_actuals_monthly__vehiclegroup01__retail                                               -0.192836                \n",
      "sales_actuals_monthly__vehiclegroup02__orderintake                                          -0.541553                \n",
      "sales_actuals_monthly__vehiclegroup02__retail                                               -0.570349                \n",
      "...                                                                                               ...                \n",
      "global_economy__wages_and_salaries_gross_us__u_...                                           0.810407                \n",
      "global_economy__wholesale_producer_price_index_...                                           0.779051                \n",
      "global_economy__wholesale_producer_price_index_...                                           1.000000                \n",
      "global_economy__wholesale_producer_price_index_...                                           0.004176                \n",
      "global_economy__working_age_population__persons                                             -0.859984                \n",
      "\n",
      "                                                    global_economy__wholesale_producer_price_index_year_on_year_percent_change__percent_change_year_ago  \\\n",
      "month                                                                                       -0.280109                                                     \n",
      "sales_actuals_monthly__vehiclegroup01__orderintake                                           0.105606                                                     \n",
      "sales_actuals_monthly__vehiclegroup01__retail                                               -0.017293                                                     \n",
      "sales_actuals_monthly__vehiclegroup02__orderintake                                           0.068838                                                     \n",
      "sales_actuals_monthly__vehiclegroup02__retail                                                0.073505                                                     \n",
      "...                                                                                               ...                                                     \n",
      "global_economy__wages_and_salaries_gross_us__u_...                                          -0.185805                                                     \n",
      "global_economy__wholesale_producer_price_index_...                                          -0.108840                                                     \n",
      "global_economy__wholesale_producer_price_index_...                                           0.004176                                                     \n",
      "global_economy__wholesale_producer_price_index_...                                           1.000000                                                     \n",
      "global_economy__working_age_population__persons                                              0.077520                                                     \n",
      "\n",
      "                                                    global_economy__working_age_population__persons  \n",
      "month                                                                                     -0.665825  \n",
      "sales_actuals_monthly__vehiclegroup01__orderintake                                         0.045933  \n",
      "sales_actuals_monthly__vehiclegroup01__retail                                              0.120609  \n",
      "sales_actuals_monthly__vehiclegroup02__orderintake                                         0.620556  \n",
      "sales_actuals_monthly__vehiclegroup02__retail                                              0.611220  \n",
      "...                                                                                             ...  \n",
      "global_economy__wages_and_salaries_gross_us__u_...                                        -0.805824  \n",
      "global_economy__wholesale_producer_price_index_...                                        -0.788065  \n",
      "global_economy__wholesale_producer_price_index_...                                        -0.859984  \n",
      "global_economy__wholesale_producer_price_index_...                                         0.077520  \n",
      "global_economy__working_age_population__persons                                            1.000000  \n",
      "\n",
      "[1404 rows x 1404 columns]\n"
     ]
    }
   ],
   "source": [
    "# Compute the correlation matrix for cleaned_df\n",
    "correlation_matrix = cleaned_df.corr()\n",
    "\n",
    "# Display the correlation matrix\n",
    "print(correlation_matrix)"
   ]
  },
  {
   "cell_type": "code",
   "execution_count": 32,
   "outputs": [
    {
     "data": {
      "text/plain": "                                                       month  \\\nmonth                                               1.000000   \nsales_actuals_monthly__vehiclegroup01__orderintake  0.016929   \nsales_actuals_monthly__vehiclegroup01__retail      -0.014255   \nsales_actuals_monthly__vehiclegroup02__orderintake -0.499242   \nsales_actuals_monthly__vehiclegroup02__retail      -0.449252   \n...                                                      ...   \nglobal_economy__wages_and_salaries_gross_us__u_...  0.915288   \nglobal_economy__wholesale_producer_price_index_...  0.917210   \nglobal_economy__wholesale_producer_price_index_...  0.547161   \nglobal_economy__wholesale_producer_price_index_... -0.280109   \nglobal_economy__working_age_population__persons    -0.665825   \n\n                                                    sales_actuals_monthly__vehiclegroup01__orderintake  \\\nmonth                                                                                        0.016929    \nsales_actuals_monthly__vehiclegroup01__orderintake                                           1.000000    \nsales_actuals_monthly__vehiclegroup01__retail                                                0.365593    \nsales_actuals_monthly__vehiclegroup02__orderintake                                           0.227157    \nsales_actuals_monthly__vehiclegroup02__retail                                                0.269482    \n...                                                                                               ...    \nglobal_economy__wages_and_salaries_gross_us__u_...                                          -0.058261    \nglobal_economy__wholesale_producer_price_index_...                                          -0.003412    \nglobal_economy__wholesale_producer_price_index_...                                          -0.111804    \nglobal_economy__wholesale_producer_price_index_...                                           0.105606    \nglobal_economy__working_age_population__persons                                              0.045933    \n\n                                                    sales_actuals_monthly__vehiclegroup01__retail  \\\nmonth                                                                                   -0.014255   \nsales_actuals_monthly__vehiclegroup01__orderintake                                       0.365593   \nsales_actuals_monthly__vehiclegroup01__retail                                            1.000000   \nsales_actuals_monthly__vehiclegroup02__orderintake                                       0.376348   \nsales_actuals_monthly__vehiclegroup02__retail                                            0.619993   \n...                                                                                           ...   \nglobal_economy__wages_and_salaries_gross_us__u_...                                      -0.081143   \nglobal_economy__wholesale_producer_price_index_...                                      -0.089133   \nglobal_economy__wholesale_producer_price_index_...                                      -0.192836   \nglobal_economy__wholesale_producer_price_index_...                                      -0.017293   \nglobal_economy__working_age_population__persons                                          0.120609   \n\n                                                    sales_actuals_monthly__vehiclegroup02__orderintake  \\\nmonth                                                                                       -0.499242    \nsales_actuals_monthly__vehiclegroup01__orderintake                                           0.227157    \nsales_actuals_monthly__vehiclegroup01__retail                                                0.376348    \nsales_actuals_monthly__vehiclegroup02__orderintake                                           1.000000    \nsales_actuals_monthly__vehiclegroup02__retail                                                0.690151    \n...                                                                                               ...    \nglobal_economy__wages_and_salaries_gross_us__u_...                                          -0.567577    \nglobal_economy__wholesale_producer_price_index_...                                          -0.542241    \nglobal_economy__wholesale_producer_price_index_...                                          -0.541553    \nglobal_economy__wholesale_producer_price_index_...                                           0.068838    \nglobal_economy__working_age_population__persons                                              0.620556    \n\n                                                    sales_actuals_monthly__vehiclegroup02__retail  \\\nmonth                                                                                   -0.449252   \nsales_actuals_monthly__vehiclegroup01__orderintake                                       0.269482   \nsales_actuals_monthly__vehiclegroup01__retail                                            0.619993   \nsales_actuals_monthly__vehiclegroup02__orderintake                                       0.690151   \nsales_actuals_monthly__vehiclegroup02__retail                                            1.000000   \n...                                                                                           ...   \nglobal_economy__wages_and_salaries_gross_us__u_...                                      -0.541471   \nglobal_economy__wholesale_producer_price_index_...                                      -0.528904   \nglobal_economy__wholesale_producer_price_index_...                                      -0.570349   \nglobal_economy__wholesale_producer_price_index_...                                       0.073505   \nglobal_economy__working_age_population__persons                                          0.611220   \n\n                                                    sales_actuals_monthly__vehiclegroup07__orderintake  \\\nmonth                                                                                       -0.558951    \nsales_actuals_monthly__vehiclegroup01__orderintake                                           0.245587    \nsales_actuals_monthly__vehiclegroup01__retail                                                0.350599    \nsales_actuals_monthly__vehiclegroup02__orderintake                                           0.905885    \nsales_actuals_monthly__vehiclegroup02__retail                                                0.754799    \n...                                                                                               ...    \nglobal_economy__wages_and_salaries_gross_us__u_...                                          -0.625580    \nglobal_economy__wholesale_producer_price_index_...                                          -0.609114    \nglobal_economy__wholesale_producer_price_index_...                                          -0.587577    \nglobal_economy__wholesale_producer_price_index_...                                           0.117703    \nglobal_economy__working_age_population__persons                                              0.672894    \n\n                                                    sales_actuals_monthly__vehiclegroup07__retail  \\\nmonth                                                                                   -0.476008   \nsales_actuals_monthly__vehiclegroup01__orderintake                                       0.256801   \nsales_actuals_monthly__vehiclegroup01__retail                                            0.571005   \nsales_actuals_monthly__vehiclegroup02__orderintake                                       0.693035   \nsales_actuals_monthly__vehiclegroup02__retail                                            0.960656   \n...                                                                                           ...   \nglobal_economy__wages_and_salaries_gross_us__u_...                                      -0.565490   \nglobal_economy__wholesale_producer_price_index_...                                      -0.548138   \nglobal_economy__wholesale_producer_price_index_...                                      -0.585646   \nglobal_economy__wholesale_producer_price_index_...                                       0.125648   \nglobal_economy__working_age_population__persons                                          0.627452   \n\n                                                    sales_actuals_monthly__vehiclegroup08__orderintake  \\\nmonth                                                                                       -0.577972    \nsales_actuals_monthly__vehiclegroup01__orderintake                                           0.177795    \nsales_actuals_monthly__vehiclegroup01__retail                                                0.284310    \nsales_actuals_monthly__vehiclegroup02__orderintake                                           0.867732    \nsales_actuals_monthly__vehiclegroup02__retail                                                0.587731    \n...                                                                                               ...    \nglobal_economy__wages_and_salaries_gross_us__u_...                                          -0.578639    \nglobal_economy__wholesale_producer_price_index_...                                          -0.561208    \nglobal_economy__wholesale_producer_price_index_...                                          -0.442238    \nglobal_economy__wholesale_producer_price_index_...                                           0.104078    \nglobal_economy__working_age_population__persons                                              0.593343    \n\n                                                    sales_actuals_monthly__vehiclegroup08__retail  \\\nmonth                                                                                   -0.517786   \nsales_actuals_monthly__vehiclegroup01__orderintake                                       0.246088   \nsales_actuals_monthly__vehiclegroup01__retail                                            0.594063   \nsales_actuals_monthly__vehiclegroup02__orderintake                                       0.682587   \nsales_actuals_monthly__vehiclegroup02__retail                                            0.956311   \n...                                                                                           ...   \nglobal_economy__wages_and_salaries_gross_us__u_...                                      -0.559992   \nglobal_economy__wholesale_producer_price_index_...                                      -0.549223   \nglobal_economy__wholesale_producer_price_index_...                                      -0.511229   \nglobal_economy__wholesale_producer_price_index_...                                       0.115966   \nglobal_economy__working_age_population__persons                                          0.614691   \n\n                                                    sales_actuals_monthly__vehiclegroup13__orderintake  \\\nmonth                                                                                       -0.619786    \nsales_actuals_monthly__vehiclegroup01__orderintake                                           0.342918    \nsales_actuals_monthly__vehiclegroup01__retail                                                0.260052    \nsales_actuals_monthly__vehiclegroup02__orderintake                                           0.640498    \nsales_actuals_monthly__vehiclegroup02__retail                                                0.644171    \n...                                                                                               ...    \nglobal_economy__wages_and_salaries_gross_us__u_...                                          -0.722035    \nglobal_economy__wholesale_producer_price_index_...                                          -0.671281    \nglobal_economy__wholesale_producer_price_index_...                                          -0.701551    \nglobal_economy__wholesale_producer_price_index_...                                           0.156203    \nglobal_economy__working_age_population__persons                                              0.758908    \n\n                                                    ...  \\\nmonth                                               ...   \nsales_actuals_monthly__vehiclegroup01__orderintake  ...   \nsales_actuals_monthly__vehiclegroup01__retail       ...   \nsales_actuals_monthly__vehiclegroup02__orderintake  ...   \nsales_actuals_monthly__vehiclegroup02__retail       ...   \n...                                                 ...   \nglobal_economy__wages_and_salaries_gross_us__u_...  ...   \nglobal_economy__wholesale_producer_price_index_...  ...   \nglobal_economy__wholesale_producer_price_index_...  ...   \nglobal_economy__wholesale_producer_price_index_...  ...   \nglobal_economy__working_age_population__persons     ...   \n\n                                                    global_economy__unspecified_revenue_total_otherwise_current_of_gdp_unspecified_government__percentage  \\\nmonth                                                                                        0.558540                                                       \nsales_actuals_monthly__vehiclegroup01__orderintake                                           0.026383                                                       \nsales_actuals_monthly__vehiclegroup01__retail                                                0.080319                                                       \nsales_actuals_monthly__vehiclegroup02__orderintake                                          -0.012953                                                       \nsales_actuals_monthly__vehiclegroup02__retail                                               -0.030145                                                       \n...                                                                                               ...                                                       \nglobal_economy__wages_and_salaries_gross_us__u_...                                           0.371893                                                       \nglobal_economy__wholesale_producer_price_index_...                                           0.399625                                                       \nglobal_economy__wholesale_producer_price_index_...                                          -0.061754                                                       \nglobal_economy__wholesale_producer_price_index_...                                          -0.177104                                                       \nglobal_economy__working_age_population__persons                                             -0.004746                                                       \n\n                                                    global_economy__user_cost_of_capital__percentage  \\\nmonth                                                                                            NaN   \nsales_actuals_monthly__vehiclegroup01__orderintake                                               NaN   \nsales_actuals_monthly__vehiclegroup01__retail                                                    NaN   \nsales_actuals_monthly__vehiclegroup02__orderintake                                               NaN   \nsales_actuals_monthly__vehiclegroup02__retail                                                    NaN   \n...                                                                                              ...   \nglobal_economy__wages_and_salaries_gross_us__u_...                                               NaN   \nglobal_economy__wholesale_producer_price_index_...                                               NaN   \nglobal_economy__wholesale_producer_price_index_...                                               NaN   \nglobal_economy__wholesale_producer_price_index_...                                               NaN   \nglobal_economy__working_age_population__persons                                                  NaN   \n\n                                                    global_economy__wages_and_salaries_gross_euro__euro  \\\nmonth                                                                                        0.959609     \nsales_actuals_monthly__vehiclegroup01__orderintake                                           0.045460     \nsales_actuals_monthly__vehiclegroup01__retail                                                0.048040     \nsales_actuals_monthly__vehiclegroup02__orderintake                                          -0.381690     \nsales_actuals_monthly__vehiclegroup02__retail                                               -0.325885     \n...                                                                                               ...     \nglobal_economy__wages_and_salaries_gross_us__u_...                                           0.810285     \nglobal_economy__wholesale_producer_price_index_...                                           0.804863     \nglobal_economy__wholesale_producer_price_index_...                                           0.329962     \nglobal_economy__wholesale_producer_price_index_...                                          -0.266361     \nglobal_economy__working_age_population__persons                                             -0.469258     \n\n                                                    global_economy__wages_and_salaries_gross_lcu__chinese_renminbi  \\\nmonth                                                                                             NaN                \nsales_actuals_monthly__vehiclegroup01__orderintake                                                NaN                \nsales_actuals_monthly__vehiclegroup01__retail                                                     NaN                \nsales_actuals_monthly__vehiclegroup02__orderintake                                                NaN                \nsales_actuals_monthly__vehiclegroup02__retail                                                     NaN                \n...                                                                                               ...                \nglobal_economy__wages_and_salaries_gross_us__u_...                                                NaN                \nglobal_economy__wholesale_producer_price_index_...                                                NaN                \nglobal_economy__wholesale_producer_price_index_...                                                NaN                \nglobal_economy__wholesale_producer_price_index_...                                                NaN                \nglobal_economy__working_age_population__persons                                                   NaN                \n\n                                                    global_economy__wages_and_salaries_gross_lcu__euro  \\\nmonth                                                                                        0.959609    \nsales_actuals_monthly__vehiclegroup01__orderintake                                           0.045460    \nsales_actuals_monthly__vehiclegroup01__retail                                                0.048040    \nsales_actuals_monthly__vehiclegroup02__orderintake                                          -0.381690    \nsales_actuals_monthly__vehiclegroup02__retail                                               -0.325885    \n...                                                                                               ...    \nglobal_economy__wages_and_salaries_gross_us__u_...                                           0.810285    \nglobal_economy__wholesale_producer_price_index_...                                           0.804863    \nglobal_economy__wholesale_producer_price_index_...                                           0.329962    \nglobal_economy__wholesale_producer_price_index_...                                          -0.266361    \nglobal_economy__working_age_population__persons                                             -0.469258    \n\n                                                    global_economy__wages_and_salaries_gross_us__u_s_dollar  \\\nmonth                                                                                        0.915288         \nsales_actuals_monthly__vehiclegroup01__orderintake                                          -0.058261         \nsales_actuals_monthly__vehiclegroup01__retail                                               -0.081143         \nsales_actuals_monthly__vehiclegroup02__orderintake                                          -0.567577         \nsales_actuals_monthly__vehiclegroup02__retail                                               -0.541471         \n...                                                                                               ...         \nglobal_economy__wages_and_salaries_gross_us__u_...                                           1.000000         \nglobal_economy__wholesale_producer_price_index_...                                           0.947020         \nglobal_economy__wholesale_producer_price_index_...                                           0.810407         \nglobal_economy__wholesale_producer_price_index_...                                          -0.185805         \nglobal_economy__working_age_population__persons                                             -0.805824         \n\n                                                    global_economy__wholesale_producer_price_index_euro_basis__index  \\\nmonth                                                                                        0.917210                  \nsales_actuals_monthly__vehiclegroup01__orderintake                                          -0.003412                  \nsales_actuals_monthly__vehiclegroup01__retail                                               -0.089133                  \nsales_actuals_monthly__vehiclegroup02__orderintake                                          -0.542241                  \nsales_actuals_monthly__vehiclegroup02__retail                                               -0.528904                  \n...                                                                                               ...                  \nglobal_economy__wages_and_salaries_gross_us__u_...                                           0.947020                  \nglobal_economy__wholesale_producer_price_index_...                                           1.000000                  \nglobal_economy__wholesale_producer_price_index_...                                           0.779051                  \nglobal_economy__wholesale_producer_price_index_...                                          -0.108840                  \nglobal_economy__working_age_population__persons                                             -0.788065                  \n\n                                                    global_economy__wholesale_producer_price_index_us_basis__index  \\\nmonth                                                                                        0.547161                \nsales_actuals_monthly__vehiclegroup01__orderintake                                          -0.111804                \nsales_actuals_monthly__vehiclegroup01__retail                                               -0.192836                \nsales_actuals_monthly__vehiclegroup02__orderintake                                          -0.541553                \nsales_actuals_monthly__vehiclegroup02__retail                                               -0.570349                \n...                                                                                               ...                \nglobal_economy__wages_and_salaries_gross_us__u_...                                           0.810407                \nglobal_economy__wholesale_producer_price_index_...                                           0.779051                \nglobal_economy__wholesale_producer_price_index_...                                           1.000000                \nglobal_economy__wholesale_producer_price_index_...                                           0.004176                \nglobal_economy__working_age_population__persons                                             -0.859984                \n\n                                                    global_economy__wholesale_producer_price_index_year_on_year_percent_change__percent_change_year_ago  \\\nmonth                                                                                       -0.280109                                                     \nsales_actuals_monthly__vehiclegroup01__orderintake                                           0.105606                                                     \nsales_actuals_monthly__vehiclegroup01__retail                                               -0.017293                                                     \nsales_actuals_monthly__vehiclegroup02__orderintake                                           0.068838                                                     \nsales_actuals_monthly__vehiclegroup02__retail                                                0.073505                                                     \n...                                                                                               ...                                                     \nglobal_economy__wages_and_salaries_gross_us__u_...                                          -0.185805                                                     \nglobal_economy__wholesale_producer_price_index_...                                          -0.108840                                                     \nglobal_economy__wholesale_producer_price_index_...                                           0.004176                                                     \nglobal_economy__wholesale_producer_price_index_...                                           1.000000                                                     \nglobal_economy__working_age_population__persons                                              0.077520                                                     \n\n                                                    global_economy__working_age_population__persons  \nmonth                                                                                     -0.665825  \nsales_actuals_monthly__vehiclegroup01__orderintake                                         0.045933  \nsales_actuals_monthly__vehiclegroup01__retail                                              0.120609  \nsales_actuals_monthly__vehiclegroup02__orderintake                                         0.620556  \nsales_actuals_monthly__vehiclegroup02__retail                                              0.611220  \n...                                                                                             ...  \nglobal_economy__wages_and_salaries_gross_us__u_...                                        -0.805824  \nglobal_economy__wholesale_producer_price_index_...                                        -0.788065  \nglobal_economy__wholesale_producer_price_index_...                                        -0.859984  \nglobal_economy__wholesale_producer_price_index_...                                         0.077520  \nglobal_economy__working_age_population__persons                                            1.000000  \n\n[1404 rows x 1404 columns]",
      "text/html": "<div>\n<style scoped>\n    .dataframe tbody tr th:only-of-type {\n        vertical-align: middle;\n    }\n\n    .dataframe tbody tr th {\n        vertical-align: top;\n    }\n\n    .dataframe thead th {\n        text-align: right;\n    }\n</style>\n<table border=\"1\" class=\"dataframe\">\n  <thead>\n    <tr style=\"text-align: right;\">\n      <th></th>\n      <th>month</th>\n      <th>sales_actuals_monthly__vehiclegroup01__orderintake</th>\n      <th>sales_actuals_monthly__vehiclegroup01__retail</th>\n      <th>sales_actuals_monthly__vehiclegroup02__orderintake</th>\n      <th>sales_actuals_monthly__vehiclegroup02__retail</th>\n      <th>sales_actuals_monthly__vehiclegroup07__orderintake</th>\n      <th>sales_actuals_monthly__vehiclegroup07__retail</th>\n      <th>sales_actuals_monthly__vehiclegroup08__orderintake</th>\n      <th>sales_actuals_monthly__vehiclegroup08__retail</th>\n      <th>sales_actuals_monthly__vehiclegroup13__orderintake</th>\n      <th>...</th>\n      <th>global_economy__unspecified_revenue_total_otherwise_current_of_gdp_unspecified_government__percentage</th>\n      <th>global_economy__user_cost_of_capital__percentage</th>\n      <th>global_economy__wages_and_salaries_gross_euro__euro</th>\n      <th>global_economy__wages_and_salaries_gross_lcu__chinese_renminbi</th>\n      <th>global_economy__wages_and_salaries_gross_lcu__euro</th>\n      <th>global_economy__wages_and_salaries_gross_us__u_s_dollar</th>\n      <th>global_economy__wholesale_producer_price_index_euro_basis__index</th>\n      <th>global_economy__wholesale_producer_price_index_us_basis__index</th>\n      <th>global_economy__wholesale_producer_price_index_year_on_year_percent_change__percent_change_year_ago</th>\n      <th>global_economy__working_age_population__persons</th>\n    </tr>\n  </thead>\n  <tbody>\n    <tr>\n      <th>month</th>\n      <td>1.000000</td>\n      <td>0.016929</td>\n      <td>-0.014255</td>\n      <td>-0.499242</td>\n      <td>-0.449252</td>\n      <td>-0.558951</td>\n      <td>-0.476008</td>\n      <td>-0.577972</td>\n      <td>-0.517786</td>\n      <td>-0.619786</td>\n      <td>...</td>\n      <td>0.558540</td>\n      <td>NaN</td>\n      <td>0.959609</td>\n      <td>NaN</td>\n      <td>0.959609</td>\n      <td>0.915288</td>\n      <td>0.917210</td>\n      <td>0.547161</td>\n      <td>-0.280109</td>\n      <td>-0.665825</td>\n    </tr>\n    <tr>\n      <th>sales_actuals_monthly__vehiclegroup01__orderintake</th>\n      <td>0.016929</td>\n      <td>1.000000</td>\n      <td>0.365593</td>\n      <td>0.227157</td>\n      <td>0.269482</td>\n      <td>0.245587</td>\n      <td>0.256801</td>\n      <td>0.177795</td>\n      <td>0.246088</td>\n      <td>0.342918</td>\n      <td>...</td>\n      <td>0.026383</td>\n      <td>NaN</td>\n      <td>0.045460</td>\n      <td>NaN</td>\n      <td>0.045460</td>\n      <td>-0.058261</td>\n      <td>-0.003412</td>\n      <td>-0.111804</td>\n      <td>0.105606</td>\n      <td>0.045933</td>\n    </tr>\n    <tr>\n      <th>sales_actuals_monthly__vehiclegroup01__retail</th>\n      <td>-0.014255</td>\n      <td>0.365593</td>\n      <td>1.000000</td>\n      <td>0.376348</td>\n      <td>0.619993</td>\n      <td>0.350599</td>\n      <td>0.571005</td>\n      <td>0.284310</td>\n      <td>0.594063</td>\n      <td>0.260052</td>\n      <td>...</td>\n      <td>0.080319</td>\n      <td>NaN</td>\n      <td>0.048040</td>\n      <td>NaN</td>\n      <td>0.048040</td>\n      <td>-0.081143</td>\n      <td>-0.089133</td>\n      <td>-0.192836</td>\n      <td>-0.017293</td>\n      <td>0.120609</td>\n    </tr>\n    <tr>\n      <th>sales_actuals_monthly__vehiclegroup02__orderintake</th>\n      <td>-0.499242</td>\n      <td>0.227157</td>\n      <td>0.376348</td>\n      <td>1.000000</td>\n      <td>0.690151</td>\n      <td>0.905885</td>\n      <td>0.693035</td>\n      <td>0.867732</td>\n      <td>0.682587</td>\n      <td>0.640498</td>\n      <td>...</td>\n      <td>-0.012953</td>\n      <td>NaN</td>\n      <td>-0.381690</td>\n      <td>NaN</td>\n      <td>-0.381690</td>\n      <td>-0.567577</td>\n      <td>-0.542241</td>\n      <td>-0.541553</td>\n      <td>0.068838</td>\n      <td>0.620556</td>\n    </tr>\n    <tr>\n      <th>sales_actuals_monthly__vehiclegroup02__retail</th>\n      <td>-0.449252</td>\n      <td>0.269482</td>\n      <td>0.619993</td>\n      <td>0.690151</td>\n      <td>1.000000</td>\n      <td>0.754799</td>\n      <td>0.960656</td>\n      <td>0.587731</td>\n      <td>0.956311</td>\n      <td>0.644171</td>\n      <td>...</td>\n      <td>-0.030145</td>\n      <td>NaN</td>\n      <td>-0.325885</td>\n      <td>NaN</td>\n      <td>-0.325885</td>\n      <td>-0.541471</td>\n      <td>-0.528904</td>\n      <td>-0.570349</td>\n      <td>0.073505</td>\n      <td>0.611220</td>\n    </tr>\n    <tr>\n      <th>...</th>\n      <td>...</td>\n      <td>...</td>\n      <td>...</td>\n      <td>...</td>\n      <td>...</td>\n      <td>...</td>\n      <td>...</td>\n      <td>...</td>\n      <td>...</td>\n      <td>...</td>\n      <td>...</td>\n      <td>...</td>\n      <td>...</td>\n      <td>...</td>\n      <td>...</td>\n      <td>...</td>\n      <td>...</td>\n      <td>...</td>\n      <td>...</td>\n      <td>...</td>\n      <td>...</td>\n    </tr>\n    <tr>\n      <th>global_economy__wages_and_salaries_gross_us__u_s_dollar</th>\n      <td>0.915288</td>\n      <td>-0.058261</td>\n      <td>-0.081143</td>\n      <td>-0.567577</td>\n      <td>-0.541471</td>\n      <td>-0.625580</td>\n      <td>-0.565490</td>\n      <td>-0.578639</td>\n      <td>-0.559992</td>\n      <td>-0.722035</td>\n      <td>...</td>\n      <td>0.371893</td>\n      <td>NaN</td>\n      <td>0.810285</td>\n      <td>NaN</td>\n      <td>0.810285</td>\n      <td>1.000000</td>\n      <td>0.947020</td>\n      <td>0.810407</td>\n      <td>-0.185805</td>\n      <td>-0.805824</td>\n    </tr>\n    <tr>\n      <th>global_economy__wholesale_producer_price_index_euro_basis__index</th>\n      <td>0.917210</td>\n      <td>-0.003412</td>\n      <td>-0.089133</td>\n      <td>-0.542241</td>\n      <td>-0.528904</td>\n      <td>-0.609114</td>\n      <td>-0.548138</td>\n      <td>-0.561208</td>\n      <td>-0.549223</td>\n      <td>-0.671281</td>\n      <td>...</td>\n      <td>0.399625</td>\n      <td>NaN</td>\n      <td>0.804863</td>\n      <td>NaN</td>\n      <td>0.804863</td>\n      <td>0.947020</td>\n      <td>1.000000</td>\n      <td>0.779051</td>\n      <td>-0.108840</td>\n      <td>-0.788065</td>\n    </tr>\n    <tr>\n      <th>global_economy__wholesale_producer_price_index_us_basis__index</th>\n      <td>0.547161</td>\n      <td>-0.111804</td>\n      <td>-0.192836</td>\n      <td>-0.541553</td>\n      <td>-0.570349</td>\n      <td>-0.587577</td>\n      <td>-0.585646</td>\n      <td>-0.442238</td>\n      <td>-0.511229</td>\n      <td>-0.701551</td>\n      <td>...</td>\n      <td>-0.061754</td>\n      <td>NaN</td>\n      <td>0.329962</td>\n      <td>NaN</td>\n      <td>0.329962</td>\n      <td>0.810407</td>\n      <td>0.779051</td>\n      <td>1.000000</td>\n      <td>0.004176</td>\n      <td>-0.859984</td>\n    </tr>\n    <tr>\n      <th>global_economy__wholesale_producer_price_index_year_on_year_percent_change__percent_change_year_ago</th>\n      <td>-0.280109</td>\n      <td>0.105606</td>\n      <td>-0.017293</td>\n      <td>0.068838</td>\n      <td>0.073505</td>\n      <td>0.117703</td>\n      <td>0.125648</td>\n      <td>0.104078</td>\n      <td>0.115966</td>\n      <td>0.156203</td>\n      <td>...</td>\n      <td>-0.177104</td>\n      <td>NaN</td>\n      <td>-0.266361</td>\n      <td>NaN</td>\n      <td>-0.266361</td>\n      <td>-0.185805</td>\n      <td>-0.108840</td>\n      <td>0.004176</td>\n      <td>1.000000</td>\n      <td>0.077520</td>\n    </tr>\n    <tr>\n      <th>global_economy__working_age_population__persons</th>\n      <td>-0.665825</td>\n      <td>0.045933</td>\n      <td>0.120609</td>\n      <td>0.620556</td>\n      <td>0.611220</td>\n      <td>0.672894</td>\n      <td>0.627452</td>\n      <td>0.593343</td>\n      <td>0.614691</td>\n      <td>0.758908</td>\n      <td>...</td>\n      <td>-0.004746</td>\n      <td>NaN</td>\n      <td>-0.469258</td>\n      <td>NaN</td>\n      <td>-0.469258</td>\n      <td>-0.805824</td>\n      <td>-0.788065</td>\n      <td>-0.859984</td>\n      <td>0.077520</td>\n      <td>1.000000</td>\n    </tr>\n  </tbody>\n</table>\n<p>1404 rows × 1404 columns</p>\n</div>"
     },
     "execution_count": 32,
     "metadata": {},
     "output_type": "execute_result"
    }
   ],
   "source": [
    "# Convert the correlation matrix to a DataFrame\n",
    "correlation_df = pd.DataFrame(correlation_matrix, columns=correlation_matrix.columns, index=correlation_matrix.index)\n",
    "\n",
    "# Display the correlation DataFrame\n",
    "correlation_df"
   ],
   "metadata": {
    "collapsed": false,
    "ExecuteTime": {
     "end_time": "2024-01-30T11:34:38.278486Z",
     "start_time": "2024-01-30T11:34:38.273317Z"
    }
   },
   "id": "2b4301f811b5bc48"
  },
  {
   "cell_type": "code",
   "execution_count": 33,
   "outputs": [
    {
     "data": {
      "text/plain": "month                                                                                                  0.016929\nsales_actuals_monthly__vehiclegroup01__orderintake                                                     1.000000\nsales_actuals_monthly__vehiclegroup01__retail                                                          0.365593\nsales_actuals_monthly__vehiclegroup02__orderintake                                                     0.227157\nsales_actuals_monthly__vehiclegroup02__retail                                                          0.269482\n                                                                                                         ...   \nglobal_economy__wages_and_salaries_gross_us__u_s_dollar                                               -0.058261\nglobal_economy__wholesale_producer_price_index_euro_basis__index                                      -0.003412\nglobal_economy__wholesale_producer_price_index_us_basis__index                                        -0.111804\nglobal_economy__wholesale_producer_price_index_year_on_year_percent_change__percent_change_year_ago    0.105606\nglobal_economy__working_age_population__persons                                                        0.045933\nName: sales_actuals_monthly__vehiclegroup01__orderintake, Length: 1404, dtype: float64"
     },
     "execution_count": 33,
     "metadata": {},
     "output_type": "execute_result"
    }
   ],
   "source": [
    "correlation_df[\"sales_actuals_monthly__vehiclegroup01__orderintake\"]"
   ],
   "metadata": {
    "collapsed": false,
    "ExecuteTime": {
     "end_time": "2024-01-30T11:34:46.141601Z",
     "start_time": "2024-01-30T11:34:46.127469Z"
    }
   },
   "id": "4a7d6a459e92d378"
  },
  {
   "cell_type": "code",
   "execution_count": null,
   "id": "dc655fe2294d5869",
   "metadata": {
    "collapsed": false
   },
   "outputs": [],
   "source": [
    "\n",
    "# Plot the correlation matrix using seaborn\n",
    "plt.figure(figsize=(10, 8))\n",
    "sns.heatmap(correlation_matrix, annot=True, cmap='coolwarm', fmt='.2f', linewidths=.5)\n",
    "plt.title('Correlation Matrix')\n",
    "plt.show()"
   ]
  },
  {
   "cell_type": "code",
   "execution_count": null,
   "outputs": [],
   "source": [
    "import matplotlib.pyplot as plt\n",
    "\n",
    "# Assuming 'correlation_df' is your correlation matrix DataFrame\n",
    "\n",
    "# Plot the correlation matrix using matplotlib\n",
    "plt.figure(figsize=(10, 8))\n",
    "plt.imshow(correlation_df, cmap='coolwarm', interpolation='none', aspect='auto')\n",
    "plt.colorbar()\n",
    "plt.xticks(range(len(correlation_df.columns)), correlation_df.columns, rotation=90)\n",
    "plt.yticks(range(len(correlation_df.index)), correlation_df.index)\n",
    "plt.title('Correlation Matrix')\n",
    "plt.show()"
   ],
   "metadata": {
    "collapsed": false,
    "ExecuteTime": {
     "start_time": "2024-01-30T11:31:08.431472Z"
    }
   },
   "id": "f80c9c20bd851b8"
  },
  {
   "cell_type": "code",
   "execution_count": 34,
   "outputs": [
    {
     "data": {
      "text/plain": "     month countryname  sales_actuals_monthly__vehiclegroup01__orderintake  \\\n0        1   Country A                                              296.0    \n1        2   Country A                                              414.0    \n2        3   Country A                                              405.0    \n3        4   Country A                                              359.0    \n4        5   Country A                                              403.0    \n..     ...         ...                                                ...    \n244    245   Country A                                              351.0    \n245    246   Country A                                              536.0    \n246    247   Country A                                              371.0    \n247    248   Country A                                              304.0    \n248    249   Country A                                              287.0    \n\n     sales_actuals_monthly__vehiclegroup01__retail  \\\n0                                            352.0   \n1                                            372.0   \n2                                            604.0   \n3                                            483.0   \n4                                            474.0   \n..                                             ...   \n244                                          400.0   \n245                                          447.0   \n246                                          594.0   \n247                                          240.0   \n248                                          188.0   \n\n     sales_actuals_monthly__vehiclegroup02__orderintake  \\\n0                                                739.0    \n1                                                904.0    \n2                                               1000.0    \n3                                                828.0    \n4                                                594.0    \n..                                                 ...    \n244                                              133.0    \n245                                              180.0    \n246                                              211.0    \n247                                              206.0    \n248                                              289.0    \n\n     sales_actuals_monthly__vehiclegroup02__retail  \\\n0                                            471.0   \n1                                            528.0   \n2                                            953.0   \n3                                            972.0   \n4                                            900.0   \n..                                             ...   \n244                                          162.0   \n245                                          145.0   \n246                                          423.0   \n247                                          178.0   \n248                                          134.0   \n\n     sales_actuals_monthly__vehiclegroup03__orderintake  \\\n0                                                  NaN    \n1                                                  NaN    \n2                                                  NaN    \n3                                                  NaN    \n4                                                  NaN    \n..                                                 ...    \n244                                              290.0    \n245                                              549.0    \n246                                              382.0    \n247                                              376.0    \n248                                              536.0    \n\n     sales_actuals_monthly__vehiclegroup03__retail  \\\n0                                              NaN   \n1                                              NaN   \n2                                              NaN   \n3                                              NaN   \n4                                              NaN   \n..                                             ...   \n244                                          307.0   \n245                                          509.0   \n246                                          574.0   \n247                                          298.0   \n248                                          453.0   \n\n     sales_actuals_monthly__vehiclegroup04__orderintake  \\\n0                                                  NaN    \n1                                                  NaN    \n2                                                  NaN    \n3                                                  NaN    \n4                                                  NaN    \n..                                                 ...    \n244                                              150.0    \n245                                              146.0    \n246                                              307.0    \n247                                              262.0    \n248                                              311.0    \n\n     sales_actuals_monthly__vehiclegroup04__retail  ...  \\\n0                                              NaN  ...   \n1                                              NaN  ...   \n2                                              NaN  ...   \n3                                              NaN  ...   \n4                                              NaN  ...   \n..                                             ...  ...   \n244                                          276.0  ...   \n245                                          276.0  ...   \n246                                          677.0  ...   \n247                                          371.0  ...   \n248                                          211.0  ...   \n\n     registrations__buildtype_suv  registrations__buildtype_transport  \\\n0                             NaN                                 NaN   \n1                             NaN                                 NaN   \n2                             NaN                                 NaN   \n3                             NaN                                 NaN   \n4                             NaN                                 NaN   \n..                            ...                                 ...   \n244                       57882.0                             33701.0   \n245                       73501.0                             40542.0   \n246                      106156.0                             50455.0   \n247                       86244.0                             43338.0   \n248                       90473.0                             42691.0   \n\n     registrations__buildtype_van  registrations__buildtype_cabrio  \\\n0                             NaN                              NaN   \n1                             NaN                              NaN   \n2                             NaN                              NaN   \n3                             NaN                              NaN   \n4                             NaN                              NaN   \n..                            ...                              ...   \n244                        4002.0                           4479.0   \n245                        4997.0                           5212.0   \n246                        7039.0                           8140.0   \n247                        5776.0                           4532.0   \n248                        4929.0                           4489.0   \n\n     registrations__buildtype_stufenheck  registrations__buildtype_kurzheck  \\\n0                                    NaN                                NaN   \n1                                    NaN                                NaN   \n2                                    NaN                                NaN   \n3                                    NaN                                NaN   \n4                                    NaN                                NaN   \n..                                   ...                                ...   \n244                               8448.0                            42697.0   \n245                              11657.0                            60014.0   \n246                              18242.0                            89183.0   \n247                              15866.0                            73458.0   \n248                              14834.0                            83384.0   \n\n     registrations__buildtype_other  registrations__buildtype_pickup  \\\n0                               NaN                              NaN   \n1                               NaN                              NaN   \n2                               NaN                              NaN   \n3                               NaN                              NaN   \n4                               NaN                              NaN   \n..                              ...                              ...   \n244                          1762.0                           1401.0   \n245                          3018.0                           2035.0   \n246                          3065.0                           1813.0   \n247                          2907.0                           1560.0   \n248                          4869.0                           1013.0   \n\n     registrations__buildtype_coupe  registrations__buildtype_kombi  \n0                               NaN                             NaN  \n1                               NaN                             NaN  \n2                               NaN                             NaN  \n3                               NaN                             NaN  \n4                               NaN                             NaN  \n..                              ...                             ...  \n244                          1465.0                         28421.0  \n245                          2143.0                         38638.0  \n246                          3177.0                         52735.0  \n247                          2300.0                         38905.0  \n248                          2307.0                         41362.0  \n\n[249 rows x 2369 columns]",
      "text/html": "<div>\n<style scoped>\n    .dataframe tbody tr th:only-of-type {\n        vertical-align: middle;\n    }\n\n    .dataframe tbody tr th {\n        vertical-align: top;\n    }\n\n    .dataframe thead th {\n        text-align: right;\n    }\n</style>\n<table border=\"1\" class=\"dataframe\">\n  <thead>\n    <tr style=\"text-align: right;\">\n      <th></th>\n      <th>month</th>\n      <th>countryname</th>\n      <th>sales_actuals_monthly__vehiclegroup01__orderintake</th>\n      <th>sales_actuals_monthly__vehiclegroup01__retail</th>\n      <th>sales_actuals_monthly__vehiclegroup02__orderintake</th>\n      <th>sales_actuals_monthly__vehiclegroup02__retail</th>\n      <th>sales_actuals_monthly__vehiclegroup03__orderintake</th>\n      <th>sales_actuals_monthly__vehiclegroup03__retail</th>\n      <th>sales_actuals_monthly__vehiclegroup04__orderintake</th>\n      <th>sales_actuals_monthly__vehiclegroup04__retail</th>\n      <th>...</th>\n      <th>registrations__buildtype_suv</th>\n      <th>registrations__buildtype_transport</th>\n      <th>registrations__buildtype_van</th>\n      <th>registrations__buildtype_cabrio</th>\n      <th>registrations__buildtype_stufenheck</th>\n      <th>registrations__buildtype_kurzheck</th>\n      <th>registrations__buildtype_other</th>\n      <th>registrations__buildtype_pickup</th>\n      <th>registrations__buildtype_coupe</th>\n      <th>registrations__buildtype_kombi</th>\n    </tr>\n  </thead>\n  <tbody>\n    <tr>\n      <th>0</th>\n      <td>1</td>\n      <td>Country A</td>\n      <td>296.0</td>\n      <td>352.0</td>\n      <td>739.0</td>\n      <td>471.0</td>\n      <td>NaN</td>\n      <td>NaN</td>\n      <td>NaN</td>\n      <td>NaN</td>\n      <td>...</td>\n      <td>NaN</td>\n      <td>NaN</td>\n      <td>NaN</td>\n      <td>NaN</td>\n      <td>NaN</td>\n      <td>NaN</td>\n      <td>NaN</td>\n      <td>NaN</td>\n      <td>NaN</td>\n      <td>NaN</td>\n    </tr>\n    <tr>\n      <th>1</th>\n      <td>2</td>\n      <td>Country A</td>\n      <td>414.0</td>\n      <td>372.0</td>\n      <td>904.0</td>\n      <td>528.0</td>\n      <td>NaN</td>\n      <td>NaN</td>\n      <td>NaN</td>\n      <td>NaN</td>\n      <td>...</td>\n      <td>NaN</td>\n      <td>NaN</td>\n      <td>NaN</td>\n      <td>NaN</td>\n      <td>NaN</td>\n      <td>NaN</td>\n      <td>NaN</td>\n      <td>NaN</td>\n      <td>NaN</td>\n      <td>NaN</td>\n    </tr>\n    <tr>\n      <th>2</th>\n      <td>3</td>\n      <td>Country A</td>\n      <td>405.0</td>\n      <td>604.0</td>\n      <td>1000.0</td>\n      <td>953.0</td>\n      <td>NaN</td>\n      <td>NaN</td>\n      <td>NaN</td>\n      <td>NaN</td>\n      <td>...</td>\n      <td>NaN</td>\n      <td>NaN</td>\n      <td>NaN</td>\n      <td>NaN</td>\n      <td>NaN</td>\n      <td>NaN</td>\n      <td>NaN</td>\n      <td>NaN</td>\n      <td>NaN</td>\n      <td>NaN</td>\n    </tr>\n    <tr>\n      <th>3</th>\n      <td>4</td>\n      <td>Country A</td>\n      <td>359.0</td>\n      <td>483.0</td>\n      <td>828.0</td>\n      <td>972.0</td>\n      <td>NaN</td>\n      <td>NaN</td>\n      <td>NaN</td>\n      <td>NaN</td>\n      <td>...</td>\n      <td>NaN</td>\n      <td>NaN</td>\n      <td>NaN</td>\n      <td>NaN</td>\n      <td>NaN</td>\n      <td>NaN</td>\n      <td>NaN</td>\n      <td>NaN</td>\n      <td>NaN</td>\n      <td>NaN</td>\n    </tr>\n    <tr>\n      <th>4</th>\n      <td>5</td>\n      <td>Country A</td>\n      <td>403.0</td>\n      <td>474.0</td>\n      <td>594.0</td>\n      <td>900.0</td>\n      <td>NaN</td>\n      <td>NaN</td>\n      <td>NaN</td>\n      <td>NaN</td>\n      <td>...</td>\n      <td>NaN</td>\n      <td>NaN</td>\n      <td>NaN</td>\n      <td>NaN</td>\n      <td>NaN</td>\n      <td>NaN</td>\n      <td>NaN</td>\n      <td>NaN</td>\n      <td>NaN</td>\n      <td>NaN</td>\n    </tr>\n    <tr>\n      <th>...</th>\n      <td>...</td>\n      <td>...</td>\n      <td>...</td>\n      <td>...</td>\n      <td>...</td>\n      <td>...</td>\n      <td>...</td>\n      <td>...</td>\n      <td>...</td>\n      <td>...</td>\n      <td>...</td>\n      <td>...</td>\n      <td>...</td>\n      <td>...</td>\n      <td>...</td>\n      <td>...</td>\n      <td>...</td>\n      <td>...</td>\n      <td>...</td>\n      <td>...</td>\n      <td>...</td>\n    </tr>\n    <tr>\n      <th>244</th>\n      <td>245</td>\n      <td>Country A</td>\n      <td>351.0</td>\n      <td>400.0</td>\n      <td>133.0</td>\n      <td>162.0</td>\n      <td>290.0</td>\n      <td>307.0</td>\n      <td>150.0</td>\n      <td>276.0</td>\n      <td>...</td>\n      <td>57882.0</td>\n      <td>33701.0</td>\n      <td>4002.0</td>\n      <td>4479.0</td>\n      <td>8448.0</td>\n      <td>42697.0</td>\n      <td>1762.0</td>\n      <td>1401.0</td>\n      <td>1465.0</td>\n      <td>28421.0</td>\n    </tr>\n    <tr>\n      <th>245</th>\n      <td>246</td>\n      <td>Country A</td>\n      <td>536.0</td>\n      <td>447.0</td>\n      <td>180.0</td>\n      <td>145.0</td>\n      <td>549.0</td>\n      <td>509.0</td>\n      <td>146.0</td>\n      <td>276.0</td>\n      <td>...</td>\n      <td>73501.0</td>\n      <td>40542.0</td>\n      <td>4997.0</td>\n      <td>5212.0</td>\n      <td>11657.0</td>\n      <td>60014.0</td>\n      <td>3018.0</td>\n      <td>2035.0</td>\n      <td>2143.0</td>\n      <td>38638.0</td>\n    </tr>\n    <tr>\n      <th>246</th>\n      <td>247</td>\n      <td>Country A</td>\n      <td>371.0</td>\n      <td>594.0</td>\n      <td>211.0</td>\n      <td>423.0</td>\n      <td>382.0</td>\n      <td>574.0</td>\n      <td>307.0</td>\n      <td>677.0</td>\n      <td>...</td>\n      <td>106156.0</td>\n      <td>50455.0</td>\n      <td>7039.0</td>\n      <td>8140.0</td>\n      <td>18242.0</td>\n      <td>89183.0</td>\n      <td>3065.0</td>\n      <td>1813.0</td>\n      <td>3177.0</td>\n      <td>52735.0</td>\n    </tr>\n    <tr>\n      <th>247</th>\n      <td>248</td>\n      <td>Country A</td>\n      <td>304.0</td>\n      <td>240.0</td>\n      <td>206.0</td>\n      <td>178.0</td>\n      <td>376.0</td>\n      <td>298.0</td>\n      <td>262.0</td>\n      <td>371.0</td>\n      <td>...</td>\n      <td>86244.0</td>\n      <td>43338.0</td>\n      <td>5776.0</td>\n      <td>4532.0</td>\n      <td>15866.0</td>\n      <td>73458.0</td>\n      <td>2907.0</td>\n      <td>1560.0</td>\n      <td>2300.0</td>\n      <td>38905.0</td>\n    </tr>\n    <tr>\n      <th>248</th>\n      <td>249</td>\n      <td>Country A</td>\n      <td>287.0</td>\n      <td>188.0</td>\n      <td>289.0</td>\n      <td>134.0</td>\n      <td>536.0</td>\n      <td>453.0</td>\n      <td>311.0</td>\n      <td>211.0</td>\n      <td>...</td>\n      <td>90473.0</td>\n      <td>42691.0</td>\n      <td>4929.0</td>\n      <td>4489.0</td>\n      <td>14834.0</td>\n      <td>83384.0</td>\n      <td>4869.0</td>\n      <td>1013.0</td>\n      <td>2307.0</td>\n      <td>41362.0</td>\n    </tr>\n  </tbody>\n</table>\n<p>249 rows × 2369 columns</p>\n</div>"
     },
     "execution_count": 34,
     "metadata": {},
     "output_type": "execute_result"
    }
   ],
   "source": [
    "df"
   ],
   "metadata": {
    "collapsed": false,
    "ExecuteTime": {
     "end_time": "2024-01-30T11:47:46.001308Z",
     "start_time": "2024-01-30T11:47:45.972161Z"
    }
   },
   "id": "25ca9c0ccdbcb5bd"
  },
  {
   "cell_type": "code",
   "execution_count": 35,
   "outputs": [
    {
     "data": {
      "text/plain": "     month countryname  sales_actuals_monthly__vehiclegroup01__orderintake  \\\n0        1   Country A                                              296.0    \n1        2   Country A                                              414.0    \n2        3   Country A                                              405.0    \n3        4   Country A                                              359.0    \n4        5   Country A                                              403.0    \n..     ...         ...                                                ...    \n244    245   Country A                                              351.0    \n245    246   Country A                                              536.0    \n246    247   Country A                                              371.0    \n247    248   Country A                                              304.0    \n248    249   Country A                                              287.0    \n\n     sales_actuals_monthly__vehiclegroup01__retail  \\\n0                                            352.0   \n1                                            372.0   \n2                                            604.0   \n3                                            483.0   \n4                                            474.0   \n..                                             ...   \n244                                          400.0   \n245                                          447.0   \n246                                          594.0   \n247                                          240.0   \n248                                          188.0   \n\n     sales_actuals_monthly__vehiclegroup02__orderintake  \\\n0                                                739.0    \n1                                                904.0    \n2                                               1000.0    \n3                                                828.0    \n4                                                594.0    \n..                                                 ...    \n244                                              133.0    \n245                                              180.0    \n246                                              211.0    \n247                                              206.0    \n248                                              289.0    \n\n     sales_actuals_monthly__vehiclegroup02__retail  \\\n0                                            471.0   \n1                                            528.0   \n2                                            953.0   \n3                                            972.0   \n4                                            900.0   \n..                                             ...   \n244                                          162.0   \n245                                          145.0   \n246                                          423.0   \n247                                          178.0   \n248                                          134.0   \n\n     sales_actuals_monthly__vehiclegroup03__orderintake  \\\n0                                                  NaN    \n1                                                  NaN    \n2                                                  NaN    \n3                                                  NaN    \n4                                                  NaN    \n..                                                 ...    \n244                                              290.0    \n245                                              549.0    \n246                                              382.0    \n247                                              376.0    \n248                                              536.0    \n\n     sales_actuals_monthly__vehiclegroup03__retail  \\\n0                                              NaN   \n1                                              NaN   \n2                                              NaN   \n3                                              NaN   \n4                                              NaN   \n..                                             ...   \n244                                          307.0   \n245                                          509.0   \n246                                          574.0   \n247                                          298.0   \n248                                          453.0   \n\n     sales_actuals_monthly__vehiclegroup04__orderintake  \\\n0                                                  NaN    \n1                                                  NaN    \n2                                                  NaN    \n3                                                  NaN    \n4                                                  NaN    \n..                                                 ...    \n244                                              150.0    \n245                                              146.0    \n246                                              307.0    \n247                                              262.0    \n248                                              311.0    \n\n     sales_actuals_monthly__vehiclegroup04__retail  ...  \\\n0                                              NaN  ...   \n1                                              NaN  ...   \n2                                              NaN  ...   \n3                                              NaN  ...   \n4                                              NaN  ...   \n..                                             ...  ...   \n244                                          276.0  ...   \n245                                          276.0  ...   \n246                                          677.0  ...   \n247                                          371.0  ...   \n248                                          211.0  ...   \n\n     registrations__buildtype_suv  registrations__buildtype_transport  \\\n0                             NaN                                 NaN   \n1                             NaN                                 NaN   \n2                             NaN                                 NaN   \n3                             NaN                                 NaN   \n4                             NaN                                 NaN   \n..                            ...                                 ...   \n244                       57882.0                             33701.0   \n245                       73501.0                             40542.0   \n246                      106156.0                             50455.0   \n247                       86244.0                             43338.0   \n248                       90473.0                             42691.0   \n\n     registrations__buildtype_van  registrations__buildtype_cabrio  \\\n0                             NaN                              NaN   \n1                             NaN                              NaN   \n2                             NaN                              NaN   \n3                             NaN                              NaN   \n4                             NaN                              NaN   \n..                            ...                              ...   \n244                        4002.0                           4479.0   \n245                        4997.0                           5212.0   \n246                        7039.0                           8140.0   \n247                        5776.0                           4532.0   \n248                        4929.0                           4489.0   \n\n     registrations__buildtype_stufenheck  registrations__buildtype_kurzheck  \\\n0                                    NaN                                NaN   \n1                                    NaN                                NaN   \n2                                    NaN                                NaN   \n3                                    NaN                                NaN   \n4                                    NaN                                NaN   \n..                                   ...                                ...   \n244                               8448.0                            42697.0   \n245                              11657.0                            60014.0   \n246                              18242.0                            89183.0   \n247                              15866.0                            73458.0   \n248                              14834.0                            83384.0   \n\n     registrations__buildtype_other  registrations__buildtype_pickup  \\\n0                               NaN                              NaN   \n1                               NaN                              NaN   \n2                               NaN                              NaN   \n3                               NaN                              NaN   \n4                               NaN                              NaN   \n..                              ...                              ...   \n244                          1762.0                           1401.0   \n245                          3018.0                           2035.0   \n246                          3065.0                           1813.0   \n247                          2907.0                           1560.0   \n248                          4869.0                           1013.0   \n\n     registrations__buildtype_coupe  registrations__buildtype_kombi  \n0                               NaN                             NaN  \n1                               NaN                             NaN  \n2                               NaN                             NaN  \n3                               NaN                             NaN  \n4                               NaN                             NaN  \n..                              ...                             ...  \n244                          1465.0                         28421.0  \n245                          2143.0                         38638.0  \n246                          3177.0                         52735.0  \n247                          2300.0                         38905.0  \n248                          2307.0                         41362.0  \n\n[249 rows x 2369 columns]",
      "text/html": "<div>\n<style scoped>\n    .dataframe tbody tr th:only-of-type {\n        vertical-align: middle;\n    }\n\n    .dataframe tbody tr th {\n        vertical-align: top;\n    }\n\n    .dataframe thead th {\n        text-align: right;\n    }\n</style>\n<table border=\"1\" class=\"dataframe\">\n  <thead>\n    <tr style=\"text-align: right;\">\n      <th></th>\n      <th>month</th>\n      <th>countryname</th>\n      <th>sales_actuals_monthly__vehiclegroup01__orderintake</th>\n      <th>sales_actuals_monthly__vehiclegroup01__retail</th>\n      <th>sales_actuals_monthly__vehiclegroup02__orderintake</th>\n      <th>sales_actuals_monthly__vehiclegroup02__retail</th>\n      <th>sales_actuals_monthly__vehiclegroup03__orderintake</th>\n      <th>sales_actuals_monthly__vehiclegroup03__retail</th>\n      <th>sales_actuals_monthly__vehiclegroup04__orderintake</th>\n      <th>sales_actuals_monthly__vehiclegroup04__retail</th>\n      <th>...</th>\n      <th>registrations__buildtype_suv</th>\n      <th>registrations__buildtype_transport</th>\n      <th>registrations__buildtype_van</th>\n      <th>registrations__buildtype_cabrio</th>\n      <th>registrations__buildtype_stufenheck</th>\n      <th>registrations__buildtype_kurzheck</th>\n      <th>registrations__buildtype_other</th>\n      <th>registrations__buildtype_pickup</th>\n      <th>registrations__buildtype_coupe</th>\n      <th>registrations__buildtype_kombi</th>\n    </tr>\n  </thead>\n  <tbody>\n    <tr>\n      <th>0</th>\n      <td>1</td>\n      <td>Country A</td>\n      <td>296.0</td>\n      <td>352.0</td>\n      <td>739.0</td>\n      <td>471.0</td>\n      <td>NaN</td>\n      <td>NaN</td>\n      <td>NaN</td>\n      <td>NaN</td>\n      <td>...</td>\n      <td>NaN</td>\n      <td>NaN</td>\n      <td>NaN</td>\n      <td>NaN</td>\n      <td>NaN</td>\n      <td>NaN</td>\n      <td>NaN</td>\n      <td>NaN</td>\n      <td>NaN</td>\n      <td>NaN</td>\n    </tr>\n    <tr>\n      <th>1</th>\n      <td>2</td>\n      <td>Country A</td>\n      <td>414.0</td>\n      <td>372.0</td>\n      <td>904.0</td>\n      <td>528.0</td>\n      <td>NaN</td>\n      <td>NaN</td>\n      <td>NaN</td>\n      <td>NaN</td>\n      <td>...</td>\n      <td>NaN</td>\n      <td>NaN</td>\n      <td>NaN</td>\n      <td>NaN</td>\n      <td>NaN</td>\n      <td>NaN</td>\n      <td>NaN</td>\n      <td>NaN</td>\n      <td>NaN</td>\n      <td>NaN</td>\n    </tr>\n    <tr>\n      <th>2</th>\n      <td>3</td>\n      <td>Country A</td>\n      <td>405.0</td>\n      <td>604.0</td>\n      <td>1000.0</td>\n      <td>953.0</td>\n      <td>NaN</td>\n      <td>NaN</td>\n      <td>NaN</td>\n      <td>NaN</td>\n      <td>...</td>\n      <td>NaN</td>\n      <td>NaN</td>\n      <td>NaN</td>\n      <td>NaN</td>\n      <td>NaN</td>\n      <td>NaN</td>\n      <td>NaN</td>\n      <td>NaN</td>\n      <td>NaN</td>\n      <td>NaN</td>\n    </tr>\n    <tr>\n      <th>3</th>\n      <td>4</td>\n      <td>Country A</td>\n      <td>359.0</td>\n      <td>483.0</td>\n      <td>828.0</td>\n      <td>972.0</td>\n      <td>NaN</td>\n      <td>NaN</td>\n      <td>NaN</td>\n      <td>NaN</td>\n      <td>...</td>\n      <td>NaN</td>\n      <td>NaN</td>\n      <td>NaN</td>\n      <td>NaN</td>\n      <td>NaN</td>\n      <td>NaN</td>\n      <td>NaN</td>\n      <td>NaN</td>\n      <td>NaN</td>\n      <td>NaN</td>\n    </tr>\n    <tr>\n      <th>4</th>\n      <td>5</td>\n      <td>Country A</td>\n      <td>403.0</td>\n      <td>474.0</td>\n      <td>594.0</td>\n      <td>900.0</td>\n      <td>NaN</td>\n      <td>NaN</td>\n      <td>NaN</td>\n      <td>NaN</td>\n      <td>...</td>\n      <td>NaN</td>\n      <td>NaN</td>\n      <td>NaN</td>\n      <td>NaN</td>\n      <td>NaN</td>\n      <td>NaN</td>\n      <td>NaN</td>\n      <td>NaN</td>\n      <td>NaN</td>\n      <td>NaN</td>\n    </tr>\n    <tr>\n      <th>...</th>\n      <td>...</td>\n      <td>...</td>\n      <td>...</td>\n      <td>...</td>\n      <td>...</td>\n      <td>...</td>\n      <td>...</td>\n      <td>...</td>\n      <td>...</td>\n      <td>...</td>\n      <td>...</td>\n      <td>...</td>\n      <td>...</td>\n      <td>...</td>\n      <td>...</td>\n      <td>...</td>\n      <td>...</td>\n      <td>...</td>\n      <td>...</td>\n      <td>...</td>\n      <td>...</td>\n    </tr>\n    <tr>\n      <th>244</th>\n      <td>245</td>\n      <td>Country A</td>\n      <td>351.0</td>\n      <td>400.0</td>\n      <td>133.0</td>\n      <td>162.0</td>\n      <td>290.0</td>\n      <td>307.0</td>\n      <td>150.0</td>\n      <td>276.0</td>\n      <td>...</td>\n      <td>57882.0</td>\n      <td>33701.0</td>\n      <td>4002.0</td>\n      <td>4479.0</td>\n      <td>8448.0</td>\n      <td>42697.0</td>\n      <td>1762.0</td>\n      <td>1401.0</td>\n      <td>1465.0</td>\n      <td>28421.0</td>\n    </tr>\n    <tr>\n      <th>245</th>\n      <td>246</td>\n      <td>Country A</td>\n      <td>536.0</td>\n      <td>447.0</td>\n      <td>180.0</td>\n      <td>145.0</td>\n      <td>549.0</td>\n      <td>509.0</td>\n      <td>146.0</td>\n      <td>276.0</td>\n      <td>...</td>\n      <td>73501.0</td>\n      <td>40542.0</td>\n      <td>4997.0</td>\n      <td>5212.0</td>\n      <td>11657.0</td>\n      <td>60014.0</td>\n      <td>3018.0</td>\n      <td>2035.0</td>\n      <td>2143.0</td>\n      <td>38638.0</td>\n    </tr>\n    <tr>\n      <th>246</th>\n      <td>247</td>\n      <td>Country A</td>\n      <td>371.0</td>\n      <td>594.0</td>\n      <td>211.0</td>\n      <td>423.0</td>\n      <td>382.0</td>\n      <td>574.0</td>\n      <td>307.0</td>\n      <td>677.0</td>\n      <td>...</td>\n      <td>106156.0</td>\n      <td>50455.0</td>\n      <td>7039.0</td>\n      <td>8140.0</td>\n      <td>18242.0</td>\n      <td>89183.0</td>\n      <td>3065.0</td>\n      <td>1813.0</td>\n      <td>3177.0</td>\n      <td>52735.0</td>\n    </tr>\n    <tr>\n      <th>247</th>\n      <td>248</td>\n      <td>Country A</td>\n      <td>304.0</td>\n      <td>240.0</td>\n      <td>206.0</td>\n      <td>178.0</td>\n      <td>376.0</td>\n      <td>298.0</td>\n      <td>262.0</td>\n      <td>371.0</td>\n      <td>...</td>\n      <td>86244.0</td>\n      <td>43338.0</td>\n      <td>5776.0</td>\n      <td>4532.0</td>\n      <td>15866.0</td>\n      <td>73458.0</td>\n      <td>2907.0</td>\n      <td>1560.0</td>\n      <td>2300.0</td>\n      <td>38905.0</td>\n    </tr>\n    <tr>\n      <th>248</th>\n      <td>249</td>\n      <td>Country A</td>\n      <td>287.0</td>\n      <td>188.0</td>\n      <td>289.0</td>\n      <td>134.0</td>\n      <td>536.0</td>\n      <td>453.0</td>\n      <td>311.0</td>\n      <td>211.0</td>\n      <td>...</td>\n      <td>90473.0</td>\n      <td>42691.0</td>\n      <td>4929.0</td>\n      <td>4489.0</td>\n      <td>14834.0</td>\n      <td>83384.0</td>\n      <td>4869.0</td>\n      <td>1013.0</td>\n      <td>2307.0</td>\n      <td>41362.0</td>\n    </tr>\n  </tbody>\n</table>\n<p>249 rows × 2369 columns</p>\n</div>"
     },
     "execution_count": 35,
     "metadata": {},
     "output_type": "execute_result"
    }
   ],
   "source": [],
   "metadata": {
    "collapsed": false,
    "ExecuteTime": {
     "end_time": "2024-01-30T12:39:22.477435Z",
     "start_time": "2024-01-30T12:39:22.454706Z"
    }
   },
   "id": "a034de21729fb3e0"
  },
  {
   "cell_type": "code",
   "execution_count": 36,
   "outputs": [],
   "source": [
    "def month_converter(month:int):\n",
    "    # bias of 6 garantuees 258 to be january\n",
    "    bias = 6\n",
    "    month = month + bias\n",
    "    m = (month % 12) + 1\n",
    "    m_string = str(m) if m > 9 else '0' + str(m)\n",
    "    y = month // 12\n",
    "    y_string = str(y) if y > 9 else '0' + str(y)\n",
    "    \n",
    "    return f'{m_string}/{y_string}'\n",
    "\n",
    "def convert_df(df:pd.DataFrame):\n",
    "    df['date'] = df['month'].apply(month_converter)\n",
    "    df['date']\n",
    "    df['date'] = pd.to_datetime(df['date'], format='%m/%y')\n",
    "    return df.set_index('date')"
   ],
   "metadata": {
    "collapsed": false,
    "ExecuteTime": {
     "end_time": "2024-01-30T13:53:16.876602Z",
     "start_time": "2024-01-30T13:53:16.872044Z"
    }
   },
   "id": "48bc5d9ba03fa051"
  },
  {
   "cell_type": "code",
   "execution_count": 37,
   "outputs": [],
   "source": [
    "df = pd.read_csv(\"kitCapstoneJan24_data.csv\", sep=\";\")"
   ],
   "metadata": {
    "collapsed": false,
    "ExecuteTime": {
     "end_time": "2024-01-30T13:53:48.769162Z",
     "start_time": "2024-01-30T13:53:48.311676Z"
    }
   },
   "id": "30066c54444791a0"
  },
  {
   "cell_type": "code",
   "execution_count": 38,
   "outputs": [],
   "source": [
    "df_v2 = convert_df(df)"
   ],
   "metadata": {
    "collapsed": false,
    "ExecuteTime": {
     "end_time": "2024-01-30T13:53:59.133884Z",
     "start_time": "2024-01-30T13:53:59.123651Z"
    }
   },
   "id": "535b02b9abd1f575"
  },
  {
   "cell_type": "code",
   "execution_count": 40,
   "outputs": [
    {
     "data": {
      "text/plain": "            month countryname  \\\ndate                            \n2000-08-01      1   Country A   \n2000-09-01      2   Country A   \n2000-10-01      3   Country A   \n2000-11-01      4   Country A   \n2000-12-01      5   Country A   \n...           ...         ...   \n2030-03-01    356   Country A   \n2030-04-01    357   Country A   \n2030-05-01    358   Country A   \n2030-06-01    359   Country A   \n2030-07-01    360   Country A   \n\n            sales_actuals_monthly__vehiclegroup01__orderintake  \\\ndate                                                             \n2000-08-01                                              296.0    \n2000-09-01                                              414.0    \n2000-10-01                                              405.0    \n2000-11-01                                              359.0    \n2000-12-01                                              403.0    \n...                                                       ...    \n2030-03-01                                                NaN    \n2030-04-01                                                NaN    \n2030-05-01                                                NaN    \n2030-06-01                                                NaN    \n2030-07-01                                                NaN    \n\n            sales_actuals_monthly__vehiclegroup01__retail  \\\ndate                                                        \n2000-08-01                                          352.0   \n2000-09-01                                          372.0   \n2000-10-01                                          604.0   \n2000-11-01                                          483.0   \n2000-12-01                                          474.0   \n...                                                   ...   \n2030-03-01                                            NaN   \n2030-04-01                                            NaN   \n2030-05-01                                            NaN   \n2030-06-01                                            NaN   \n2030-07-01                                            NaN   \n\n            sales_actuals_monthly__vehiclegroup02__orderintake  \\\ndate                                                             \n2000-08-01                                              739.0    \n2000-09-01                                              904.0    \n2000-10-01                                             1000.0    \n2000-11-01                                              828.0    \n2000-12-01                                              594.0    \n...                                                       ...    \n2030-03-01                                                NaN    \n2030-04-01                                                NaN    \n2030-05-01                                                NaN    \n2030-06-01                                                NaN    \n2030-07-01                                                NaN    \n\n            sales_actuals_monthly__vehiclegroup02__retail  \\\ndate                                                        \n2000-08-01                                          471.0   \n2000-09-01                                          528.0   \n2000-10-01                                          953.0   \n2000-11-01                                          972.0   \n2000-12-01                                          900.0   \n...                                                   ...   \n2030-03-01                                            NaN   \n2030-04-01                                            NaN   \n2030-05-01                                            NaN   \n2030-06-01                                            NaN   \n2030-07-01                                            NaN   \n\n            sales_actuals_monthly__vehiclegroup03__orderintake  \\\ndate                                                             \n2000-08-01                                                NaN    \n2000-09-01                                                NaN    \n2000-10-01                                                NaN    \n2000-11-01                                                NaN    \n2000-12-01                                                NaN    \n...                                                       ...    \n2030-03-01                                                NaN    \n2030-04-01                                                NaN    \n2030-05-01                                                NaN    \n2030-06-01                                                NaN    \n2030-07-01                                                NaN    \n\n            sales_actuals_monthly__vehiclegroup03__retail  \\\ndate                                                        \n2000-08-01                                            NaN   \n2000-09-01                                            NaN   \n2000-10-01                                            NaN   \n2000-11-01                                            NaN   \n2000-12-01                                            NaN   \n...                                                   ...   \n2030-03-01                                            NaN   \n2030-04-01                                            NaN   \n2030-05-01                                            NaN   \n2030-06-01                                            NaN   \n2030-07-01                                            NaN   \n\n            sales_actuals_monthly__vehiclegroup04__orderintake  \\\ndate                                                             \n2000-08-01                                                NaN    \n2000-09-01                                                NaN    \n2000-10-01                                                NaN    \n2000-11-01                                                NaN    \n2000-12-01                                                NaN    \n...                                                       ...    \n2030-03-01                                                NaN    \n2030-04-01                                                NaN    \n2030-05-01                                                NaN    \n2030-06-01                                                NaN    \n2030-07-01                                                NaN    \n\n            sales_actuals_monthly__vehiclegroup04__retail  ...  \\\ndate                                                       ...   \n2000-08-01                                            NaN  ...   \n2000-09-01                                            NaN  ...   \n2000-10-01                                            NaN  ...   \n2000-11-01                                            NaN  ...   \n2000-12-01                                            NaN  ...   \n...                                                   ...  ...   \n2030-03-01                                            NaN  ...   \n2030-04-01                                            NaN  ...   \n2030-05-01                                            NaN  ...   \n2030-06-01                                            NaN  ...   \n2030-07-01                                            NaN  ...   \n\n            registrations__buildtype_suv  registrations__buildtype_transport  \\\ndate                                                                           \n2000-08-01                           NaN                                 NaN   \n2000-09-01                           NaN                                 NaN   \n2000-10-01                           NaN                                 NaN   \n2000-11-01                           NaN                                 NaN   \n2000-12-01                           NaN                                 NaN   \n...                                  ...                                 ...   \n2030-03-01                           NaN                                 NaN   \n2030-04-01                           NaN                                 NaN   \n2030-05-01                           NaN                                 NaN   \n2030-06-01                           NaN                                 NaN   \n2030-07-01                           NaN                                 NaN   \n\n            registrations__buildtype_van  registrations__buildtype_cabrio  \\\ndate                                                                        \n2000-08-01                           NaN                              NaN   \n2000-09-01                           NaN                              NaN   \n2000-10-01                           NaN                              NaN   \n2000-11-01                           NaN                              NaN   \n2000-12-01                           NaN                              NaN   \n...                                  ...                              ...   \n2030-03-01                           NaN                              NaN   \n2030-04-01                           NaN                              NaN   \n2030-05-01                           NaN                              NaN   \n2030-06-01                           NaN                              NaN   \n2030-07-01                           NaN                              NaN   \n\n            registrations__buildtype_stufenheck  \\\ndate                                              \n2000-08-01                                  NaN   \n2000-09-01                                  NaN   \n2000-10-01                                  NaN   \n2000-11-01                                  NaN   \n2000-12-01                                  NaN   \n...                                         ...   \n2030-03-01                                  NaN   \n2030-04-01                                  NaN   \n2030-05-01                                  NaN   \n2030-06-01                                  NaN   \n2030-07-01                                  NaN   \n\n            registrations__buildtype_kurzheck  registrations__buildtype_other  \\\ndate                                                                            \n2000-08-01                                NaN                             NaN   \n2000-09-01                                NaN                             NaN   \n2000-10-01                                NaN                             NaN   \n2000-11-01                                NaN                             NaN   \n2000-12-01                                NaN                             NaN   \n...                                       ...                             ...   \n2030-03-01                                NaN                             NaN   \n2030-04-01                                NaN                             NaN   \n2030-05-01                                NaN                             NaN   \n2030-06-01                                NaN                             NaN   \n2030-07-01                                NaN                             NaN   \n\n            registrations__buildtype_pickup  registrations__buildtype_coupe  \\\ndate                                                                          \n2000-08-01                              NaN                             NaN   \n2000-09-01                              NaN                             NaN   \n2000-10-01                              NaN                             NaN   \n2000-11-01                              NaN                             NaN   \n2000-12-01                              NaN                             NaN   \n...                                     ...                             ...   \n2030-03-01                              NaN                             NaN   \n2030-04-01                              NaN                             NaN   \n2030-05-01                              NaN                             NaN   \n2030-06-01                              NaN                             NaN   \n2030-07-01                              NaN                             NaN   \n\n            registrations__buildtype_kombi  \ndate                                        \n2000-08-01                             NaN  \n2000-09-01                             NaN  \n2000-10-01                             NaN  \n2000-11-01                             NaN  \n2000-12-01                             NaN  \n...                                    ...  \n2030-03-01                             NaN  \n2030-04-01                             NaN  \n2030-05-01                             NaN  \n2030-06-01                             NaN  \n2030-07-01                             NaN  \n\n[360 rows x 2369 columns]",
      "text/html": "<div>\n<style scoped>\n    .dataframe tbody tr th:only-of-type {\n        vertical-align: middle;\n    }\n\n    .dataframe tbody tr th {\n        vertical-align: top;\n    }\n\n    .dataframe thead th {\n        text-align: right;\n    }\n</style>\n<table border=\"1\" class=\"dataframe\">\n  <thead>\n    <tr style=\"text-align: right;\">\n      <th></th>\n      <th>month</th>\n      <th>countryname</th>\n      <th>sales_actuals_monthly__vehiclegroup01__orderintake</th>\n      <th>sales_actuals_monthly__vehiclegroup01__retail</th>\n      <th>sales_actuals_monthly__vehiclegroup02__orderintake</th>\n      <th>sales_actuals_monthly__vehiclegroup02__retail</th>\n      <th>sales_actuals_monthly__vehiclegroup03__orderintake</th>\n      <th>sales_actuals_monthly__vehiclegroup03__retail</th>\n      <th>sales_actuals_monthly__vehiclegroup04__orderintake</th>\n      <th>sales_actuals_monthly__vehiclegroup04__retail</th>\n      <th>...</th>\n      <th>registrations__buildtype_suv</th>\n      <th>registrations__buildtype_transport</th>\n      <th>registrations__buildtype_van</th>\n      <th>registrations__buildtype_cabrio</th>\n      <th>registrations__buildtype_stufenheck</th>\n      <th>registrations__buildtype_kurzheck</th>\n      <th>registrations__buildtype_other</th>\n      <th>registrations__buildtype_pickup</th>\n      <th>registrations__buildtype_coupe</th>\n      <th>registrations__buildtype_kombi</th>\n    </tr>\n    <tr>\n      <th>date</th>\n      <th></th>\n      <th></th>\n      <th></th>\n      <th></th>\n      <th></th>\n      <th></th>\n      <th></th>\n      <th></th>\n      <th></th>\n      <th></th>\n      <th></th>\n      <th></th>\n      <th></th>\n      <th></th>\n      <th></th>\n      <th></th>\n      <th></th>\n      <th></th>\n      <th></th>\n      <th></th>\n      <th></th>\n    </tr>\n  </thead>\n  <tbody>\n    <tr>\n      <th>2000-08-01</th>\n      <td>1</td>\n      <td>Country A</td>\n      <td>296.0</td>\n      <td>352.0</td>\n      <td>739.0</td>\n      <td>471.0</td>\n      <td>NaN</td>\n      <td>NaN</td>\n      <td>NaN</td>\n      <td>NaN</td>\n      <td>...</td>\n      <td>NaN</td>\n      <td>NaN</td>\n      <td>NaN</td>\n      <td>NaN</td>\n      <td>NaN</td>\n      <td>NaN</td>\n      <td>NaN</td>\n      <td>NaN</td>\n      <td>NaN</td>\n      <td>NaN</td>\n    </tr>\n    <tr>\n      <th>2000-09-01</th>\n      <td>2</td>\n      <td>Country A</td>\n      <td>414.0</td>\n      <td>372.0</td>\n      <td>904.0</td>\n      <td>528.0</td>\n      <td>NaN</td>\n      <td>NaN</td>\n      <td>NaN</td>\n      <td>NaN</td>\n      <td>...</td>\n      <td>NaN</td>\n      <td>NaN</td>\n      <td>NaN</td>\n      <td>NaN</td>\n      <td>NaN</td>\n      <td>NaN</td>\n      <td>NaN</td>\n      <td>NaN</td>\n      <td>NaN</td>\n      <td>NaN</td>\n    </tr>\n    <tr>\n      <th>2000-10-01</th>\n      <td>3</td>\n      <td>Country A</td>\n      <td>405.0</td>\n      <td>604.0</td>\n      <td>1000.0</td>\n      <td>953.0</td>\n      <td>NaN</td>\n      <td>NaN</td>\n      <td>NaN</td>\n      <td>NaN</td>\n      <td>...</td>\n      <td>NaN</td>\n      <td>NaN</td>\n      <td>NaN</td>\n      <td>NaN</td>\n      <td>NaN</td>\n      <td>NaN</td>\n      <td>NaN</td>\n      <td>NaN</td>\n      <td>NaN</td>\n      <td>NaN</td>\n    </tr>\n    <tr>\n      <th>2000-11-01</th>\n      <td>4</td>\n      <td>Country A</td>\n      <td>359.0</td>\n      <td>483.0</td>\n      <td>828.0</td>\n      <td>972.0</td>\n      <td>NaN</td>\n      <td>NaN</td>\n      <td>NaN</td>\n      <td>NaN</td>\n      <td>...</td>\n      <td>NaN</td>\n      <td>NaN</td>\n      <td>NaN</td>\n      <td>NaN</td>\n      <td>NaN</td>\n      <td>NaN</td>\n      <td>NaN</td>\n      <td>NaN</td>\n      <td>NaN</td>\n      <td>NaN</td>\n    </tr>\n    <tr>\n      <th>2000-12-01</th>\n      <td>5</td>\n      <td>Country A</td>\n      <td>403.0</td>\n      <td>474.0</td>\n      <td>594.0</td>\n      <td>900.0</td>\n      <td>NaN</td>\n      <td>NaN</td>\n      <td>NaN</td>\n      <td>NaN</td>\n      <td>...</td>\n      <td>NaN</td>\n      <td>NaN</td>\n      <td>NaN</td>\n      <td>NaN</td>\n      <td>NaN</td>\n      <td>NaN</td>\n      <td>NaN</td>\n      <td>NaN</td>\n      <td>NaN</td>\n      <td>NaN</td>\n    </tr>\n    <tr>\n      <th>...</th>\n      <td>...</td>\n      <td>...</td>\n      <td>...</td>\n      <td>...</td>\n      <td>...</td>\n      <td>...</td>\n      <td>...</td>\n      <td>...</td>\n      <td>...</td>\n      <td>...</td>\n      <td>...</td>\n      <td>...</td>\n      <td>...</td>\n      <td>...</td>\n      <td>...</td>\n      <td>...</td>\n      <td>...</td>\n      <td>...</td>\n      <td>...</td>\n      <td>...</td>\n      <td>...</td>\n    </tr>\n    <tr>\n      <th>2030-03-01</th>\n      <td>356</td>\n      <td>Country A</td>\n      <td>NaN</td>\n      <td>NaN</td>\n      <td>NaN</td>\n      <td>NaN</td>\n      <td>NaN</td>\n      <td>NaN</td>\n      <td>NaN</td>\n      <td>NaN</td>\n      <td>...</td>\n      <td>NaN</td>\n      <td>NaN</td>\n      <td>NaN</td>\n      <td>NaN</td>\n      <td>NaN</td>\n      <td>NaN</td>\n      <td>NaN</td>\n      <td>NaN</td>\n      <td>NaN</td>\n      <td>NaN</td>\n    </tr>\n    <tr>\n      <th>2030-04-01</th>\n      <td>357</td>\n      <td>Country A</td>\n      <td>NaN</td>\n      <td>NaN</td>\n      <td>NaN</td>\n      <td>NaN</td>\n      <td>NaN</td>\n      <td>NaN</td>\n      <td>NaN</td>\n      <td>NaN</td>\n      <td>...</td>\n      <td>NaN</td>\n      <td>NaN</td>\n      <td>NaN</td>\n      <td>NaN</td>\n      <td>NaN</td>\n      <td>NaN</td>\n      <td>NaN</td>\n      <td>NaN</td>\n      <td>NaN</td>\n      <td>NaN</td>\n    </tr>\n    <tr>\n      <th>2030-05-01</th>\n      <td>358</td>\n      <td>Country A</td>\n      <td>NaN</td>\n      <td>NaN</td>\n      <td>NaN</td>\n      <td>NaN</td>\n      <td>NaN</td>\n      <td>NaN</td>\n      <td>NaN</td>\n      <td>NaN</td>\n      <td>...</td>\n      <td>NaN</td>\n      <td>NaN</td>\n      <td>NaN</td>\n      <td>NaN</td>\n      <td>NaN</td>\n      <td>NaN</td>\n      <td>NaN</td>\n      <td>NaN</td>\n      <td>NaN</td>\n      <td>NaN</td>\n    </tr>\n    <tr>\n      <th>2030-06-01</th>\n      <td>359</td>\n      <td>Country A</td>\n      <td>NaN</td>\n      <td>NaN</td>\n      <td>NaN</td>\n      <td>NaN</td>\n      <td>NaN</td>\n      <td>NaN</td>\n      <td>NaN</td>\n      <td>NaN</td>\n      <td>...</td>\n      <td>NaN</td>\n      <td>NaN</td>\n      <td>NaN</td>\n      <td>NaN</td>\n      <td>NaN</td>\n      <td>NaN</td>\n      <td>NaN</td>\n      <td>NaN</td>\n      <td>NaN</td>\n      <td>NaN</td>\n    </tr>\n    <tr>\n      <th>2030-07-01</th>\n      <td>360</td>\n      <td>Country A</td>\n      <td>NaN</td>\n      <td>NaN</td>\n      <td>NaN</td>\n      <td>NaN</td>\n      <td>NaN</td>\n      <td>NaN</td>\n      <td>NaN</td>\n      <td>NaN</td>\n      <td>...</td>\n      <td>NaN</td>\n      <td>NaN</td>\n      <td>NaN</td>\n      <td>NaN</td>\n      <td>NaN</td>\n      <td>NaN</td>\n      <td>NaN</td>\n      <td>NaN</td>\n      <td>NaN</td>\n      <td>NaN</td>\n    </tr>\n  </tbody>\n</table>\n<p>360 rows × 2369 columns</p>\n</div>"
     },
     "execution_count": 40,
     "metadata": {},
     "output_type": "execute_result"
    }
   ],
   "source": [
    "df_v2[df_v2.countryname == \"Country A\"]"
   ],
   "metadata": {
    "collapsed": false,
    "ExecuteTime": {
     "end_time": "2024-01-30T13:58:59.882648Z",
     "start_time": "2024-01-30T13:58:59.856588Z"
    }
   },
   "id": "12c1377656eb70ca"
  },
  {
   "cell_type": "code",
   "execution_count": 41,
   "outputs": [],
   "source": [
    "df_export = df_v2 = convert_df(df)"
   ],
   "metadata": {
    "collapsed": false,
    "ExecuteTime": {
     "end_time": "2024-01-30T14:05:59.102490Z",
     "start_time": "2024-01-30T14:05:59.032389Z"
    }
   },
   "id": "49b2e5aa4a44c882"
  },
  {
   "cell_type": "code",
   "execution_count": 42,
   "outputs": [],
   "source": [
    "df_export.to_csv(\"data_with_date\")"
   ],
   "metadata": {
    "collapsed": false,
    "ExecuteTime": {
     "end_time": "2024-01-30T14:06:40.612774Z",
     "start_time": "2024-01-30T14:06:37.709494Z"
    }
   },
   "id": "6f10922fe6f474a6"
  },
  {
   "cell_type": "code",
   "execution_count": 50,
   "outputs": [],
   "source": [
    "## POWER BI Transformer\n",
    "\n",
    "def create_ds():\n",
    "    df = pd.read_csv(\"kitCapstoneJan24_data.csv\", sep=\";\")\n",
    "    df['date'] = df['month'].apply(month_converter)\n",
    "    df['date'] = pd.to_datetime(df['date'], format='%m/%y')\n",
    "    # Assuming df is your DataFrame\n",
    "    # Assuming df is your DataFrame\n",
    "    df['sales_actuals_monthly__vehiclegroup01__orderintake'] = pd.to_numeric(df['sales_actuals_monthly__vehiclegroup01__orderintake'], errors='coerce')\n",
    "    df['sales_actuals_monthly__vehiclegroup01__orderintake'] = df['sales_actuals_monthly__vehiclegroup01__orderintake'].fillna(0).astype(int)\n",
    "    columns_to_keep = ['sales_actuals_monthly__vehiclegroup01__orderintake', 'month', 'date', 'countryname']\n",
    "    df = df[columns_to_keep]\n",
    "    df.to_csv(\"data_with_date_v2.csv\")\n"
   ],
   "metadata": {
    "collapsed": false,
    "ExecuteTime": {
     "end_time": "2024-01-30T14:44:19.841178Z",
     "start_time": "2024-01-30T14:44:19.836246Z"
    }
   },
   "id": "7f9338fc526b13ae"
  },
  {
   "cell_type": "code",
   "execution_count": 51,
   "outputs": [],
   "source": [
    "create_ds()"
   ],
   "metadata": {
    "collapsed": false,
    "ExecuteTime": {
     "end_time": "2024-01-30T14:44:23.298574Z",
     "start_time": "2024-01-30T14:44:22.895981Z"
    }
   },
   "id": "cdf663ceedd083bb"
  },
  {
   "cell_type": "code",
   "execution_count": 4,
   "outputs": [
    {
     "ename": "NameError",
     "evalue": "name 'month_converter' is not defined",
     "output_type": "error",
     "traceback": [
      "\u001B[0;31m---------------------------------------------------------------------------\u001B[0m",
      "\u001B[0;31mNameError\u001B[0m                                 Traceback (most recent call last)",
      "Input \u001B[0;32mIn [4]\u001B[0m, in \u001B[0;36m<cell line: 2>\u001B[0;34m()\u001B[0m\n\u001B[1;32m      1\u001B[0m df \u001B[38;5;241m=\u001B[39m pd\u001B[38;5;241m.\u001B[39mread_csv(\u001B[38;5;124m\"\u001B[39m\u001B[38;5;124m./data/kitCapstoneJan24_data.csv\u001B[39m\u001B[38;5;124m\"\u001B[39m, sep\u001B[38;5;241m=\u001B[39m\u001B[38;5;124m\"\u001B[39m\u001B[38;5;124m;\u001B[39m\u001B[38;5;124m\"\u001B[39m)\n\u001B[0;32m----> 2\u001B[0m df[\u001B[38;5;124m'\u001B[39m\u001B[38;5;124mdate\u001B[39m\u001B[38;5;124m'\u001B[39m] \u001B[38;5;241m=\u001B[39m df[\u001B[38;5;124m'\u001B[39m\u001B[38;5;124mmonth\u001B[39m\u001B[38;5;124m'\u001B[39m]\u001B[38;5;241m.\u001B[39mapply(\u001B[43mmonth_converter\u001B[49m)\n\u001B[1;32m      3\u001B[0m df[\u001B[38;5;124m'\u001B[39m\u001B[38;5;124mdate\u001B[39m\u001B[38;5;124m'\u001B[39m] \u001B[38;5;241m=\u001B[39m pd\u001B[38;5;241m.\u001B[39mto_datetime(df[\u001B[38;5;124m'\u001B[39m\u001B[38;5;124mdate\u001B[39m\u001B[38;5;124m'\u001B[39m], \u001B[38;5;28mformat\u001B[39m\u001B[38;5;241m=\u001B[39m\u001B[38;5;124m'\u001B[39m\u001B[38;5;124m%\u001B[39m\u001B[38;5;124mm/\u001B[39m\u001B[38;5;124m%\u001B[39m\u001B[38;5;124my\u001B[39m\u001B[38;5;124m'\u001B[39m)\n\u001B[1;32m      4\u001B[0m df\n",
      "\u001B[0;31mNameError\u001B[0m: name 'month_converter' is not defined"
     ]
    }
   ],
   "source": [
    "df = pd.read_csv(\"./data/kitCapstoneJan24_data.csv\", sep=\";\")\n",
    "df['date'] = df['month'].apply(month_converter)\n",
    "df['date'] = pd.to_datetime(df['date'], format='%m/%y')\n",
    "df"
   ],
   "metadata": {
    "collapsed": false,
    "ExecuteTime": {
     "end_time": "2024-01-30T16:02:14.592571Z",
     "start_time": "2024-01-30T16:02:14.077172Z"
    }
   },
   "id": "eee462e25c99dcd9"
  },
  {
   "cell_type": "code",
   "execution_count": null,
   "outputs": [],
   "source": [
    "df = pd.read_csv(\"kitCapstoneJan24_data.csv\", sep=\";\")\n",
    "df['date'] = df['month'].apply(month_converter)\n",
    "df['date'] = pd.to_datetime(df['date'], format='%m/%y')\n",
    "\n",
    "\n",
    "\n",
    "### GENERATE BI DATASET \n",
    "\n",
    "## Filter cols\n",
    "columns_to_keep = ['sales_actuals_monthly__vehiclegroup01__orderintake', 'month', 'date', 'countryname']\n",
    "df = df[columns_to_keep]\n",
    "\n",
    "### GENERATE COL WITH DATA FROM LAST YEAR\n",
    "# Assuming df is your DataFrame\n",
    "column_name = 'sales_actuals_monthly__vehiclegroup01__orderintake'\n",
    "\n",
    "# Save the last 12 values\n",
    "last_12_values = df[column_name][-12:]\n",
    "\n",
    "# Remove the last 12 values\n",
    "df[column_name] = df[column_name][:-12]\n",
    "\n",
    "# Reset the index\n",
    "df = df.reset_index(drop=True)\n",
    "\n",
    "# Add the saved values to the front and create the new column\n",
    "df['last_year_order_intake'] = pd.concat([last_12_values, df[column_name]], ignore_index=True)\n",
    "\n",
    "\n",
    "\n",
    "## Check for missing, null values and transform to INT\n",
    "\n",
    "df[column_name] = pd.to_numeric(df[column_name], errors='coerce')\n",
    "df[column_name] = df[column_name].fillna(0).astype(int)\n",
    "\n",
    "df['last_year_order_intake'] = pd.to_numeric(df['last_year_order_intake'], errors='coerce')\n",
    "df['last_year_order_intake'] = df['last_year_order_intake'].fillna(0).astype(int)\n",
    "\n",
    "\n",
    "## Calculate Percentage Change / Absolut Change\n",
    "\n",
    "\n",
    "df.to_csv(\"data_with_date_v4.csv\")"
   ],
   "metadata": {
    "collapsed": false
   },
   "id": "8e290e9bd61d4821"
  },
  {
   "cell_type": "code",
   "execution_count": 63,
   "outputs": [
    {
     "data": {
      "text/plain": "      sales_actuals_monthly__vehiclegroup01__orderintake  month       date  \\\n8                                                 246.0       9 2001-04-01   \n9                                                 290.0      10 2001-05-01   \n10                                                310.0      11 2001-06-01   \n11                                                189.0      12 2001-07-01   \n12                                                353.0      13 2001-08-01   \n...                                                 ...     ...        ...   \n1435                                                NaN     356 2030-03-01   \n1436                                                NaN     357 2030-04-01   \n1437                                                NaN     358 2030-05-01   \n1438                                                NaN     359 2030-06-01   \n1439                                                NaN     360 2030-07-01   \n\n     countryname  last_year_order_intake  \n8      Country A                     0.0  \n9      Country A                     0.0  \n10     Country A                     0.0  \n11     Country A                     0.0  \n12     Country A                   296.0  \n...          ...                     ...  \n1435   Country D                     0.0  \n1436   Country D                     0.0  \n1437   Country D                     0.0  \n1438   Country D                     0.0  \n1439   Country D                     0.0  \n\n[1408 rows x 5 columns]",
      "text/html": "<div>\n<style scoped>\n    .dataframe tbody tr th:only-of-type {\n        vertical-align: middle;\n    }\n\n    .dataframe tbody tr th {\n        vertical-align: top;\n    }\n\n    .dataframe thead th {\n        text-align: right;\n    }\n</style>\n<table border=\"1\" class=\"dataframe\">\n  <thead>\n    <tr style=\"text-align: right;\">\n      <th></th>\n      <th>sales_actuals_monthly__vehiclegroup01__orderintake</th>\n      <th>month</th>\n      <th>date</th>\n      <th>countryname</th>\n      <th>last_year_order_intake</th>\n    </tr>\n  </thead>\n  <tbody>\n    <tr>\n      <th>8</th>\n      <td>246.0</td>\n      <td>9</td>\n      <td>2001-04-01</td>\n      <td>Country A</td>\n      <td>0.0</td>\n    </tr>\n    <tr>\n      <th>9</th>\n      <td>290.0</td>\n      <td>10</td>\n      <td>2001-05-01</td>\n      <td>Country A</td>\n      <td>0.0</td>\n    </tr>\n    <tr>\n      <th>10</th>\n      <td>310.0</td>\n      <td>11</td>\n      <td>2001-06-01</td>\n      <td>Country A</td>\n      <td>0.0</td>\n    </tr>\n    <tr>\n      <th>11</th>\n      <td>189.0</td>\n      <td>12</td>\n      <td>2001-07-01</td>\n      <td>Country A</td>\n      <td>0.0</td>\n    </tr>\n    <tr>\n      <th>12</th>\n      <td>353.0</td>\n      <td>13</td>\n      <td>2001-08-01</td>\n      <td>Country A</td>\n      <td>296.0</td>\n    </tr>\n    <tr>\n      <th>...</th>\n      <td>...</td>\n      <td>...</td>\n      <td>...</td>\n      <td>...</td>\n      <td>...</td>\n    </tr>\n    <tr>\n      <th>1435</th>\n      <td>NaN</td>\n      <td>356</td>\n      <td>2030-03-01</td>\n      <td>Country D</td>\n      <td>0.0</td>\n    </tr>\n    <tr>\n      <th>1436</th>\n      <td>NaN</td>\n      <td>357</td>\n      <td>2030-04-01</td>\n      <td>Country D</td>\n      <td>0.0</td>\n    </tr>\n    <tr>\n      <th>1437</th>\n      <td>NaN</td>\n      <td>358</td>\n      <td>2030-05-01</td>\n      <td>Country D</td>\n      <td>0.0</td>\n    </tr>\n    <tr>\n      <th>1438</th>\n      <td>NaN</td>\n      <td>359</td>\n      <td>2030-06-01</td>\n      <td>Country D</td>\n      <td>0.0</td>\n    </tr>\n    <tr>\n      <th>1439</th>\n      <td>NaN</td>\n      <td>360</td>\n      <td>2030-07-01</td>\n      <td>Country D</td>\n      <td>0.0</td>\n    </tr>\n  </tbody>\n</table>\n<p>1408 rows × 5 columns</p>\n</div>"
     },
     "execution_count": 63,
     "metadata": {},
     "output_type": "execute_result"
    }
   ],
   "source": [],
   "metadata": {
    "collapsed": false,
    "ExecuteTime": {
     "end_time": "2024-01-30T15:30:37.008673Z",
     "start_time": "2024-01-30T15:30:37.004337Z"
    }
   },
   "id": "2ce8337d92f20a00"
  },
  {
   "cell_type": "code",
   "execution_count": 3,
   "outputs": [
    {
     "ename": "NameError",
     "evalue": "name 'pd' is not defined",
     "output_type": "error",
     "traceback": [
      "\u001B[0;31m---------------------------------------------------------------------------\u001B[0m",
      "\u001B[0;31mNameError\u001B[0m                                 Traceback (most recent call last)",
      "Input \u001B[0;32mIn [3]\u001B[0m, in \u001B[0;36m<cell line: 1>\u001B[0;34m()\u001B[0m\n\u001B[0;32m----> 1\u001B[0m df \u001B[38;5;241m=\u001B[39m \u001B[43mpd\u001B[49m\u001B[38;5;241m.\u001B[39mread_csv(\u001B[38;5;124m\"\u001B[39m\u001B[38;5;124mkitCapstoneJan24_data.csv\u001B[39m\u001B[38;5;124m\"\u001B[39m, sep\u001B[38;5;241m=\u001B[39m\u001B[38;5;124m\"\u001B[39m\u001B[38;5;124m;\u001B[39m\u001B[38;5;124m\"\u001B[39m)\n",
      "\u001B[0;31mNameError\u001B[0m: name 'pd' is not defined"
     ]
    }
   ],
   "source": [
    "df = pd.read_csv(\"kitCapstoneJan24_data.csv\", sep=\";\")"
   ],
   "metadata": {
    "collapsed": false,
    "ExecuteTime": {
     "end_time": "2024-01-31T08:27:23.038259Z",
     "start_time": "2024-01-31T08:27:23.033065Z"
    }
   },
   "id": "6aff294a0974c382"
  },
  {
   "cell_type": "code",
   "execution_count": 10,
   "outputs": [
    {
     "data": {
      "text/plain": "           countryname  sales_actuals_monthly__vehiclegroup01__orderintake  \\\ndate                                                                         \n2000-01-01   Country A                                              296.0    \n2000-02-01   Country A                                              414.0    \n2000-03-01   Country A                                              405.0    \n2000-04-01   Country A                                              359.0    \n2000-05-01   Country A                                              403.0    \n...                ...                                                ...    \n2029-08-01   Country D                                                NaN    \n2029-09-01   Country D                                                NaN    \n2029-10-01   Country D                                                NaN    \n2029-11-01   Country D                                                NaN    \n2030-12-01   Country D                                                NaN    \n\n            sales_actuals_monthly__vehiclegroup01__retail  \\\ndate                                                        \n2000-01-01                                          352.0   \n2000-02-01                                          372.0   \n2000-03-01                                          604.0   \n2000-04-01                                          483.0   \n2000-05-01                                          474.0   \n...                                                   ...   \n2029-08-01                                            NaN   \n2029-09-01                                            NaN   \n2029-10-01                                            NaN   \n2029-11-01                                            NaN   \n2030-12-01                                            NaN   \n\n            sales_actuals_monthly__vehiclegroup02__orderintake  \\\ndate                                                             \n2000-01-01                                              739.0    \n2000-02-01                                              904.0    \n2000-03-01                                             1000.0    \n2000-04-01                                              828.0    \n2000-05-01                                              594.0    \n...                                                       ...    \n2029-08-01                                                NaN    \n2029-09-01                                                NaN    \n2029-10-01                                                NaN    \n2029-11-01                                                NaN    \n2030-12-01                                                NaN    \n\n            sales_actuals_monthly__vehiclegroup02__retail  \\\ndate                                                        \n2000-01-01                                          471.0   \n2000-02-01                                          528.0   \n2000-03-01                                          953.0   \n2000-04-01                                          972.0   \n2000-05-01                                          900.0   \n...                                                   ...   \n2029-08-01                                            NaN   \n2029-09-01                                            NaN   \n2029-10-01                                            NaN   \n2029-11-01                                            NaN   \n2030-12-01                                            NaN   \n\n            sales_actuals_monthly__vehiclegroup03__orderintake  \\\ndate                                                             \n2000-01-01                                                NaN    \n2000-02-01                                                NaN    \n2000-03-01                                                NaN    \n2000-04-01                                                NaN    \n2000-05-01                                                NaN    \n...                                                       ...    \n2029-08-01                                                NaN    \n2029-09-01                                                NaN    \n2029-10-01                                                NaN    \n2029-11-01                                                NaN    \n2030-12-01                                                NaN    \n\n            sales_actuals_monthly__vehiclegroup03__retail  \\\ndate                                                        \n2000-01-01                                            NaN   \n2000-02-01                                            NaN   \n2000-03-01                                            NaN   \n2000-04-01                                            NaN   \n2000-05-01                                            NaN   \n...                                                   ...   \n2029-08-01                                            NaN   \n2029-09-01                                            NaN   \n2029-10-01                                            NaN   \n2029-11-01                                            NaN   \n2030-12-01                                            NaN   \n\n            sales_actuals_monthly__vehiclegroup04__orderintake  \\\ndate                                                             \n2000-01-01                                                NaN    \n2000-02-01                                                NaN    \n2000-03-01                                                NaN    \n2000-04-01                                                NaN    \n2000-05-01                                                NaN    \n...                                                       ...    \n2029-08-01                                                NaN    \n2029-09-01                                                NaN    \n2029-10-01                                                NaN    \n2029-11-01                                                NaN    \n2030-12-01                                                NaN    \n\n            sales_actuals_monthly__vehiclegroup04__retail  \\\ndate                                                        \n2000-01-01                                            NaN   \n2000-02-01                                            NaN   \n2000-03-01                                            NaN   \n2000-04-01                                            NaN   \n2000-05-01                                            NaN   \n...                                                   ...   \n2029-08-01                                            NaN   \n2029-09-01                                            NaN   \n2029-10-01                                            NaN   \n2029-11-01                                            NaN   \n2030-12-01                                            NaN   \n\n            sales_actuals_monthly__vehiclegroup05__orderintake  ...  \\\ndate                                                            ...   \n2000-01-01                                                NaN   ...   \n2000-02-01                                                NaN   ...   \n2000-03-01                                                NaN   ...   \n2000-04-01                                                NaN   ...   \n2000-05-01                                                NaN   ...   \n...                                                       ...   ...   \n2029-08-01                                                NaN   ...   \n2029-09-01                                                NaN   ...   \n2029-10-01                                                NaN   ...   \n2029-11-01                                                NaN   ...   \n2030-12-01                                                NaN   ...   \n\n            registrations__buildtype_suv  registrations__buildtype_transport  \\\ndate                                                                           \n2000-01-01                           NaN                                 NaN   \n2000-02-01                           NaN                                 NaN   \n2000-03-01                           NaN                                 NaN   \n2000-04-01                           NaN                                 NaN   \n2000-05-01                           NaN                                 NaN   \n...                                  ...                                 ...   \n2029-08-01                           NaN                                 NaN   \n2029-09-01                           NaN                                 NaN   \n2029-10-01                           NaN                                 NaN   \n2029-11-01                           NaN                                 NaN   \n2030-12-01                           NaN                                 NaN   \n\n            registrations__buildtype_van  registrations__buildtype_cabrio  \\\ndate                                                                        \n2000-01-01                           NaN                              NaN   \n2000-02-01                           NaN                              NaN   \n2000-03-01                           NaN                              NaN   \n2000-04-01                           NaN                              NaN   \n2000-05-01                           NaN                              NaN   \n...                                  ...                              ...   \n2029-08-01                           NaN                              NaN   \n2029-09-01                           NaN                              NaN   \n2029-10-01                           NaN                              NaN   \n2029-11-01                           NaN                              NaN   \n2030-12-01                           NaN                              NaN   \n\n            registrations__buildtype_stufenheck  \\\ndate                                              \n2000-01-01                                  NaN   \n2000-02-01                                  NaN   \n2000-03-01                                  NaN   \n2000-04-01                                  NaN   \n2000-05-01                                  NaN   \n...                                         ...   \n2029-08-01                                  NaN   \n2029-09-01                                  NaN   \n2029-10-01                                  NaN   \n2029-11-01                                  NaN   \n2030-12-01                                  NaN   \n\n            registrations__buildtype_kurzheck  registrations__buildtype_other  \\\ndate                                                                            \n2000-01-01                                NaN                             NaN   \n2000-02-01                                NaN                             NaN   \n2000-03-01                                NaN                             NaN   \n2000-04-01                                NaN                             NaN   \n2000-05-01                                NaN                             NaN   \n...                                       ...                             ...   \n2029-08-01                                NaN                             NaN   \n2029-09-01                                NaN                             NaN   \n2029-10-01                                NaN                             NaN   \n2029-11-01                                NaN                             NaN   \n2030-12-01                                NaN                             NaN   \n\n            registrations__buildtype_pickup  registrations__buildtype_coupe  \\\ndate                                                                          \n2000-01-01                              NaN                             NaN   \n2000-02-01                              NaN                             NaN   \n2000-03-01                              NaN                             NaN   \n2000-04-01                              NaN                             NaN   \n2000-05-01                              NaN                             NaN   \n...                                     ...                             ...   \n2029-08-01                              NaN                             NaN   \n2029-09-01                              NaN                             NaN   \n2029-10-01                              NaN                             NaN   \n2029-11-01                              NaN                             NaN   \n2030-12-01                              NaN                             NaN   \n\n            registrations__buildtype_kombi  \ndate                                        \n2000-01-01                             NaN  \n2000-02-01                             NaN  \n2000-03-01                             NaN  \n2000-04-01                             NaN  \n2000-05-01                             NaN  \n...                                    ...  \n2029-08-01                             NaN  \n2029-09-01                             NaN  \n2029-10-01                             NaN  \n2029-11-01                             NaN  \n2030-12-01                             NaN  \n\n[1440 rows x 2368 columns]",
      "text/html": "<div>\n<style scoped>\n    .dataframe tbody tr th:only-of-type {\n        vertical-align: middle;\n    }\n\n    .dataframe tbody tr th {\n        vertical-align: top;\n    }\n\n    .dataframe thead th {\n        text-align: right;\n    }\n</style>\n<table border=\"1\" class=\"dataframe\">\n  <thead>\n    <tr style=\"text-align: right;\">\n      <th></th>\n      <th>countryname</th>\n      <th>sales_actuals_monthly__vehiclegroup01__orderintake</th>\n      <th>sales_actuals_monthly__vehiclegroup01__retail</th>\n      <th>sales_actuals_monthly__vehiclegroup02__orderintake</th>\n      <th>sales_actuals_monthly__vehiclegroup02__retail</th>\n      <th>sales_actuals_monthly__vehiclegroup03__orderintake</th>\n      <th>sales_actuals_monthly__vehiclegroup03__retail</th>\n      <th>sales_actuals_monthly__vehiclegroup04__orderintake</th>\n      <th>sales_actuals_monthly__vehiclegroup04__retail</th>\n      <th>sales_actuals_monthly__vehiclegroup05__orderintake</th>\n      <th>...</th>\n      <th>registrations__buildtype_suv</th>\n      <th>registrations__buildtype_transport</th>\n      <th>registrations__buildtype_van</th>\n      <th>registrations__buildtype_cabrio</th>\n      <th>registrations__buildtype_stufenheck</th>\n      <th>registrations__buildtype_kurzheck</th>\n      <th>registrations__buildtype_other</th>\n      <th>registrations__buildtype_pickup</th>\n      <th>registrations__buildtype_coupe</th>\n      <th>registrations__buildtype_kombi</th>\n    </tr>\n    <tr>\n      <th>date</th>\n      <th></th>\n      <th></th>\n      <th></th>\n      <th></th>\n      <th></th>\n      <th></th>\n      <th></th>\n      <th></th>\n      <th></th>\n      <th></th>\n      <th></th>\n      <th></th>\n      <th></th>\n      <th></th>\n      <th></th>\n      <th></th>\n      <th></th>\n      <th></th>\n      <th></th>\n      <th></th>\n      <th></th>\n    </tr>\n  </thead>\n  <tbody>\n    <tr>\n      <th>2000-01-01</th>\n      <td>Country A</td>\n      <td>296.0</td>\n      <td>352.0</td>\n      <td>739.0</td>\n      <td>471.0</td>\n      <td>NaN</td>\n      <td>NaN</td>\n      <td>NaN</td>\n      <td>NaN</td>\n      <td>NaN</td>\n      <td>...</td>\n      <td>NaN</td>\n      <td>NaN</td>\n      <td>NaN</td>\n      <td>NaN</td>\n      <td>NaN</td>\n      <td>NaN</td>\n      <td>NaN</td>\n      <td>NaN</td>\n      <td>NaN</td>\n      <td>NaN</td>\n    </tr>\n    <tr>\n      <th>2000-02-01</th>\n      <td>Country A</td>\n      <td>414.0</td>\n      <td>372.0</td>\n      <td>904.0</td>\n      <td>528.0</td>\n      <td>NaN</td>\n      <td>NaN</td>\n      <td>NaN</td>\n      <td>NaN</td>\n      <td>NaN</td>\n      <td>...</td>\n      <td>NaN</td>\n      <td>NaN</td>\n      <td>NaN</td>\n      <td>NaN</td>\n      <td>NaN</td>\n      <td>NaN</td>\n      <td>NaN</td>\n      <td>NaN</td>\n      <td>NaN</td>\n      <td>NaN</td>\n    </tr>\n    <tr>\n      <th>2000-03-01</th>\n      <td>Country A</td>\n      <td>405.0</td>\n      <td>604.0</td>\n      <td>1000.0</td>\n      <td>953.0</td>\n      <td>NaN</td>\n      <td>NaN</td>\n      <td>NaN</td>\n      <td>NaN</td>\n      <td>NaN</td>\n      <td>...</td>\n      <td>NaN</td>\n      <td>NaN</td>\n      <td>NaN</td>\n      <td>NaN</td>\n      <td>NaN</td>\n      <td>NaN</td>\n      <td>NaN</td>\n      <td>NaN</td>\n      <td>NaN</td>\n      <td>NaN</td>\n    </tr>\n    <tr>\n      <th>2000-04-01</th>\n      <td>Country A</td>\n      <td>359.0</td>\n      <td>483.0</td>\n      <td>828.0</td>\n      <td>972.0</td>\n      <td>NaN</td>\n      <td>NaN</td>\n      <td>NaN</td>\n      <td>NaN</td>\n      <td>NaN</td>\n      <td>...</td>\n      <td>NaN</td>\n      <td>NaN</td>\n      <td>NaN</td>\n      <td>NaN</td>\n      <td>NaN</td>\n      <td>NaN</td>\n      <td>NaN</td>\n      <td>NaN</td>\n      <td>NaN</td>\n      <td>NaN</td>\n    </tr>\n    <tr>\n      <th>2000-05-01</th>\n      <td>Country A</td>\n      <td>403.0</td>\n      <td>474.0</td>\n      <td>594.0</td>\n      <td>900.0</td>\n      <td>NaN</td>\n      <td>NaN</td>\n      <td>NaN</td>\n      <td>NaN</td>\n      <td>NaN</td>\n      <td>...</td>\n      <td>NaN</td>\n      <td>NaN</td>\n      <td>NaN</td>\n      <td>NaN</td>\n      <td>NaN</td>\n      <td>NaN</td>\n      <td>NaN</td>\n      <td>NaN</td>\n      <td>NaN</td>\n      <td>NaN</td>\n    </tr>\n    <tr>\n      <th>...</th>\n      <td>...</td>\n      <td>...</td>\n      <td>...</td>\n      <td>...</td>\n      <td>...</td>\n      <td>...</td>\n      <td>...</td>\n      <td>...</td>\n      <td>...</td>\n      <td>...</td>\n      <td>...</td>\n      <td>...</td>\n      <td>...</td>\n      <td>...</td>\n      <td>...</td>\n      <td>...</td>\n      <td>...</td>\n      <td>...</td>\n      <td>...</td>\n      <td>...</td>\n      <td>...</td>\n    </tr>\n    <tr>\n      <th>2029-08-01</th>\n      <td>Country D</td>\n      <td>NaN</td>\n      <td>NaN</td>\n      <td>NaN</td>\n      <td>NaN</td>\n      <td>NaN</td>\n      <td>NaN</td>\n      <td>NaN</td>\n      <td>NaN</td>\n      <td>NaN</td>\n      <td>...</td>\n      <td>NaN</td>\n      <td>NaN</td>\n      <td>NaN</td>\n      <td>NaN</td>\n      <td>NaN</td>\n      <td>NaN</td>\n      <td>NaN</td>\n      <td>NaN</td>\n      <td>NaN</td>\n      <td>NaN</td>\n    </tr>\n    <tr>\n      <th>2029-09-01</th>\n      <td>Country D</td>\n      <td>NaN</td>\n      <td>NaN</td>\n      <td>NaN</td>\n      <td>NaN</td>\n      <td>NaN</td>\n      <td>NaN</td>\n      <td>NaN</td>\n      <td>NaN</td>\n      <td>NaN</td>\n      <td>...</td>\n      <td>NaN</td>\n      <td>NaN</td>\n      <td>NaN</td>\n      <td>NaN</td>\n      <td>NaN</td>\n      <td>NaN</td>\n      <td>NaN</td>\n      <td>NaN</td>\n      <td>NaN</td>\n      <td>NaN</td>\n    </tr>\n    <tr>\n      <th>2029-10-01</th>\n      <td>Country D</td>\n      <td>NaN</td>\n      <td>NaN</td>\n      <td>NaN</td>\n      <td>NaN</td>\n      <td>NaN</td>\n      <td>NaN</td>\n      <td>NaN</td>\n      <td>NaN</td>\n      <td>NaN</td>\n      <td>...</td>\n      <td>NaN</td>\n      <td>NaN</td>\n      <td>NaN</td>\n      <td>NaN</td>\n      <td>NaN</td>\n      <td>NaN</td>\n      <td>NaN</td>\n      <td>NaN</td>\n      <td>NaN</td>\n      <td>NaN</td>\n    </tr>\n    <tr>\n      <th>2029-11-01</th>\n      <td>Country D</td>\n      <td>NaN</td>\n      <td>NaN</td>\n      <td>NaN</td>\n      <td>NaN</td>\n      <td>NaN</td>\n      <td>NaN</td>\n      <td>NaN</td>\n      <td>NaN</td>\n      <td>NaN</td>\n      <td>...</td>\n      <td>NaN</td>\n      <td>NaN</td>\n      <td>NaN</td>\n      <td>NaN</td>\n      <td>NaN</td>\n      <td>NaN</td>\n      <td>NaN</td>\n      <td>NaN</td>\n      <td>NaN</td>\n      <td>NaN</td>\n    </tr>\n    <tr>\n      <th>2030-12-01</th>\n      <td>Country D</td>\n      <td>NaN</td>\n      <td>NaN</td>\n      <td>NaN</td>\n      <td>NaN</td>\n      <td>NaN</td>\n      <td>NaN</td>\n      <td>NaN</td>\n      <td>NaN</td>\n      <td>NaN</td>\n      <td>...</td>\n      <td>NaN</td>\n      <td>NaN</td>\n      <td>NaN</td>\n      <td>NaN</td>\n      <td>NaN</td>\n      <td>NaN</td>\n      <td>NaN</td>\n      <td>NaN</td>\n      <td>NaN</td>\n      <td>NaN</td>\n    </tr>\n  </tbody>\n</table>\n<p>1440 rows × 2368 columns</p>\n</div>"
     },
     "execution_count": 10,
     "metadata": {},
     "output_type": "execute_result"
    }
   ],
   "source": [
    "from preprocessing import convert_month_to_date\n",
    "import pandas as pd\n",
    "df = pd.read_csv(\"./data/kitCapstoneJan24_data.csv\", sep=\";\")\n",
    "df = convert_month_to_date(df)\n",
    "df"
   ],
   "metadata": {
    "collapsed": false,
    "ExecuteTime": {
     "end_time": "2024-01-31T08:28:08.821002Z",
     "start_time": "2024-01-31T08:28:08.449423Z"
    }
   },
   "id": "c247a24cd1870bba"
  },
  {
   "cell_type": "code",
   "execution_count": null,
   "outputs": [],
   "source": [
    "df"
   ],
   "metadata": {
    "collapsed": false
   },
   "id": "b8437d57384dbe65"
  },
  {
   "cell_type": "code",
   "execution_count": 21,
   "outputs": [],
   "source": [
    "df = pd.read_csv(\"./data/kitCapstoneJan24_data.csv\", sep=\";\")\n",
    "### GENERATE BI DATASET \n",
    "\n",
    "## Filter cols\n",
    "columns_to_keep = ['sales_actuals_monthly__vehiclegroup01__orderintake', 'countryname']\n",
    "df = df[columns_to_keep]\n",
    "\n",
    "### GENERATE COL WITH DATA FROM LAST YEAR\n",
    "# Assuming df is your DataFrame\n",
    "column_name = 'sales_actuals_monthly__vehiclegroup01__orderintake'\n",
    "\n",
    "# Save the first 12 values\n",
    "first_12_values = df[column_name][12:]"
   ],
   "metadata": {
    "collapsed": false,
    "ExecuteTime": {
     "end_time": "2024-01-31T08:40:01.954267Z",
     "start_time": "2024-01-31T08:40:01.485986Z"
    }
   },
   "id": "59403afdd0ddd635"
  },
  {
   "cell_type": "code",
   "execution_count": null,
   "outputs": [],
   "source": [
    "\n",
    "# Add the saved values to the front and create the new column\n",
    "df['last_year_order_intake'] = pd.concat([last_12_values, df[column_name]], ignore_index=True)\n",
    "\n",
    "\n",
    "\n",
    "## Check for missing, null values and transform to INT\n",
    "\n",
    "df[column_name] = pd.to_numeric(df[column_name], errors='coerce')\n",
    "df[column_name] = df[column_name].fillna(0).astype(int)\n",
    "\n",
    "df['last_year_order_intake'] = pd.to_numeric(df['last_year_order_intake'], errors='coerce')\n",
    "df['last_year_order_intake'] = df['last_year_order_intake'].fillna(0).astype(int)\n",
    "\n",
    "\n",
    "## Calculate Percentage Change / Absolut Change\n",
    "\n",
    "\n",
    "df.to_csv(\"data_with_date_v4.csv\")"
   ],
   "metadata": {
    "collapsed": false
   },
   "id": "df8b5602944a5140"
  },
  {
   "cell_type": "code",
   "execution_count": 34,
   "outputs": [],
   "source": [
    "df = pd.read_csv(\"./data/kitCapstoneJan24_data.csv\", sep=\";\")\n",
    "df = convert_month_to_date(df)"
   ],
   "metadata": {
    "collapsed": false,
    "ExecuteTime": {
     "end_time": "2024-01-31T09:14:34.299013Z",
     "start_time": "2024-01-31T09:14:33.961863Z"
    }
   },
   "id": "313287026f72b7c1"
  },
  {
   "cell_type": "code",
   "execution_count": 36,
   "outputs": [],
   "source": [
    "df = pd.read_csv(\"./data/kitCapstoneJan24_data.csv\", sep=\";\")\n",
    "df = convert_month_to_date(df)\n",
    "\n",
    "# copy the index into a date col\n",
    "df['Date'] = df.index\n",
    "df['Date'] = pd.to_datetime(df['Date'], format='%Y-%m-%d')  # Change the format accordingly\n",
    "## Filter cols\n",
    "columns_to_keep = ['sales_actuals_monthly__vehiclegroup01__orderintake', 'countryname',\"Date\"]\n",
    "df = df[columns_to_keep]\n",
    "\n",
    "# Copy the specified column into an array\n",
    "sales_array = df['sales_actuals_monthly__vehiclegroup01__orderintake'].values\n",
    "\n",
    "# Add 12 values of 0 to the front\n",
    "sales_array = [0] * 12 + list(sales_array)\n",
    "\n",
    "# Remove the last 12 values\n",
    "sales_array = sales_array[:-12]\n",
    "\n",
    "# Create a new column with the name \"last_year_order_intake\"\n",
    "df['last_year_order_intake'] = sales_array\n",
    "df\n",
    "df.to_csv(\"data_with_date_v5.csv\")"
   ],
   "metadata": {
    "collapsed": false,
    "ExecuteTime": {
     "end_time": "2024-01-31T09:18:01.925730Z",
     "start_time": "2024-01-31T09:18:01.567939Z"
    }
   },
   "id": "97ed792cf7368753"
  },
  {
   "cell_type": "code",
   "execution_count": null,
   "outputs": [],
   "source": [],
   "metadata": {
    "collapsed": false
   },
   "id": "ced764fcd5416f8b"
  },
  {
   "cell_type": "code",
   "execution_count": null,
   "outputs": [],
   "source": [
    "#### EXPLORE Models"
   ],
   "metadata": {
    "collapsed": false
   },
   "id": "df2f505f5fab7a7a"
  },
  {
   "cell_type": "code",
   "execution_count": 58,
   "outputs": [
    {
     "data": {
      "text/plain": "            sales_actuals_monthly__vehiclegroup01__orderintake\ndate                                                          \n2000-01-01                                              296.0 \n2000-02-01                                              414.0 \n2000-03-01                                              405.0 \n2000-04-01                                              359.0 \n2000-05-01                                              403.0 \n...                                                       ... \n2029-08-01                                                NaN \n2029-09-01                                                NaN \n2029-10-01                                                NaN \n2029-11-01                                                NaN \n2030-12-01                                                NaN \n\n[360 rows x 1 columns]",
      "text/html": "<div>\n<style scoped>\n    .dataframe tbody tr th:only-of-type {\n        vertical-align: middle;\n    }\n\n    .dataframe tbody tr th {\n        vertical-align: top;\n    }\n\n    .dataframe thead th {\n        text-align: right;\n    }\n</style>\n<table border=\"1\" class=\"dataframe\">\n  <thead>\n    <tr style=\"text-align: right;\">\n      <th></th>\n      <th>sales_actuals_monthly__vehiclegroup01__orderintake</th>\n    </tr>\n    <tr>\n      <th>date</th>\n      <th></th>\n    </tr>\n  </thead>\n  <tbody>\n    <tr>\n      <th>2000-01-01</th>\n      <td>296.0</td>\n    </tr>\n    <tr>\n      <th>2000-02-01</th>\n      <td>414.0</td>\n    </tr>\n    <tr>\n      <th>2000-03-01</th>\n      <td>405.0</td>\n    </tr>\n    <tr>\n      <th>2000-04-01</th>\n      <td>359.0</td>\n    </tr>\n    <tr>\n      <th>2000-05-01</th>\n      <td>403.0</td>\n    </tr>\n    <tr>\n      <th>...</th>\n      <td>...</td>\n    </tr>\n    <tr>\n      <th>2029-08-01</th>\n      <td>NaN</td>\n    </tr>\n    <tr>\n      <th>2029-09-01</th>\n      <td>NaN</td>\n    </tr>\n    <tr>\n      <th>2029-10-01</th>\n      <td>NaN</td>\n    </tr>\n    <tr>\n      <th>2029-11-01</th>\n      <td>NaN</td>\n    </tr>\n    <tr>\n      <th>2030-12-01</th>\n      <td>NaN</td>\n    </tr>\n  </tbody>\n</table>\n<p>360 rows × 1 columns</p>\n</div>"
     },
     "execution_count": 58,
     "metadata": {},
     "output_type": "execute_result"
    }
   ],
   "source": [
    "df = pd.read_csv(\"./data/kitCapstoneJan24_data.csv\", sep=\";\")\n",
    "df = convert_month_to_date(df)\n",
    "df = df[df.countryname ==\"Country A\"]\n",
    "## Filter cols\n",
    "columns_to_keep = ['sales_actuals_monthly__vehiclegroup01__orderintake']\n",
    "df = df[columns_to_keep]\n",
    "df"
   ],
   "metadata": {
    "collapsed": false,
    "ExecuteTime": {
     "end_time": "2024-01-31T09:59:05.687814Z",
     "start_time": "2024-01-31T09:59:05.365269Z"
    }
   },
   "id": "b7edbead6af60c38"
  },
  {
   "cell_type": "code",
   "execution_count": 61,
   "outputs": [
    {
     "data": {
      "text/plain": "            sales_actuals_monthly__vehiclegroup01__orderintake\ndate                                                          \n2000-01-01                                              296.0 \n2000-02-01                                              414.0 \n2000-03-01                                              405.0 \n2000-04-01                                              359.0 \n2000-05-01                                              403.0 \n...                                                       ... \n2029-09-01                                              544.0 \n2029-10-01                                              544.0 \n2029-11-01                                              544.0 \n2029-12-01                                              544.0 \n2030-12-01                                              544.0 \n\n[360 rows x 1 columns]",
      "text/html": "<div>\n<style scoped>\n    .dataframe tbody tr th:only-of-type {\n        vertical-align: middle;\n    }\n\n    .dataframe tbody tr th {\n        vertical-align: top;\n    }\n\n    .dataframe thead th {\n        text-align: right;\n    }\n</style>\n<table border=\"1\" class=\"dataframe\">\n  <thead>\n    <tr style=\"text-align: right;\">\n      <th></th>\n      <th>sales_actuals_monthly__vehiclegroup01__orderintake</th>\n    </tr>\n    <tr>\n      <th>date</th>\n      <th></th>\n    </tr>\n  </thead>\n  <tbody>\n    <tr>\n      <th>2000-01-01</th>\n      <td>296.0</td>\n    </tr>\n    <tr>\n      <th>2000-02-01</th>\n      <td>414.0</td>\n    </tr>\n    <tr>\n      <th>2000-03-01</th>\n      <td>405.0</td>\n    </tr>\n    <tr>\n      <th>2000-04-01</th>\n      <td>359.0</td>\n    </tr>\n    <tr>\n      <th>2000-05-01</th>\n      <td>403.0</td>\n    </tr>\n    <tr>\n      <th>...</th>\n      <td>...</td>\n    </tr>\n    <tr>\n      <th>2029-09-01</th>\n      <td>544.0</td>\n    </tr>\n    <tr>\n      <th>2029-10-01</th>\n      <td>544.0</td>\n    </tr>\n    <tr>\n      <th>2029-11-01</th>\n      <td>544.0</td>\n    </tr>\n    <tr>\n      <th>2029-12-01</th>\n      <td>544.0</td>\n    </tr>\n    <tr>\n      <th>2030-12-01</th>\n      <td>544.0</td>\n    </tr>\n  </tbody>\n</table>\n<p>360 rows × 1 columns</p>\n</div>"
     },
     "execution_count": 61,
     "metadata": {},
     "output_type": "execute_result"
    }
   ],
   "source": [
    "import pandas as pd\n",
    "from statsmodels.tsa.arima.model import ARIMA\n",
    "from sklearn.model_selection import TimeSeriesSplit\n",
    "import numpy as np\n",
    "\n",
    "\n",
    "# Handle NaN values (you can choose different methods based on your requirements)\n",
    "df['sales_actuals_monthly__vehiclegroup01__orderintake'].fillna(method='ffill', inplace=True)  # Forward fill NaN values\n",
    "\n",
    "# Convert the column to numeric type (in case it's not already)\n",
    "df['sales_actuals_monthly__vehiclegroup01__orderintake'] = pd.to_numeric(df['sales_actuals_monthly__vehiclegroup01__orderintake'], errors='coerce')\n",
    "\n",
    "# Sort the DataFrame based on the date index\n",
    "df.sort_index(inplace=True)\n",
    "df"
   ],
   "metadata": {
    "collapsed": false,
    "ExecuteTime": {
     "end_time": "2024-01-31T09:59:46.682337Z",
     "start_time": "2024-01-31T09:59:46.663654Z"
    }
   },
   "id": "eaaae7e6327f31e0"
  },
  {
   "cell_type": "code",
   "execution_count": 62,
   "outputs": [
    {
     "name": "stderr",
     "output_type": "stream",
     "text": [
      "/Users/fabianrockel/opt/anaconda3/envs/aiss/lib/python3.8/site-packages/statsmodels/tsa/base/tsa_model.py:473: ValueWarning: A date index has been provided, but it has no associated frequency information and so will be ignored when e.g. forecasting.\n",
      "  self._init_dates(dates, freq)\n",
      "/Users/fabianrockel/opt/anaconda3/envs/aiss/lib/python3.8/site-packages/statsmodels/tsa/base/tsa_model.py:473: ValueWarning: A date index has been provided, but it has no associated frequency information and so will be ignored when e.g. forecasting.\n",
      "  self._init_dates(dates, freq)\n",
      "/Users/fabianrockel/opt/anaconda3/envs/aiss/lib/python3.8/site-packages/statsmodels/tsa/base/tsa_model.py:473: ValueWarning: A date index has been provided, but it has no associated frequency information and so will be ignored when e.g. forecasting.\n",
      "  self._init_dates(dates, freq)\n",
      "/Users/fabianrockel/opt/anaconda3/envs/aiss/lib/python3.8/site-packages/statsmodels/tsa/base/tsa_model.py:836: ValueWarning: No supported index is available. Prediction results will be given with an integer index beginning at `start`.\n",
      "  return get_prediction_index(\n",
      "/Users/fabianrockel/opt/anaconda3/envs/aiss/lib/python3.8/site-packages/statsmodels/tsa/base/tsa_model.py:836: FutureWarning: No supported index is available. In the next version, calling this method in a model without a supported index will result in an exception.\n",
      "  return get_prediction_index(\n",
      "/Users/fabianrockel/opt/anaconda3/envs/aiss/lib/python3.8/site-packages/numpy/core/fromnumeric.py:3430: FutureWarning: In a future version, DataFrame.mean(axis=None) will return a scalar mean over the entire DataFrame. To retain the old behavior, use 'frame.mean(axis=0)' or just 'frame.mean()'\n",
      "  return mean(axis=axis, dtype=dtype, out=out, **kwargs)\n",
      "/Users/fabianrockel/opt/anaconda3/envs/aiss/lib/python3.8/site-packages/statsmodels/tsa/base/tsa_model.py:473: ValueWarning: A date index has been provided, but it has no associated frequency information and so will be ignored when e.g. forecasting.\n",
      "  self._init_dates(dates, freq)\n",
      "/Users/fabianrockel/opt/anaconda3/envs/aiss/lib/python3.8/site-packages/statsmodels/tsa/base/tsa_model.py:473: ValueWarning: A date index has been provided, but it has no associated frequency information and so will be ignored when e.g. forecasting.\n",
      "  self._init_dates(dates, freq)\n",
      "/Users/fabianrockel/opt/anaconda3/envs/aiss/lib/python3.8/site-packages/statsmodels/tsa/base/tsa_model.py:473: ValueWarning: A date index has been provided, but it has no associated frequency information and so will be ignored when e.g. forecasting.\n",
      "  self._init_dates(dates, freq)\n",
      "/Users/fabianrockel/opt/anaconda3/envs/aiss/lib/python3.8/site-packages/statsmodels/tsa/base/tsa_model.py:836: ValueWarning: No supported index is available. Prediction results will be given with an integer index beginning at `start`.\n",
      "  return get_prediction_index(\n",
      "/Users/fabianrockel/opt/anaconda3/envs/aiss/lib/python3.8/site-packages/statsmodels/tsa/base/tsa_model.py:836: FutureWarning: No supported index is available. In the next version, calling this method in a model without a supported index will result in an exception.\n",
      "  return get_prediction_index(\n",
      "/Users/fabianrockel/opt/anaconda3/envs/aiss/lib/python3.8/site-packages/numpy/core/fromnumeric.py:3430: FutureWarning: In a future version, DataFrame.mean(axis=None) will return a scalar mean over the entire DataFrame. To retain the old behavior, use 'frame.mean(axis=0)' or just 'frame.mean()'\n",
      "  return mean(axis=axis, dtype=dtype, out=out, **kwargs)\n",
      "/Users/fabianrockel/opt/anaconda3/envs/aiss/lib/python3.8/site-packages/statsmodels/tsa/base/tsa_model.py:473: ValueWarning: A date index has been provided, but it has no associated frequency information and so will be ignored when e.g. forecasting.\n",
      "  self._init_dates(dates, freq)\n",
      "/Users/fabianrockel/opt/anaconda3/envs/aiss/lib/python3.8/site-packages/statsmodels/tsa/base/tsa_model.py:473: ValueWarning: A date index has been provided, but it has no associated frequency information and so will be ignored when e.g. forecasting.\n",
      "  self._init_dates(dates, freq)\n",
      "/Users/fabianrockel/opt/anaconda3/envs/aiss/lib/python3.8/site-packages/statsmodels/tsa/base/tsa_model.py:473: ValueWarning: A date index has been provided, but it has no associated frequency information and so will be ignored when e.g. forecasting.\n",
      "  self._init_dates(dates, freq)\n",
      "/Users/fabianrockel/opt/anaconda3/envs/aiss/lib/python3.8/site-packages/statsmodels/tsa/base/tsa_model.py:836: ValueWarning: No supported index is available. Prediction results will be given with an integer index beginning at `start`.\n",
      "  return get_prediction_index(\n",
      "/Users/fabianrockel/opt/anaconda3/envs/aiss/lib/python3.8/site-packages/statsmodels/tsa/base/tsa_model.py:836: FutureWarning: No supported index is available. In the next version, calling this method in a model without a supported index will result in an exception.\n",
      "  return get_prediction_index(\n",
      "/Users/fabianrockel/opt/anaconda3/envs/aiss/lib/python3.8/site-packages/numpy/core/fromnumeric.py:3430: FutureWarning: In a future version, DataFrame.mean(axis=None) will return a scalar mean over the entire DataFrame. To retain the old behavior, use 'frame.mean(axis=0)' or just 'frame.mean()'\n",
      "  return mean(axis=axis, dtype=dtype, out=out, **kwargs)\n",
      "/Users/fabianrockel/opt/anaconda3/envs/aiss/lib/python3.8/site-packages/statsmodels/tsa/base/tsa_model.py:473: ValueWarning: A date index has been provided, but it has no associated frequency information and so will be ignored when e.g. forecasting.\n",
      "  self._init_dates(dates, freq)\n",
      "/Users/fabianrockel/opt/anaconda3/envs/aiss/lib/python3.8/site-packages/statsmodels/tsa/base/tsa_model.py:473: ValueWarning: A date index has been provided, but it has no associated frequency information and so will be ignored when e.g. forecasting.\n",
      "  self._init_dates(dates, freq)\n",
      "/Users/fabianrockel/opt/anaconda3/envs/aiss/lib/python3.8/site-packages/statsmodels/tsa/base/tsa_model.py:473: ValueWarning: A date index has been provided, but it has no associated frequency information and so will be ignored when e.g. forecasting.\n",
      "  self._init_dates(dates, freq)\n"
     ]
    },
    {
     "name": "stdout",
     "output_type": "stream",
     "text": [
      "MAPE Scores for each fold: [60                                                   NaN\n",
      "61                                                   NaN\n",
      "62                                                   NaN\n",
      "63                                                   NaN\n",
      "64                                                   NaN\n",
      "                                                      ..\n",
      "116                                                  NaN\n",
      "117                                                  NaN\n",
      "118                                                  NaN\n",
      "119                                                  NaN\n",
      "sales_actuals_monthly__vehiclegroup01__orderintake   NaN\n",
      "Length: 61, dtype: float64, 120                                                  NaN\n",
      "121                                                  NaN\n",
      "122                                                  NaN\n",
      "123                                                  NaN\n",
      "124                                                  NaN\n",
      "                                                      ..\n",
      "176                                                  NaN\n",
      "177                                                  NaN\n",
      "178                                                  NaN\n",
      "179                                                  NaN\n",
      "sales_actuals_monthly__vehiclegroup01__orderintake   NaN\n",
      "Length: 61, dtype: float64, 180                                                  NaN\n",
      "181                                                  NaN\n",
      "182                                                  NaN\n",
      "183                                                  NaN\n",
      "184                                                  NaN\n",
      "                                                      ..\n",
      "236                                                  NaN\n",
      "237                                                  NaN\n",
      "238                                                  NaN\n",
      "239                                                  NaN\n",
      "sales_actuals_monthly__vehiclegroup01__orderintake   NaN\n",
      "Length: 61, dtype: float64, 240                                                  NaN\n",
      "241                                                  NaN\n",
      "242                                                  NaN\n",
      "243                                                  NaN\n",
      "244                                                  NaN\n",
      "                                                      ..\n",
      "296                                                  NaN\n",
      "297                                                  NaN\n",
      "298                                                  NaN\n",
      "299                                                  NaN\n",
      "sales_actuals_monthly__vehiclegroup01__orderintake   NaN\n",
      "Length: 61, dtype: float64, 300                                                  NaN\n",
      "301                                                  NaN\n",
      "302                                                  NaN\n",
      "303                                                  NaN\n",
      "304                                                  NaN\n",
      "                                                      ..\n",
      "356                                                  NaN\n",
      "357                                                  NaN\n",
      "358                                                  NaN\n",
      "359                                                  NaN\n",
      "sales_actuals_monthly__vehiclegroup01__orderintake   NaN\n",
      "Length: 61, dtype: float64]\n"
     ]
    },
    {
     "name": "stderr",
     "output_type": "stream",
     "text": [
      "/Users/fabianrockel/opt/anaconda3/envs/aiss/lib/python3.8/site-packages/statsmodels/tsa/base/tsa_model.py:836: ValueWarning: No supported index is available. Prediction results will be given with an integer index beginning at `start`.\n",
      "  return get_prediction_index(\n",
      "/Users/fabianrockel/opt/anaconda3/envs/aiss/lib/python3.8/site-packages/statsmodels/tsa/base/tsa_model.py:836: FutureWarning: No supported index is available. In the next version, calling this method in a model without a supported index will result in an exception.\n",
      "  return get_prediction_index(\n",
      "/Users/fabianrockel/opt/anaconda3/envs/aiss/lib/python3.8/site-packages/numpy/core/fromnumeric.py:3430: FutureWarning: In a future version, DataFrame.mean(axis=None) will return a scalar mean over the entire DataFrame. To retain the old behavior, use 'frame.mean(axis=0)' or just 'frame.mean()'\n",
      "  return mean(axis=axis, dtype=dtype, out=out, **kwargs)\n",
      "/Users/fabianrockel/opt/anaconda3/envs/aiss/lib/python3.8/site-packages/statsmodels/tsa/base/tsa_model.py:473: ValueWarning: A date index has been provided, but it has no associated frequency information and so will be ignored when e.g. forecasting.\n",
      "  self._init_dates(dates, freq)\n",
      "/Users/fabianrockel/opt/anaconda3/envs/aiss/lib/python3.8/site-packages/statsmodels/tsa/base/tsa_model.py:473: ValueWarning: A date index has been provided, but it has no associated frequency information and so will be ignored when e.g. forecasting.\n",
      "  self._init_dates(dates, freq)\n",
      "/Users/fabianrockel/opt/anaconda3/envs/aiss/lib/python3.8/site-packages/statsmodels/tsa/base/tsa_model.py:473: ValueWarning: A date index has been provided, but it has no associated frequency information and so will be ignored when e.g. forecasting.\n",
      "  self._init_dates(dates, freq)\n",
      "/Users/fabianrockel/opt/anaconda3/envs/aiss/lib/python3.8/site-packages/statsmodels/tsa/base/tsa_model.py:836: ValueWarning: No supported index is available. Prediction results will be given with an integer index beginning at `start`.\n",
      "  return get_prediction_index(\n",
      "/Users/fabianrockel/opt/anaconda3/envs/aiss/lib/python3.8/site-packages/statsmodels/tsa/base/tsa_model.py:836: FutureWarning: No supported index is available. In the next version, calling this method in a model without a supported index will result in an exception.\n",
      "  return get_prediction_index(\n",
      "/Users/fabianrockel/opt/anaconda3/envs/aiss/lib/python3.8/site-packages/numpy/core/fromnumeric.py:3430: FutureWarning: In a future version, DataFrame.mean(axis=None) will return a scalar mean over the entire DataFrame. To retain the old behavior, use 'frame.mean(axis=0)' or just 'frame.mean()'\n",
      "  return mean(axis=axis, dtype=dtype, out=out, **kwargs)\n",
      "/Users/fabianrockel/opt/anaconda3/envs/aiss/lib/python3.8/site-packages/statsmodels/tsa/base/tsa_model.py:473: ValueWarning: A date index has been provided, but it has no associated frequency information and so will be ignored when e.g. forecasting.\n",
      "  self._init_dates(dates, freq)\n",
      "/Users/fabianrockel/opt/anaconda3/envs/aiss/lib/python3.8/site-packages/statsmodels/tsa/base/tsa_model.py:473: ValueWarning: A date index has been provided, but it has no associated frequency information and so will be ignored when e.g. forecasting.\n",
      "  self._init_dates(dates, freq)\n",
      "/Users/fabianrockel/opt/anaconda3/envs/aiss/lib/python3.8/site-packages/statsmodels/tsa/base/tsa_model.py:473: ValueWarning: A date index has been provided, but it has no associated frequency information and so will be ignored when e.g. forecasting.\n",
      "  self._init_dates(dates, freq)\n"
     ]
    }
   ],
   "source": [
    "\n",
    "# Define the ARIMA parameters (p, d, q)\n",
    "p = 1  # AutoRegressive (AR) order\n",
    "d = 1  # Integrated (I) order\n",
    "q = 1  # Moving Average (MA) order\n",
    "\n",
    "# Create a function for ARIMA modeling\n",
    "def arima_model(train, test, order):\n",
    "    model = ARIMA(train, order=order)\n",
    "    model_fit = model.fit()\n",
    "    predictions = model_fit.forecast(steps=len(test))\n",
    "    return predictions\n",
    "\n",
    "\n",
    "# Mean Absolute Percentage Error (MAPE) function\n",
    "def calculate_mape(actual, predicted):\n",
    "    return np.mean(np.abs((actual - predicted) / actual)) * 100\n",
    "\n",
    "\n",
    "# Time Series Cross Validation\n",
    "tscv = TimeSeriesSplit(n_splits=5)  # 5-fold time series cross-validation\n",
    "\n",
    "mape_scores = []  # Store MAPE scores for each fold\n",
    "\n",
    "for train_index, test_index in tscv.split(df):\n",
    "    train, test = df.iloc[train_index], df.iloc[test_index]\n",
    "\n",
    "    # Fit ARIMA model and make predictions\n",
    "    predictions = arima_model(train, test, order=(p, d, q))\n",
    "\n",
    "    # Calculate MAPE\n",
    "    mape = calculate_mape(test, predictions)\n",
    "    mape_scores.append(mape)\n",
    "\n",
    "# Display MAPE scores for each fold\n",
    "print(\"MAPE Scores for each fold:\", mape_scores)\n",
    "\n",
    "# Train the final model on the entire dataset\n",
    "final_model = ARIMA(df, order=(p, d, q))\n",
    "final_model_fit = final_model.fit()\n",
    "\n",
    "# Make future predictions (adjust the steps parameter based on you\n",
    "\n"
   ],
   "metadata": {
    "collapsed": false,
    "ExecuteTime": {
     "end_time": "2024-01-31T09:59:53.801030Z",
     "start_time": "2024-01-31T09:59:53.416228Z"
    }
   },
   "id": "8fae05d18bea9ebd"
  },
  {
   "cell_type": "code",
   "execution_count": null,
   "outputs": [],
   "source": [],
   "metadata": {
    "collapsed": false
   },
   "id": "68aa0159386d413a"
  },
  {
   "cell_type": "code",
   "execution_count": 54,
   "outputs": [
    {
     "name": "stderr",
     "output_type": "stream",
     "text": [
      "/Users/fabianrockel/opt/anaconda3/envs/aiss/lib/python3.8/site-packages/statsmodels/tsa/base/tsa_model.py:473: ValueWarning: A date index has been provided, but it has no associated frequency information and so will be ignored when e.g. forecasting.\n",
      "  self._init_dates(dates, freq)\n",
      "/Users/fabianrockel/opt/anaconda3/envs/aiss/lib/python3.8/site-packages/statsmodels/tsa/base/tsa_model.py:473: ValueWarning: A date index has been provided, but it has no associated frequency information and so will be ignored when e.g. forecasting.\n",
      "  self._init_dates(dates, freq)\n",
      "/Users/fabianrockel/opt/anaconda3/envs/aiss/lib/python3.8/site-packages/statsmodels/tsa/base/tsa_model.py:473: ValueWarning: A date index has been provided, but it has no associated frequency information and so will be ignored when e.g. forecasting.\n",
      "  self._init_dates(dates, freq)\n",
      "/Users/fabianrockel/opt/anaconda3/envs/aiss/lib/python3.8/site-packages/statsmodels/tsa/base/tsa_model.py:836: ValueWarning: No supported index is available. Prediction results will be given with an integer index beginning at `start`.\n",
      "  return get_prediction_index(\n",
      "/Users/fabianrockel/opt/anaconda3/envs/aiss/lib/python3.8/site-packages/statsmodels/tsa/base/tsa_model.py:836: FutureWarning: No supported index is available. In the next version, calling this method in a model without a supported index will result in an exception.\n",
      "  return get_prediction_index(\n",
      "/Users/fabianrockel/opt/anaconda3/envs/aiss/lib/python3.8/site-packages/numpy/core/fromnumeric.py:3430: FutureWarning: In a future version, DataFrame.mean(axis=None) will return a scalar mean over the entire DataFrame. To retain the old behavior, use 'frame.mean(axis=0)' or just 'frame.mean()'\n",
      "  return mean(axis=axis, dtype=dtype, out=out, **kwargs)\n",
      "/Users/fabianrockel/opt/anaconda3/envs/aiss/lib/python3.8/site-packages/statsmodels/tsa/base/tsa_model.py:473: ValueWarning: A date index has been provided, but it has no associated frequency information and so will be ignored when e.g. forecasting.\n",
      "  self._init_dates(dates, freq)\n",
      "/Users/fabianrockel/opt/anaconda3/envs/aiss/lib/python3.8/site-packages/statsmodels/tsa/base/tsa_model.py:473: ValueWarning: A date index has been provided, but it has no associated frequency information and so will be ignored when e.g. forecasting.\n",
      "  self._init_dates(dates, freq)\n",
      "/Users/fabianrockel/opt/anaconda3/envs/aiss/lib/python3.8/site-packages/statsmodels/tsa/base/tsa_model.py:473: ValueWarning: A date index has been provided, but it has no associated frequency information and so will be ignored when e.g. forecasting.\n",
      "  self._init_dates(dates, freq)\n",
      "/Users/fabianrockel/opt/anaconda3/envs/aiss/lib/python3.8/site-packages/statsmodels/tsa/base/tsa_model.py:836: ValueWarning: No supported index is available. Prediction results will be given with an integer index beginning at `start`.\n",
      "  return get_prediction_index(\n",
      "/Users/fabianrockel/opt/anaconda3/envs/aiss/lib/python3.8/site-packages/statsmodels/tsa/base/tsa_model.py:836: FutureWarning: No supported index is available. In the next version, calling this method in a model without a supported index will result in an exception.\n",
      "  return get_prediction_index(\n",
      "/Users/fabianrockel/opt/anaconda3/envs/aiss/lib/python3.8/site-packages/numpy/core/fromnumeric.py:3430: FutureWarning: In a future version, DataFrame.mean(axis=None) will return a scalar mean over the entire DataFrame. To retain the old behavior, use 'frame.mean(axis=0)' or just 'frame.mean()'\n",
      "  return mean(axis=axis, dtype=dtype, out=out, **kwargs)\n",
      "/Users/fabianrockel/opt/anaconda3/envs/aiss/lib/python3.8/site-packages/statsmodels/tsa/base/tsa_model.py:473: ValueWarning: A date index has been provided, but it has no associated frequency information and so will be ignored when e.g. forecasting.\n",
      "  self._init_dates(dates, freq)\n",
      "/Users/fabianrockel/opt/anaconda3/envs/aiss/lib/python3.8/site-packages/statsmodels/tsa/base/tsa_model.py:473: ValueWarning: A date index has been provided, but it has no associated frequency information and so will be ignored when e.g. forecasting.\n",
      "  self._init_dates(dates, freq)\n",
      "/Users/fabianrockel/opt/anaconda3/envs/aiss/lib/python3.8/site-packages/statsmodels/tsa/base/tsa_model.py:473: ValueWarning: A date index has been provided, but it has no associated frequency information and so will be ignored when e.g. forecasting.\n",
      "  self._init_dates(dates, freq)\n",
      "/Users/fabianrockel/opt/anaconda3/envs/aiss/lib/python3.8/site-packages/statsmodels/tsa/base/tsa_model.py:836: ValueWarning: No supported index is available. Prediction results will be given with an integer index beginning at `start`.\n",
      "  return get_prediction_index(\n",
      "/Users/fabianrockel/opt/anaconda3/envs/aiss/lib/python3.8/site-packages/statsmodels/tsa/base/tsa_model.py:836: FutureWarning: No supported index is available. In the next version, calling this method in a model without a supported index will result in an exception.\n",
      "  return get_prediction_index(\n",
      "/Users/fabianrockel/opt/anaconda3/envs/aiss/lib/python3.8/site-packages/numpy/core/fromnumeric.py:3430: FutureWarning: In a future version, DataFrame.mean(axis=None) will return a scalar mean over the entire DataFrame. To retain the old behavior, use 'frame.mean(axis=0)' or just 'frame.mean()'\n",
      "  return mean(axis=axis, dtype=dtype, out=out, **kwargs)\n",
      "/Users/fabianrockel/opt/anaconda3/envs/aiss/lib/python3.8/site-packages/statsmodels/tsa/base/tsa_model.py:473: ValueWarning: A date index has been provided, but it has no associated frequency information and so will be ignored when e.g. forecasting.\n",
      "  self._init_dates(dates, freq)\n",
      "/Users/fabianrockel/opt/anaconda3/envs/aiss/lib/python3.8/site-packages/statsmodels/tsa/base/tsa_model.py:473: ValueWarning: A date index has been provided, but it has no associated frequency information and so will be ignored when e.g. forecasting.\n",
      "  self._init_dates(dates, freq)\n",
      "/Users/fabianrockel/opt/anaconda3/envs/aiss/lib/python3.8/site-packages/statsmodels/tsa/base/tsa_model.py:473: ValueWarning: A date index has been provided, but it has no associated frequency information and so will be ignored when e.g. forecasting.\n",
      "  self._init_dates(dates, freq)\n",
      "/Users/fabianrockel/opt/anaconda3/envs/aiss/lib/python3.8/site-packages/statsmodels/tsa/base/tsa_model.py:836: ValueWarning: No supported index is available. Prediction results will be given with an integer index beginning at `start`.\n",
      "  return get_prediction_index(\n",
      "/Users/fabianrockel/opt/anaconda3/envs/aiss/lib/python3.8/site-packages/statsmodels/tsa/base/tsa_model.py:836: FutureWarning: No supported index is available. In the next version, calling this method in a model without a supported index will result in an exception.\n",
      "  return get_prediction_index(\n",
      "/Users/fabianrockel/opt/anaconda3/envs/aiss/lib/python3.8/site-packages/numpy/core/fromnumeric.py:3430: FutureWarning: In a future version, DataFrame.mean(axis=None) will return a scalar mean over the entire DataFrame. To retain the old behavior, use 'frame.mean(axis=0)' or just 'frame.mean()'\n",
      "  return mean(axis=axis, dtype=dtype, out=out, **kwargs)\n",
      "/Users/fabianrockel/opt/anaconda3/envs/aiss/lib/python3.8/site-packages/statsmodels/tsa/base/tsa_model.py:473: ValueWarning: A date index has been provided, but it has no associated frequency information and so will be ignored when e.g. forecasting.\n",
      "  self._init_dates(dates, freq)\n",
      "/Users/fabianrockel/opt/anaconda3/envs/aiss/lib/python3.8/site-packages/statsmodels/tsa/base/tsa_model.py:473: ValueWarning: A date index has been provided, but it has no associated frequency information and so will be ignored when e.g. forecasting.\n",
      "  self._init_dates(dates, freq)\n",
      "/Users/fabianrockel/opt/anaconda3/envs/aiss/lib/python3.8/site-packages/statsmodels/tsa/base/tsa_model.py:473: ValueWarning: A date index has been provided, but it has no associated frequency information and so will be ignored when e.g. forecasting.\n",
      "  self._init_dates(dates, freq)\n"
     ]
    },
    {
     "name": "stdout",
     "output_type": "stream",
     "text": [
      "MAPE Scores for each fold: [240                                                  NaN\n",
      "241                                                  NaN\n",
      "242                                                  NaN\n",
      "243                                                  NaN\n",
      "244                                                  NaN\n",
      "                                                      ..\n",
      "476                                                  NaN\n",
      "477                                                  NaN\n",
      "478                                                  NaN\n",
      "479                                                  NaN\n",
      "sales_actuals_monthly__vehiclegroup01__orderintake   NaN\n",
      "Length: 241, dtype: float64, 480                                                  NaN\n",
      "481                                                  NaN\n",
      "482                                                  NaN\n",
      "483                                                  NaN\n",
      "484                                                  NaN\n",
      "                                                      ..\n",
      "716                                                  NaN\n",
      "717                                                  NaN\n",
      "718                                                  NaN\n",
      "719                                                  NaN\n",
      "sales_actuals_monthly__vehiclegroup01__orderintake   NaN\n",
      "Length: 241, dtype: float64, 720                                                  NaN\n",
      "721                                                  NaN\n",
      "722                                                  NaN\n",
      "723                                                  NaN\n",
      "724                                                  NaN\n",
      "                                                      ..\n",
      "956                                                  NaN\n",
      "957                                                  NaN\n",
      "958                                                  NaN\n",
      "959                                                  NaN\n",
      "sales_actuals_monthly__vehiclegroup01__orderintake   NaN\n",
      "Length: 241, dtype: float64, 960                                                  NaN\n",
      "961                                                  NaN\n",
      "962                                                  NaN\n",
      "963                                                  NaN\n",
      "964                                                  NaN\n",
      "                                                      ..\n",
      "1196                                                 NaN\n",
      "1197                                                 NaN\n",
      "1198                                                 NaN\n",
      "1199                                                 NaN\n",
      "sales_actuals_monthly__vehiclegroup01__orderintake   NaN\n",
      "Length: 241, dtype: float64, 1200                                                 NaN\n",
      "1201                                                 NaN\n",
      "1202                                                 NaN\n",
      "1203                                                 NaN\n",
      "1204                                                 NaN\n",
      "                                                      ..\n",
      "1436                                                 NaN\n",
      "1437                                                 NaN\n",
      "1438                                                 NaN\n",
      "1439                                                 NaN\n",
      "sales_actuals_monthly__vehiclegroup01__orderintake   NaN\n",
      "Length: 241, dtype: float64]\n",
      "                                               SARIMAX Results                                                \n",
      "==============================================================================================================\n",
      "Dep. Variable:     sales_actuals_monthly__vehiclegroup01__orderintake   No. Observations:                 1440\n",
      "Model:                                                 ARIMA(1, 1, 1)   Log Likelihood               -9500.361\n",
      "Date:                                                Wed, 31 Jan 2024   AIC                          19006.722\n",
      "Time:                                                        10:56:11   BIC                          19022.537\n",
      "Sample:                                                             0   HQIC                         19012.626\n",
      "                                                               - 1440                                         \n",
      "Covariance Type:                                                  opg                                         \n",
      "==============================================================================\n",
      "                 coef    std err          z      P>|z|      [0.025      0.975]\n",
      "------------------------------------------------------------------------------\n",
      "ar.L1         -0.1127      0.028     -4.032      0.000      -0.168      -0.058\n",
      "ma.L1         -0.9122      0.012    -78.050      0.000      -0.935      -0.889\n",
      "sigma2      3.172e+04    928.568     34.164      0.000    2.99e+04    3.35e+04\n",
      "===================================================================================\n",
      "Ljung-Box (L1) (Q):                   0.18   Jarque-Bera (JB):               115.04\n",
      "Prob(Q):                              0.67   Prob(JB):                         0.00\n",
      "Heteroskedasticity (H):               0.62   Skew:                             0.18\n",
      "Prob(H) (two-sided):                  0.00   Kurtosis:                         4.34\n",
      "===================================================================================\n",
      "\n",
      "Warnings:\n",
      "[1] Covariance matrix calculated using the outer product of gradients (complex-step).\n",
      "Future Predictions: 1440    796.522162\n",
      "1441    815.967582\n",
      "1442    813.775275\n",
      "1443    814.022440\n",
      "1444    813.994574\n",
      "Name: predicted_mean, dtype: float64\n"
     ]
    },
    {
     "name": "stderr",
     "output_type": "stream",
     "text": [
      "/Users/fabianrockel/opt/anaconda3/envs/aiss/lib/python3.8/site-packages/statsmodels/tsa/base/tsa_model.py:836: ValueWarning: No supported index is available. Prediction results will be given with an integer index beginning at `start`.\n",
      "  return get_prediction_index(\n",
      "/Users/fabianrockel/opt/anaconda3/envs/aiss/lib/python3.8/site-packages/statsmodels/tsa/base/tsa_model.py:836: FutureWarning: No supported index is available. In the next version, calling this method in a model without a supported index will result in an exception.\n",
      "  return get_prediction_index(\n",
      "/Users/fabianrockel/opt/anaconda3/envs/aiss/lib/python3.8/site-packages/numpy/core/fromnumeric.py:3430: FutureWarning: In a future version, DataFrame.mean(axis=None) will return a scalar mean over the entire DataFrame. To retain the old behavior, use 'frame.mean(axis=0)' or just 'frame.mean()'\n",
      "  return mean(axis=axis, dtype=dtype, out=out, **kwargs)\n",
      "/Users/fabianrockel/opt/anaconda3/envs/aiss/lib/python3.8/site-packages/statsmodels/tsa/base/tsa_model.py:473: ValueWarning: A date index has been provided, but it has no associated frequency information and so will be ignored when e.g. forecasting.\n",
      "  self._init_dates(dates, freq)\n",
      "/Users/fabianrockel/opt/anaconda3/envs/aiss/lib/python3.8/site-packages/statsmodels/tsa/base/tsa_model.py:473: ValueWarning: A date index has been provided, but it has no associated frequency information and so will be ignored when e.g. forecasting.\n",
      "  self._init_dates(dates, freq)\n",
      "/Users/fabianrockel/opt/anaconda3/envs/aiss/lib/python3.8/site-packages/statsmodels/tsa/base/tsa_model.py:473: ValueWarning: A date index has been provided, but it has no associated frequency information and so will be ignored when e.g. forecasting.\n",
      "  self._init_dates(dates, freq)\n",
      "/Users/fabianrockel/opt/anaconda3/envs/aiss/lib/python3.8/site-packages/statsmodels/tsa/base/tsa_model.py:836: ValueWarning: No supported index is available. Prediction results will be given with an integer index beginning at `start`.\n",
      "  return get_prediction_index(\n",
      "/Users/fabianrockel/opt/anaconda3/envs/aiss/lib/python3.8/site-packages/statsmodels/tsa/base/tsa_model.py:836: FutureWarning: No supported index is available. In the next version, calling this method in a model without a supported index will result in an exception.\n",
      "  return get_prediction_index(\n"
     ]
    }
   ],
   "source": [
    "# Handle NaN values (you can choose different methods based on your requirements)\n",
    "df['sales_actuals_monthly__vehiclegroup01__orderintake'].fillna(method='ffill', inplace=True)  # Forward fill NaN values\n",
    "\n",
    "# Convert the column to numeric type (in case it's not already)\n",
    "df['sales_actuals_monthly__vehiclegroup01__orderintake'] = pd.to_numeric(df['sales_actuals_monthly__vehiclegroup01__orderintake'], errors='coerce')\n",
    "\n",
    "# Sort the DataFrame based on the date index\n",
    "df.sort_index(inplace=True)\n",
    "\n",
    "# Define the ARIMA parameters (p, d, q)\n",
    "p = 1  # AutoRegressive (AR) order\n",
    "d = 1  # Integrated (I) order\n",
    "q = 1  # Moving Average (MA) order\n",
    "\n",
    "# Mean Absolute Percentage Error (MAPE) function\n",
    "def calculate_mape(actual, predicted):\n",
    "    return np.mean(np.abs((actual - predicted) / actual)) * 100\n",
    "\n",
    "# Time Series Cross Validation\n",
    "tscv = TimeSeriesSplit(n_splits=5)  # 5-fold time series cross-validation\n",
    "\n",
    "mape_scores = []  # Store MAPE scores for each fold\n",
    "\n",
    "for train_index, test_index in tscv.split(df.index):\n",
    "    train, test = df.iloc[train_index], df.iloc[test_index]\n",
    "    \n",
    "    # Fit ARIMA model and make predictions\n",
    "    predictions = arima_model(train, test, order=(p, d, q))\n",
    "    \n",
    "    # Calculate MAPE\n",
    "    mape = calculate_mape(test, predictions)\n",
    "    mape_scores.append(mape)\n",
    "\n",
    "# Display MAPE scores for each fold\n",
    "print(\"MAPE Scores for each fold:\", mape_scores)\n",
    "\n",
    "# Train the final model on the entire dataset\n",
    "final_model = ARIMA(df, order=(p, d, q))\n",
    "final_model_fit = final_model.fit()\n",
    "\n",
    "# Make future predictions (adjust the steps parameter based on your needs)\n",
    "future_steps = 5\n",
    "future_predictions = final_model_fit.forecast(steps=future_steps)\n",
    "\n",
    "# Display the final model summary\n",
    "print(final_model_fit.summary())\n",
    "\n",
    "# Display future predictions\n",
    "print(\"Future Predictions:\", future_predictions)"
   ],
   "metadata": {
    "collapsed": false,
    "ExecuteTime": {
     "end_time": "2024-01-31T09:56:11.268279Z",
     "start_time": "2024-01-31T09:56:10.655104Z"
    }
   },
   "id": "4b3961c1cdaad29c"
  },
  {
   "cell_type": "code",
   "execution_count": null,
   "outputs": [],
   "source": [],
   "metadata": {
    "collapsed": false
   },
   "id": "7d3a837b8eb62eb"
  },
  {
   "cell_type": "markdown",
   "source": [
    "TESTING PYCARET"
   ],
   "metadata": {
    "collapsed": false
   },
   "id": "e6c82cb07e9b8726"
  },
  {
   "cell_type": "code",
   "execution_count": 83,
   "outputs": [
    {
     "name": "stdout",
     "output_type": "stream",
     "text": [
      "Requirement already satisfied: pycaret in /Users/fabianrockel/opt/anaconda3/envs/aiss/lib/python3.8/site-packages (3.2.0)\r\n",
      "Requirement already satisfied: numba>=0.55.0 in /Users/fabianrockel/opt/anaconda3/envs/aiss/lib/python3.8/site-packages (from pycaret) (0.58.1)\r\n",
      "Requirement already satisfied: schemdraw==0.15 in /Users/fabianrockel/opt/anaconda3/envs/aiss/lib/python3.8/site-packages (from pycaret) (0.15)\r\n",
      "Requirement already satisfied: imbalanced-learn>=0.8.1 in /Users/fabianrockel/opt/anaconda3/envs/aiss/lib/python3.8/site-packages (from pycaret) (0.9.1)\r\n",
      "Requirement already satisfied: numpy<1.27,>=1.21 in /Users/fabianrockel/opt/anaconda3/envs/aiss/lib/python3.8/site-packages (from pycaret) (1.23.4)\r\n",
      "Requirement already satisfied: sktime!=0.17.1,!=0.17.2,!=0.18.0,<0.22.0,>=0.16.1 in /Users/fabianrockel/opt/anaconda3/envs/aiss/lib/python3.8/site-packages (from pycaret) (0.21.1)\r\n",
      "Requirement already satisfied: lightgbm>=3.0.0 in /Users/fabianrockel/opt/anaconda3/envs/aiss/lib/python3.8/site-packages (from pycaret) (4.3.0)\r\n",
      "Requirement already satisfied: markupsafe>=2.0.1 in /Users/fabianrockel/opt/anaconda3/envs/aiss/lib/python3.8/site-packages (from pycaret) (2.1.1)\r\n",
      "Requirement already satisfied: category-encoders>=2.4.0 in /Users/fabianrockel/opt/anaconda3/envs/aiss/lib/python3.8/site-packages (from pycaret) (2.6.3)\r\n",
      "Requirement already satisfied: tqdm>=4.62.0 in /Users/fabianrockel/opt/anaconda3/envs/aiss/lib/python3.8/site-packages (from pycaret) (4.66.1)\r\n",
      "Requirement already satisfied: kaleido>=0.2.1 in /Users/fabianrockel/opt/anaconda3/envs/aiss/lib/python3.8/site-packages (from pycaret) (0.2.1)\r\n",
      "Requirement already satisfied: cloudpickle in /Users/fabianrockel/opt/anaconda3/envs/aiss/lib/python3.8/site-packages (from pycaret) (3.0.0)\r\n",
      "Requirement already satisfied: plotly-resampler>=0.8.3.1 in /Users/fabianrockel/opt/anaconda3/envs/aiss/lib/python3.8/site-packages (from pycaret) (0.9.2)\r\n",
      "Requirement already satisfied: nbformat>=4.2.0 in /Users/fabianrockel/opt/anaconda3/envs/aiss/lib/python3.8/site-packages (from pycaret) (5.5.0)\r\n",
      "Requirement already satisfied: scikit-learn<1.3.0,>=1.0 in /Users/fabianrockel/opt/anaconda3/envs/aiss/lib/python3.8/site-packages (from pycaret) (1.1.3)\r\n",
      "Requirement already satisfied: pyod>=1.0.8 in /Users/fabianrockel/opt/anaconda3/envs/aiss/lib/python3.8/site-packages (from pycaret) (1.1.2)\r\n",
      "Requirement already satisfied: scipy~=1.10.1 in /Users/fabianrockel/opt/anaconda3/envs/aiss/lib/python3.8/site-packages (from pycaret) (1.10.1)\r\n",
      "Requirement already satisfied: statsmodels>=0.12.1 in /Users/fabianrockel/opt/anaconda3/envs/aiss/lib/python3.8/site-packages (from pycaret) (0.14.1)\r\n",
      "Requirement already satisfied: psutil>=5.9.0 in /Users/fabianrockel/opt/anaconda3/envs/aiss/lib/python3.8/site-packages (from pycaret) (5.9.0)\r\n",
      "Requirement already satisfied: deprecation>=2.1.0 in /Users/fabianrockel/opt/anaconda3/envs/aiss/lib/python3.8/site-packages (from pycaret) (2.1.0)\r\n",
      "Requirement already satisfied: plotly>=5.0.0 in /Users/fabianrockel/opt/anaconda3/envs/aiss/lib/python3.8/site-packages (from pycaret) (5.18.0)\r\n",
      "Requirement already satisfied: importlib-metadata>=4.12.0 in /Users/fabianrockel/opt/anaconda3/envs/aiss/lib/python3.8/site-packages (from pycaret) (7.0.1)\r\n",
      "Requirement already satisfied: pmdarima!=1.8.1,<3.0.0,>=1.8.0 in /Users/fabianrockel/opt/anaconda3/envs/aiss/lib/python3.8/site-packages (from pycaret) (2.0.4)\r\n",
      "Requirement already satisfied: tbats>=1.1.3 in /Users/fabianrockel/opt/anaconda3/envs/aiss/lib/python3.8/site-packages (from pycaret) (1.1.3)\r\n",
      "Requirement already satisfied: requests>=2.27.1 in /Users/fabianrockel/opt/anaconda3/envs/aiss/lib/python3.8/site-packages (from pycaret) (2.28.1)\r\n",
      "Requirement already satisfied: scikit-plot>=0.3.7 in /Users/fabianrockel/opt/anaconda3/envs/aiss/lib/python3.8/site-packages (from pycaret) (0.3.7)\r\n",
      "Requirement already satisfied: yellowbrick>=1.4 in /Users/fabianrockel/opt/anaconda3/envs/aiss/lib/python3.8/site-packages (from pycaret) (1.5)\r\n",
      "Requirement already satisfied: pandas<2.0.0,>=1.3.0 in /Users/fabianrockel/opt/anaconda3/envs/aiss/lib/python3.8/site-packages (from pycaret) (1.5.1)\r\n",
      "Requirement already satisfied: ipython>=5.5.0 in /Users/fabianrockel/opt/anaconda3/envs/aiss/lib/python3.8/site-packages (from pycaret) (8.4.0)\r\n",
      "Requirement already satisfied: ipywidgets>=7.6.5 in /Users/fabianrockel/opt/anaconda3/envs/aiss/lib/python3.8/site-packages (from pycaret) (7.6.5)\r\n",
      "Requirement already satisfied: matplotlib<=3.6,>=3.3.0 in /Users/fabianrockel/opt/anaconda3/envs/aiss/lib/python3.8/site-packages (from pycaret) (3.6.0)\r\n",
      "Requirement already satisfied: wurlitzer in /Users/fabianrockel/opt/anaconda3/envs/aiss/lib/python3.8/site-packages (from pycaret) (3.0.3)\r\n",
      "Requirement already satisfied: xxhash in /Users/fabianrockel/opt/anaconda3/envs/aiss/lib/python3.8/site-packages (from pycaret) (3.4.1)\r\n",
      "Requirement already satisfied: jinja2>=1.2 in /Users/fabianrockel/opt/anaconda3/envs/aiss/lib/python3.8/site-packages (from pycaret) (3.1.2)\r\n",
      "Requirement already satisfied: joblib>=1.2.0 in /Users/fabianrockel/opt/anaconda3/envs/aiss/lib/python3.8/site-packages (from pycaret) (1.2.0)\r\n",
      "Requirement already satisfied: importlib-resources in /Users/fabianrockel/opt/anaconda3/envs/aiss/lib/python3.8/site-packages (from category-encoders>=2.4.0->pycaret) (5.2.0)\r\n",
      "Requirement already satisfied: patsy>=0.5.1 in /Users/fabianrockel/opt/anaconda3/envs/aiss/lib/python3.8/site-packages (from category-encoders>=2.4.0->pycaret) (0.5.6)\r\n",
      "Requirement already satisfied: packaging in /Users/fabianrockel/opt/anaconda3/envs/aiss/lib/python3.8/site-packages (from deprecation>=2.1.0->pycaret) (21.3)\r\n",
      "Requirement already satisfied: threadpoolctl>=2.0.0 in /Users/fabianrockel/opt/anaconda3/envs/aiss/lib/python3.8/site-packages (from imbalanced-learn>=0.8.1->pycaret) (3.1.0)\r\n",
      "Requirement already satisfied: zipp>=0.5 in /Users/fabianrockel/opt/anaconda3/envs/aiss/lib/python3.8/site-packages (from importlib-metadata>=4.12.0->pycaret) (3.8.0)\r\n",
      "Requirement already satisfied: prompt-toolkit!=3.0.0,!=3.0.1,<3.1.0,>=2.0.0 in /Users/fabianrockel/opt/anaconda3/envs/aiss/lib/python3.8/site-packages (from ipython>=5.5.0->pycaret) (3.0.20)\r\n",
      "Requirement already satisfied: pickleshare in /Users/fabianrockel/opt/anaconda3/envs/aiss/lib/python3.8/site-packages (from ipython>=5.5.0->pycaret) (0.7.5)\r\n",
      "Requirement already satisfied: pygments>=2.4.0 in /Users/fabianrockel/opt/anaconda3/envs/aiss/lib/python3.8/site-packages (from ipython>=5.5.0->pycaret) (2.11.2)\r\n",
      "Requirement already satisfied: stack-data in /Users/fabianrockel/opt/anaconda3/envs/aiss/lib/python3.8/site-packages (from ipython>=5.5.0->pycaret) (0.2.0)\r\n",
      "Requirement already satisfied: appnope in /Users/fabianrockel/opt/anaconda3/envs/aiss/lib/python3.8/site-packages (from ipython>=5.5.0->pycaret) (0.1.2)\r\n",
      "Requirement already satisfied: setuptools>=18.5 in /Users/fabianrockel/opt/anaconda3/envs/aiss/lib/python3.8/site-packages (from ipython>=5.5.0->pycaret) (65.5.0)\r\n",
      "Requirement already satisfied: decorator in /Users/fabianrockel/opt/anaconda3/envs/aiss/lib/python3.8/site-packages (from ipython>=5.5.0->pycaret) (5.1.1)\r\n",
      "Requirement already satisfied: backcall in /Users/fabianrockel/opt/anaconda3/envs/aiss/lib/python3.8/site-packages (from ipython>=5.5.0->pycaret) (0.2.0)\r\n",
      "Requirement already satisfied: matplotlib-inline in /Users/fabianrockel/opt/anaconda3/envs/aiss/lib/python3.8/site-packages (from ipython>=5.5.0->pycaret) (0.1.6)\r\n",
      "Requirement already satisfied: traitlets>=5 in /Users/fabianrockel/opt/anaconda3/envs/aiss/lib/python3.8/site-packages (from ipython>=5.5.0->pycaret) (5.1.1)\r\n",
      "Requirement already satisfied: jedi>=0.16 in /Users/fabianrockel/opt/anaconda3/envs/aiss/lib/python3.8/site-packages (from ipython>=5.5.0->pycaret) (0.18.1)\r\n",
      "Requirement already satisfied: pexpect>4.3 in /Users/fabianrockel/opt/anaconda3/envs/aiss/lib/python3.8/site-packages (from ipython>=5.5.0->pycaret) (4.8.0)\r\n",
      "Requirement already satisfied: ipython-genutils~=0.2.0 in /Users/fabianrockel/opt/anaconda3/envs/aiss/lib/python3.8/site-packages (from ipywidgets>=7.6.5->pycaret) (0.2.0)\r\n",
      "Requirement already satisfied: ipykernel>=4.5.1 in /Users/fabianrockel/opt/anaconda3/envs/aiss/lib/python3.8/site-packages (from ipywidgets>=7.6.5->pycaret) (6.9.1)\r\n",
      "Requirement already satisfied: widgetsnbextension~=3.5.0 in /Users/fabianrockel/opt/anaconda3/envs/aiss/lib/python3.8/site-packages (from ipywidgets>=7.6.5->pycaret) (3.5.2)\r\n",
      "Requirement already satisfied: jupyterlab-widgets>=1.0.0 in /Users/fabianrockel/opt/anaconda3/envs/aiss/lib/python3.8/site-packages (from ipywidgets>=7.6.5->pycaret) (1.0.0)\r\n",
      "Requirement already satisfied: pillow>=6.2.0 in /Users/fabianrockel/opt/anaconda3/envs/aiss/lib/python3.8/site-packages (from matplotlib<=3.6,>=3.3.0->pycaret) (9.3.0)\r\n",
      "Requirement already satisfied: kiwisolver>=1.0.1 in /Users/fabianrockel/opt/anaconda3/envs/aiss/lib/python3.8/site-packages (from matplotlib<=3.6,>=3.3.0->pycaret) (1.4.4)\r\n",
      "Requirement already satisfied: cycler>=0.10 in /Users/fabianrockel/opt/anaconda3/envs/aiss/lib/python3.8/site-packages (from matplotlib<=3.6,>=3.3.0->pycaret) (0.11.0)\r\n",
      "Requirement already satisfied: contourpy>=1.0.1 in /Users/fabianrockel/opt/anaconda3/envs/aiss/lib/python3.8/site-packages (from matplotlib<=3.6,>=3.3.0->pycaret) (1.0.6)\r\n",
      "Requirement already satisfied: fonttools>=4.22.0 in /Users/fabianrockel/opt/anaconda3/envs/aiss/lib/python3.8/site-packages (from matplotlib<=3.6,>=3.3.0->pycaret) (4.38.0)\r\n",
      "Requirement already satisfied: python-dateutil>=2.7 in /Users/fabianrockel/opt/anaconda3/envs/aiss/lib/python3.8/site-packages (from matplotlib<=3.6,>=3.3.0->pycaret) (2.8.2)\r\n",
      "Requirement already satisfied: pyparsing>=2.2.1 in /Users/fabianrockel/opt/anaconda3/envs/aiss/lib/python3.8/site-packages (from matplotlib<=3.6,>=3.3.0->pycaret) (3.0.9)\r\n",
      "Requirement already satisfied: jupyter_core in /Users/fabianrockel/opt/anaconda3/envs/aiss/lib/python3.8/site-packages (from nbformat>=4.2.0->pycaret) (4.11.1)\r\n",
      "Requirement already satisfied: jsonschema>=2.6 in /Users/fabianrockel/opt/anaconda3/envs/aiss/lib/python3.8/site-packages (from nbformat>=4.2.0->pycaret) (4.16.0)\r\n",
      "Requirement already satisfied: fastjsonschema in /Users/fabianrockel/opt/anaconda3/envs/aiss/lib/python3.8/site-packages (from nbformat>=4.2.0->pycaret) (2.16.2)\r\n",
      "Requirement already satisfied: llvmlite<0.42,>=0.41.0dev0 in /Users/fabianrockel/opt/anaconda3/envs/aiss/lib/python3.8/site-packages (from numba>=0.55.0->pycaret) (0.41.1)\r\n",
      "Requirement already satisfied: pytz>=2020.1 in /Users/fabianrockel/opt/anaconda3/envs/aiss/lib/python3.8/site-packages (from pandas<2.0.0,>=1.3.0->pycaret) (2022.1)\r\n",
      "Requirement already satisfied: tenacity>=6.2.0 in /Users/fabianrockel/opt/anaconda3/envs/aiss/lib/python3.8/site-packages (from plotly>=5.0.0->pycaret) (8.2.3)\r\n",
      "Requirement already satisfied: orjson<4.0.0,>=3.8.0 in /Users/fabianrockel/opt/anaconda3/envs/aiss/lib/python3.8/site-packages (from plotly-resampler>=0.8.3.1->pycaret) (3.9.12)\r\n",
      "Requirement already satisfied: dash>=2.9.0 in /Users/fabianrockel/opt/anaconda3/envs/aiss/lib/python3.8/site-packages (from plotly-resampler>=0.8.3.1->pycaret) (2.14.2)\r\n",
      "Requirement already satisfied: tsdownsample==0.1.2 in /Users/fabianrockel/opt/anaconda3/envs/aiss/lib/python3.8/site-packages (from plotly-resampler>=0.8.3.1->pycaret) (0.1.2)\r\n",
      "Requirement already satisfied: urllib3 in /Users/fabianrockel/opt/anaconda3/envs/aiss/lib/python3.8/site-packages (from pmdarima!=1.8.1,<3.0.0,>=1.8.0->pycaret) (1.26.12)\r\n",
      "Requirement already satisfied: Cython!=0.29.18,!=0.29.31,>=0.29 in /Users/fabianrockel/opt/anaconda3/envs/aiss/lib/python3.8/site-packages (from pmdarima!=1.8.1,<3.0.0,>=1.8.0->pycaret) (3.0.8)\r\n",
      "Requirement already satisfied: six in /Users/fabianrockel/opt/anaconda3/envs/aiss/lib/python3.8/site-packages (from pyod>=1.0.8->pycaret) (1.16.0)\r\n",
      "Requirement already satisfied: certifi>=2017.4.17 in /Users/fabianrockel/opt/anaconda3/envs/aiss/lib/python3.8/site-packages (from requests>=2.27.1->pycaret) (2022.9.24)\r\n",
      "Requirement already satisfied: charset-normalizer<3,>=2 in /Users/fabianrockel/opt/anaconda3/envs/aiss/lib/python3.8/site-packages (from requests>=2.27.1->pycaret) (2.0.4)\r\n",
      "Requirement already satisfied: idna<4,>=2.5 in /Users/fabianrockel/opt/anaconda3/envs/aiss/lib/python3.8/site-packages (from requests>=2.27.1->pycaret) (3.4)\r\n",
      "Requirement already satisfied: scikit-base<0.6.0 in /Users/fabianrockel/opt/anaconda3/envs/aiss/lib/python3.8/site-packages (from sktime!=0.17.1,!=0.17.2,!=0.18.0,<0.22.0,>=0.16.1->pycaret) (0.5.2)\r\n",
      "Requirement already satisfied: deprecated>=1.2.13 in /Users/fabianrockel/opt/anaconda3/envs/aiss/lib/python3.8/site-packages (from sktime!=0.17.1,!=0.17.2,!=0.18.0,<0.22.0,>=0.16.1->pycaret) (1.2.14)\r\n",
      "Requirement already satisfied: nest-asyncio in /Users/fabianrockel/opt/anaconda3/envs/aiss/lib/python3.8/site-packages (from dash>=2.9.0->plotly-resampler>=0.8.3.1->pycaret) (1.5.5)\r\n",
      "Requirement already satisfied: ansi2html in /Users/fabianrockel/opt/anaconda3/envs/aiss/lib/python3.8/site-packages (from dash>=2.9.0->plotly-resampler>=0.8.3.1->pycaret) (1.9.1)\r\n",
      "Requirement already satisfied: typing-extensions>=4.1.1 in /Users/fabianrockel/opt/anaconda3/envs/aiss/lib/python3.8/site-packages (from dash>=2.9.0->plotly-resampler>=0.8.3.1->pycaret) (4.3.0)\r\n",
      "Requirement already satisfied: retrying in /Users/fabianrockel/opt/anaconda3/envs/aiss/lib/python3.8/site-packages (from dash>=2.9.0->plotly-resampler>=0.8.3.1->pycaret) (1.3.4)\r\n",
      "Requirement already satisfied: Flask<3.1,>=1.0.4 in /Users/fabianrockel/opt/anaconda3/envs/aiss/lib/python3.8/site-packages (from dash>=2.9.0->plotly-resampler>=0.8.3.1->pycaret) (2.2.2)\r\n",
      "Requirement already satisfied: Werkzeug<3.1 in /Users/fabianrockel/opt/anaconda3/envs/aiss/lib/python3.8/site-packages (from dash>=2.9.0->plotly-resampler>=0.8.3.1->pycaret) (2.2.2)\r\n",
      "Requirement already satisfied: dash-html-components==2.0.0 in /Users/fabianrockel/opt/anaconda3/envs/aiss/lib/python3.8/site-packages (from dash>=2.9.0->plotly-resampler>=0.8.3.1->pycaret) (2.0.0)\r\n",
      "Requirement already satisfied: dash-table==5.0.0 in /Users/fabianrockel/opt/anaconda3/envs/aiss/lib/python3.8/site-packages (from dash>=2.9.0->plotly-resampler>=0.8.3.1->pycaret) (5.0.0)\r\n",
      "Requirement already satisfied: dash-core-components==2.0.0 in /Users/fabianrockel/opt/anaconda3/envs/aiss/lib/python3.8/site-packages (from dash>=2.9.0->plotly-resampler>=0.8.3.1->pycaret) (2.0.0)\r\n",
      "Requirement already satisfied: wrapt<2,>=1.10 in /Users/fabianrockel/opt/anaconda3/envs/aiss/lib/python3.8/site-packages (from deprecated>=1.2.13->sktime!=0.17.1,!=0.17.2,!=0.18.0,<0.22.0,>=0.16.1->pycaret) (1.16.0)\r\n",
      "Requirement already satisfied: debugpy<2.0,>=1.0.0 in /Users/fabianrockel/opt/anaconda3/envs/aiss/lib/python3.8/site-packages (from ipykernel>=4.5.1->ipywidgets>=7.6.5->pycaret) (1.5.1)\r\n",
      "Requirement already satisfied: jupyter-client<8.0 in /Users/fabianrockel/opt/anaconda3/envs/aiss/lib/python3.8/site-packages (from ipykernel>=4.5.1->ipywidgets>=7.6.5->pycaret) (7.4.7)\r\n",
      "Requirement already satisfied: tornado<7.0,>=4.2 in /Users/fabianrockel/opt/anaconda3/envs/aiss/lib/python3.8/site-packages (from ipykernel>=4.5.1->ipywidgets>=7.6.5->pycaret) (6.2)\r\n",
      "Requirement already satisfied: parso<0.9.0,>=0.8.0 in /Users/fabianrockel/opt/anaconda3/envs/aiss/lib/python3.8/site-packages (from jedi>=0.16->ipython>=5.5.0->pycaret) (0.8.3)\r\n",
      "Requirement already satisfied: pyrsistent!=0.17.0,!=0.17.1,!=0.17.2,>=0.14.0 in /Users/fabianrockel/opt/anaconda3/envs/aiss/lib/python3.8/site-packages (from jsonschema>=2.6->nbformat>=4.2.0->pycaret) (0.18.0)\r\n",
      "Requirement already satisfied: attrs>=17.4.0 in /Users/fabianrockel/opt/anaconda3/envs/aiss/lib/python3.8/site-packages (from jsonschema>=2.6->nbformat>=4.2.0->pycaret) (21.4.0)\r\n",
      "Requirement already satisfied: pkgutil-resolve-name>=1.3.10 in /Users/fabianrockel/opt/anaconda3/envs/aiss/lib/python3.8/site-packages (from jsonschema>=2.6->nbformat>=4.2.0->pycaret) (1.3.10)\r\n",
      "Requirement already satisfied: ptyprocess>=0.5 in /Users/fabianrockel/opt/anaconda3/envs/aiss/lib/python3.8/site-packages (from pexpect>4.3->ipython>=5.5.0->pycaret) (0.7.0)\r\n",
      "Requirement already satisfied: wcwidth in /Users/fabianrockel/opt/anaconda3/envs/aiss/lib/python3.8/site-packages (from prompt-toolkit!=3.0.0,!=3.0.1,<3.1.0,>=2.0.0->ipython>=5.5.0->pycaret) (0.2.5)\r\n",
      "Requirement already satisfied: notebook>=4.4.1 in /Users/fabianrockel/opt/anaconda3/envs/aiss/lib/python3.8/site-packages (from widgetsnbextension~=3.5.0->ipywidgets>=7.6.5->pycaret) (6.4.12)\r\n",
      "Requirement already satisfied: executing in /Users/fabianrockel/opt/anaconda3/envs/aiss/lib/python3.8/site-packages (from stack-data->ipython>=5.5.0->pycaret) (0.8.3)\r\n",
      "Requirement already satisfied: pure-eval in /Users/fabianrockel/opt/anaconda3/envs/aiss/lib/python3.8/site-packages (from stack-data->ipython>=5.5.0->pycaret) (0.2.2)\r\n",
      "Requirement already satisfied: asttokens in /Users/fabianrockel/opt/anaconda3/envs/aiss/lib/python3.8/site-packages (from stack-data->ipython>=5.5.0->pycaret) (2.0.5)\r\n",
      "Requirement already satisfied: itsdangerous>=2.0 in /Users/fabianrockel/opt/anaconda3/envs/aiss/lib/python3.8/site-packages (from Flask<3.1,>=1.0.4->dash>=2.9.0->plotly-resampler>=0.8.3.1->pycaret) (2.1.2)\r\n",
      "Requirement already satisfied: click>=8.0 in /Users/fabianrockel/opt/anaconda3/envs/aiss/lib/python3.8/site-packages (from Flask<3.1,>=1.0.4->dash>=2.9.0->plotly-resampler>=0.8.3.1->pycaret) (8.1.3)\r\n",
      "Requirement already satisfied: entrypoints in /Users/fabianrockel/opt/anaconda3/envs/aiss/lib/python3.8/site-packages (from jupyter-client<8.0->ipykernel>=4.5.1->ipywidgets>=7.6.5->pycaret) (0.4)\r\n",
      "Requirement already satisfied: pyzmq>=23.0 in /Users/fabianrockel/opt/anaconda3/envs/aiss/lib/python3.8/site-packages (from jupyter-client<8.0->ipykernel>=4.5.1->ipywidgets>=7.6.5->pycaret) (23.2.0)\r\n",
      "Requirement already satisfied: terminado>=0.8.3 in /Users/fabianrockel/opt/anaconda3/envs/aiss/lib/python3.8/site-packages (from notebook>=4.4.1->widgetsnbextension~=3.5.0->ipywidgets>=7.6.5->pycaret) (0.13.1)\r\n",
      "Requirement already satisfied: nbconvert>=5 in /Users/fabianrockel/opt/anaconda3/envs/aiss/lib/python3.8/site-packages (from notebook>=4.4.1->widgetsnbextension~=3.5.0->ipywidgets>=7.6.5->pycaret) (6.4.4)\r\n",
      "Requirement already satisfied: argon2-cffi in /Users/fabianrockel/opt/anaconda3/envs/aiss/lib/python3.8/site-packages (from notebook>=4.4.1->widgetsnbextension~=3.5.0->ipywidgets>=7.6.5->pycaret) (21.3.0)\r\n",
      "Requirement already satisfied: prometheus-client in /Users/fabianrockel/opt/anaconda3/envs/aiss/lib/python3.8/site-packages (from notebook>=4.4.1->widgetsnbextension~=3.5.0->ipywidgets>=7.6.5->pycaret) (0.14.1)\r\n",
      "Requirement already satisfied: Send2Trash>=1.8.0 in /Users/fabianrockel/opt/anaconda3/envs/aiss/lib/python3.8/site-packages (from notebook>=4.4.1->widgetsnbextension~=3.5.0->ipywidgets>=7.6.5->pycaret) (1.8.0)\r\n",
      "Requirement already satisfied: bleach in /Users/fabianrockel/opt/anaconda3/envs/aiss/lib/python3.8/site-packages (from nbconvert>=5->notebook>=4.4.1->widgetsnbextension~=3.5.0->ipywidgets>=7.6.5->pycaret) (4.1.0)\r\n",
      "Requirement already satisfied: beautifulsoup4 in /Users/fabianrockel/opt/anaconda3/envs/aiss/lib/python3.8/site-packages (from nbconvert>=5->notebook>=4.4.1->widgetsnbextension~=3.5.0->ipywidgets>=7.6.5->pycaret) (4.11.1)\r\n",
      "Requirement already satisfied: nbclient<0.6.0,>=0.5.0 in /Users/fabianrockel/opt/anaconda3/envs/aiss/lib/python3.8/site-packages (from nbconvert>=5->notebook>=4.4.1->widgetsnbextension~=3.5.0->ipywidgets>=7.6.5->pycaret) (0.5.13)\r\n",
      "Requirement already satisfied: mistune<2,>=0.8.1 in /Users/fabianrockel/opt/anaconda3/envs/aiss/lib/python3.8/site-packages (from nbconvert>=5->notebook>=4.4.1->widgetsnbextension~=3.5.0->ipywidgets>=7.6.5->pycaret) (0.8.4)\r\n",
      "Requirement already satisfied: testpath in /Users/fabianrockel/opt/anaconda3/envs/aiss/lib/python3.8/site-packages (from nbconvert>=5->notebook>=4.4.1->widgetsnbextension~=3.5.0->ipywidgets>=7.6.5->pycaret) (0.6.0)\r\n",
      "Requirement already satisfied: pandocfilters>=1.4.1 in /Users/fabianrockel/opt/anaconda3/envs/aiss/lib/python3.8/site-packages (from nbconvert>=5->notebook>=4.4.1->widgetsnbextension~=3.5.0->ipywidgets>=7.6.5->pycaret) (1.5.0)\r\n",
      "Requirement already satisfied: defusedxml in /Users/fabianrockel/opt/anaconda3/envs/aiss/lib/python3.8/site-packages (from nbconvert>=5->notebook>=4.4.1->widgetsnbextension~=3.5.0->ipywidgets>=7.6.5->pycaret) (0.7.1)\r\n",
      "Requirement already satisfied: jupyterlab-pygments in /Users/fabianrockel/opt/anaconda3/envs/aiss/lib/python3.8/site-packages (from nbconvert>=5->notebook>=4.4.1->widgetsnbextension~=3.5.0->ipywidgets>=7.6.5->pycaret) (0.1.2)\r\n",
      "Requirement already satisfied: argon2-cffi-bindings in /Users/fabianrockel/opt/anaconda3/envs/aiss/lib/python3.8/site-packages (from argon2-cffi->notebook>=4.4.1->widgetsnbextension~=3.5.0->ipywidgets>=7.6.5->pycaret) (21.2.0)\r\n",
      "Requirement already satisfied: cffi>=1.0.1 in /Users/fabianrockel/opt/anaconda3/envs/aiss/lib/python3.8/site-packages (from argon2-cffi-bindings->argon2-cffi->notebook>=4.4.1->widgetsnbextension~=3.5.0->ipywidgets>=7.6.5->pycaret) (1.15.1)\r\n",
      "Requirement already satisfied: soupsieve>1.2 in /Users/fabianrockel/opt/anaconda3/envs/aiss/lib/python3.8/site-packages (from beautifulsoup4->nbconvert>=5->notebook>=4.4.1->widgetsnbextension~=3.5.0->ipywidgets>=7.6.5->pycaret) (2.3.2.post1)\r\n",
      "Requirement already satisfied: webencodings in /Users/fabianrockel/opt/anaconda3/envs/aiss/lib/python3.8/site-packages (from bleach->nbconvert>=5->notebook>=4.4.1->widgetsnbextension~=3.5.0->ipywidgets>=7.6.5->pycaret) (0.5.1)\r\n",
      "Requirement already satisfied: pycparser in /Users/fabianrockel/opt/anaconda3/envs/aiss/lib/python3.8/site-packages (from cffi>=1.0.1->argon2-cffi-bindings->argon2-cffi->notebook>=4.4.1->widgetsnbextension~=3.5.0->ipywidgets>=7.6.5->pycaret) (2.21)\r\n",
      "Note: you may need to restart the kernel to use updated packages.\n"
     ]
    }
   ],
   "source": [
    "%pip install pycaret"
   ],
   "metadata": {
    "collapsed": false,
    "ExecuteTime": {
     "end_time": "2024-01-31T10:15:59.510716Z",
     "start_time": "2024-01-31T10:15:55.652298Z"
    }
   },
   "id": "24e82f03409f8d61"
  },
  {
   "cell_type": "code",
   "execution_count": null,
   "outputs": [],
   "source": [],
   "metadata": {
    "collapsed": false
   },
   "id": "18c827178c7e63c6"
  },
  {
   "cell_type": "code",
   "execution_count": 24,
   "outputs": [],
   "source": [
    "from preprocessing import convert_month_to_date\n",
    "df = pd.read_csv(\"./data/kitCapstoneJan24_data.csv\", sep=\";\")\n",
    "df = convert_month_to_date(df)\n",
    "df = df[df.countryname ==\"Country A\"]"
   ],
   "metadata": {
    "collapsed": false,
    "ExecuteTime": {
     "end_time": "2024-01-31T10:27:54.073824Z",
     "start_time": "2024-01-31T10:27:53.543748Z"
    }
   },
   "id": "8a6a8f96566a83db"
  },
  {
   "cell_type": "code",
   "execution_count": 25,
   "outputs": [],
   "source": [
    "columns_to_keep = ['sales_actuals_monthly__vehiclegroup01__orderintake']\n",
    "df = df[columns_to_keep]\n",
    "df['Date'] = df.index\n",
    "df = df.iloc[:-103]"
   ],
   "metadata": {
    "collapsed": false,
    "ExecuteTime": {
     "end_time": "2024-01-31T10:28:00.595730Z",
     "start_time": "2024-01-31T10:28:00.577956Z"
    }
   },
   "id": "a0fe8d137a140e63"
  },
  {
   "cell_type": "code",
   "execution_count": 26,
   "outputs": [],
   "source": [
    "df = df.rename(columns={'sales_actuals_monthly__vehiclegroup01__orderintake': 'orderintake'})\n",
    "# Convert the column values to integers\n",
    "df['orderintake'] = df['orderintake'].astype(int)"
   ],
   "metadata": {
    "collapsed": false,
    "ExecuteTime": {
     "end_time": "2024-01-31T10:28:02.230139Z",
     "start_time": "2024-01-31T10:28:02.209623Z"
    }
   },
   "id": "6c2757ad92e0bd06"
  },
  {
   "cell_type": "code",
   "execution_count": 27,
   "outputs": [
    {
     "data": {
      "text/plain": "         orderintake     Date\ndate                         \n2000-01          296  2000-01\n2000-02          414  2000-02\n2000-03          405  2000-03\n2000-04          359  2000-04\n2000-05          403  2000-05\n...              ...      ...\n2021-01          266  2021-01\n2021-02          531  2021-02\n2021-03          621  2021-03\n2021-04          451  2021-04\n2021-05          420  2021-05\n\n[257 rows x 2 columns]",
      "text/html": "<div>\n<style scoped>\n    .dataframe tbody tr th:only-of-type {\n        vertical-align: middle;\n    }\n\n    .dataframe tbody tr th {\n        vertical-align: top;\n    }\n\n    .dataframe thead th {\n        text-align: right;\n    }\n</style>\n<table border=\"1\" class=\"dataframe\">\n  <thead>\n    <tr style=\"text-align: right;\">\n      <th></th>\n      <th>orderintake</th>\n      <th>Date</th>\n    </tr>\n    <tr>\n      <th>date</th>\n      <th></th>\n      <th></th>\n    </tr>\n  </thead>\n  <tbody>\n    <tr>\n      <th>2000-01</th>\n      <td>296</td>\n      <td>2000-01</td>\n    </tr>\n    <tr>\n      <th>2000-02</th>\n      <td>414</td>\n      <td>2000-02</td>\n    </tr>\n    <tr>\n      <th>2000-03</th>\n      <td>405</td>\n      <td>2000-03</td>\n    </tr>\n    <tr>\n      <th>2000-04</th>\n      <td>359</td>\n      <td>2000-04</td>\n    </tr>\n    <tr>\n      <th>2000-05</th>\n      <td>403</td>\n      <td>2000-05</td>\n    </tr>\n    <tr>\n      <th>...</th>\n      <td>...</td>\n      <td>...</td>\n    </tr>\n    <tr>\n      <th>2021-01</th>\n      <td>266</td>\n      <td>2021-01</td>\n    </tr>\n    <tr>\n      <th>2021-02</th>\n      <td>531</td>\n      <td>2021-02</td>\n    </tr>\n    <tr>\n      <th>2021-03</th>\n      <td>621</td>\n      <td>2021-03</td>\n    </tr>\n    <tr>\n      <th>2021-04</th>\n      <td>451</td>\n      <td>2021-04</td>\n    </tr>\n    <tr>\n      <th>2021-05</th>\n      <td>420</td>\n      <td>2021-05</td>\n    </tr>\n  </tbody>\n</table>\n<p>257 rows × 2 columns</p>\n</div>"
     },
     "execution_count": 27,
     "metadata": {},
     "output_type": "execute_result"
    }
   ],
   "source": [
    "df"
   ],
   "metadata": {
    "collapsed": false,
    "ExecuteTime": {
     "end_time": "2024-01-31T10:28:03.117756Z",
     "start_time": "2024-01-31T10:28:03.091187Z"
    }
   },
   "id": "6c98ee660c4936d8"
  },
  {
   "cell_type": "code",
   "execution_count": 28,
   "outputs": [
    {
     "ename": "OSError",
     "evalue": "dlopen(/Users/fabianrockel/opt/anaconda3/envs/aiss/lib/python3.8/site-packages/lightgbm/lib/lib_lightgbm.so, 0x0006): Library not loaded: /usr/local/opt/libomp/lib/libomp.dylib\n  Referenced from: <C3EB28DD-60B6-3334-AFA2-72BBBF9DBAEF> /Users/fabianrockel/opt/anaconda3/envs/aiss/lib/python3.8/site-packages/lightgbm/lib/lib_lightgbm.so\n  Reason: tried: '/usr/local/opt/libomp/lib/libomp.dylib' (no such file), '/System/Volumes/Preboot/Cryptexes/OS/usr/local/opt/libomp/lib/libomp.dylib' (no such file), '/usr/local/opt/libomp/lib/libomp.dylib' (no such file), '/usr/local/lib/libomp.dylib' (no such file), '/usr/lib/libomp.dylib' (no such file, not in dyld cache)",
     "output_type": "error",
     "traceback": [
      "\u001B[0;31m---------------------------------------------------------------------------\u001B[0m",
      "\u001B[0;31mOSError\u001B[0m                                   Traceback (most recent call last)",
      "Input \u001B[0;32mIn [28]\u001B[0m, in \u001B[0;36m<cell line: 2>\u001B[0;34m()\u001B[0m\n\u001B[1;32m      1\u001B[0m \u001B[38;5;28;01mfrom\u001B[39;00m \u001B[38;5;21;01mpycaret\u001B[39;00m\u001B[38;5;21;01m.\u001B[39;00m\u001B[38;5;21;01mtime_series\u001B[39;00m \u001B[38;5;28;01mimport\u001B[39;00m \u001B[38;5;241m*\u001B[39m \n\u001B[0;32m----> 2\u001B[0m s \u001B[38;5;241m=\u001B[39m \u001B[43msetup\u001B[49m\u001B[43m(\u001B[49m\u001B[43mdf\u001B[49m\u001B[43m,\u001B[49m\u001B[43m \u001B[49m\u001B[43mfold\u001B[49m\u001B[43m \u001B[49m\u001B[38;5;241;43m=\u001B[39;49m\u001B[43m \u001B[49m\u001B[38;5;241;43m3\u001B[39;49m\u001B[43m,\u001B[49m\u001B[43m \u001B[49m\u001B[43mfh\u001B[49m\u001B[43m \u001B[49m\u001B[38;5;241;43m=\u001B[39;49m\u001B[43m \u001B[49m\u001B[38;5;241;43m18\u001B[39;49m\u001B[43m,\u001B[49m\u001B[43m \u001B[49m\u001B[43msession_id\u001B[49m\u001B[43m \u001B[49m\u001B[38;5;241;43m=\u001B[39;49m\u001B[43m \u001B[49m\u001B[38;5;241;43m123\u001B[39;49m\u001B[43m)\u001B[49m\n",
      "File \u001B[0;32m~/opt/anaconda3/envs/aiss/lib/python3.8/site-packages/pycaret/time_series/forecasting/functional.py:590\u001B[0m, in \u001B[0;36msetup\u001B[0;34m(data, data_func, target, index, ignore_features, numeric_imputation_target, numeric_imputation_exogenous, transform_target, transform_exogenous, fe_target_rr, fe_exogenous, scale_target, scale_exogenous, fold_strategy, fold, fh, hyperparameter_split, seasonal_period, ignore_seasonality_test, sp_detection, max_sp_to_consider, remove_harmonics, harmonic_order_method, num_sps_to_use, seasonality_type, point_alpha, coverage, enforce_exogenous, n_jobs, use_gpu, custom_pipeline, html, session_id, system_log, log_experiment, experiment_name, log_plots, log_profile, log_data, verbose, profile, profile_kwargs, fig_kwargs)\u001B[0m\n\u001B[1;32m    588\u001B[0m exp \u001B[38;5;241m=\u001B[39m _EXPERIMENT_CLASS()\n\u001B[1;32m    589\u001B[0m set_current_experiment(exp)\n\u001B[0;32m--> 590\u001B[0m \u001B[38;5;28;01mreturn\u001B[39;00m \u001B[43mexp\u001B[49m\u001B[38;5;241;43m.\u001B[39;49m\u001B[43msetup\u001B[49m\u001B[43m(\u001B[49m\n\u001B[1;32m    591\u001B[0m \u001B[43m    \u001B[49m\u001B[43mdata\u001B[49m\u001B[38;5;241;43m=\u001B[39;49m\u001B[43mdata\u001B[49m\u001B[43m,\u001B[49m\n\u001B[1;32m    592\u001B[0m \u001B[43m    \u001B[49m\u001B[43mdata_func\u001B[49m\u001B[38;5;241;43m=\u001B[39;49m\u001B[43mdata_func\u001B[49m\u001B[43m,\u001B[49m\n\u001B[1;32m    593\u001B[0m \u001B[43m    \u001B[49m\u001B[43mtarget\u001B[49m\u001B[38;5;241;43m=\u001B[39;49m\u001B[43mtarget\u001B[49m\u001B[43m,\u001B[49m\n\u001B[1;32m    594\u001B[0m \u001B[43m    \u001B[49m\u001B[43mindex\u001B[49m\u001B[38;5;241;43m=\u001B[39;49m\u001B[43mindex\u001B[49m\u001B[43m,\u001B[49m\n\u001B[1;32m    595\u001B[0m \u001B[43m    \u001B[49m\u001B[43mignore_features\u001B[49m\u001B[38;5;241;43m=\u001B[39;49m\u001B[43mignore_features\u001B[49m\u001B[43m,\u001B[49m\n\u001B[1;32m    596\u001B[0m \u001B[43m    \u001B[49m\u001B[43mnumeric_imputation_target\u001B[49m\u001B[38;5;241;43m=\u001B[39;49m\u001B[43mnumeric_imputation_target\u001B[49m\u001B[43m,\u001B[49m\n\u001B[1;32m    597\u001B[0m \u001B[43m    \u001B[49m\u001B[43mnumeric_imputation_exogenous\u001B[49m\u001B[38;5;241;43m=\u001B[39;49m\u001B[43mnumeric_imputation_exogenous\u001B[49m\u001B[43m,\u001B[49m\n\u001B[1;32m    598\u001B[0m \u001B[43m    \u001B[49m\u001B[43mtransform_target\u001B[49m\u001B[38;5;241;43m=\u001B[39;49m\u001B[43mtransform_target\u001B[49m\u001B[43m,\u001B[49m\n\u001B[1;32m    599\u001B[0m \u001B[43m    \u001B[49m\u001B[43mtransform_exogenous\u001B[49m\u001B[38;5;241;43m=\u001B[39;49m\u001B[43mtransform_exogenous\u001B[49m\u001B[43m,\u001B[49m\n\u001B[1;32m    600\u001B[0m \u001B[43m    \u001B[49m\u001B[43mscale_target\u001B[49m\u001B[38;5;241;43m=\u001B[39;49m\u001B[43mscale_target\u001B[49m\u001B[43m,\u001B[49m\n\u001B[1;32m    601\u001B[0m \u001B[43m    \u001B[49m\u001B[43mscale_exogenous\u001B[49m\u001B[38;5;241;43m=\u001B[39;49m\u001B[43mscale_exogenous\u001B[49m\u001B[43m,\u001B[49m\n\u001B[1;32m    602\u001B[0m \u001B[43m    \u001B[49m\u001B[43mfe_target_rr\u001B[49m\u001B[38;5;241;43m=\u001B[39;49m\u001B[43mfe_target_rr\u001B[49m\u001B[43m,\u001B[49m\n\u001B[1;32m    603\u001B[0m \u001B[43m    \u001B[49m\u001B[43mfe_exogenous\u001B[49m\u001B[38;5;241;43m=\u001B[39;49m\u001B[43mfe_exogenous\u001B[49m\u001B[43m,\u001B[49m\n\u001B[1;32m    604\u001B[0m \u001B[43m    \u001B[49m\u001B[43mfold_strategy\u001B[49m\u001B[38;5;241;43m=\u001B[39;49m\u001B[43mfold_strategy\u001B[49m\u001B[43m,\u001B[49m\n\u001B[1;32m    605\u001B[0m \u001B[43m    \u001B[49m\u001B[43mfold\u001B[49m\u001B[38;5;241;43m=\u001B[39;49m\u001B[43mfold\u001B[49m\u001B[43m,\u001B[49m\n\u001B[1;32m    606\u001B[0m \u001B[43m    \u001B[49m\u001B[43mfh\u001B[49m\u001B[38;5;241;43m=\u001B[39;49m\u001B[43mfh\u001B[49m\u001B[43m,\u001B[49m\n\u001B[1;32m    607\u001B[0m \u001B[43m    \u001B[49m\u001B[43mhyperparameter_split\u001B[49m\u001B[38;5;241;43m=\u001B[39;49m\u001B[43mhyperparameter_split\u001B[49m\u001B[43m,\u001B[49m\n\u001B[1;32m    608\u001B[0m \u001B[43m    \u001B[49m\u001B[43mseasonal_period\u001B[49m\u001B[38;5;241;43m=\u001B[39;49m\u001B[43mseasonal_period\u001B[49m\u001B[43m,\u001B[49m\n\u001B[1;32m    609\u001B[0m \u001B[43m    \u001B[49m\u001B[43mignore_seasonality_test\u001B[49m\u001B[38;5;241;43m=\u001B[39;49m\u001B[43mignore_seasonality_test\u001B[49m\u001B[43m,\u001B[49m\n\u001B[1;32m    610\u001B[0m \u001B[43m    \u001B[49m\u001B[43msp_detection\u001B[49m\u001B[38;5;241;43m=\u001B[39;49m\u001B[43msp_detection\u001B[49m\u001B[43m,\u001B[49m\n\u001B[1;32m    611\u001B[0m \u001B[43m    \u001B[49m\u001B[43mmax_sp_to_consider\u001B[49m\u001B[38;5;241;43m=\u001B[39;49m\u001B[43mmax_sp_to_consider\u001B[49m\u001B[43m,\u001B[49m\n\u001B[1;32m    612\u001B[0m \u001B[43m    \u001B[49m\u001B[43mremove_harmonics\u001B[49m\u001B[38;5;241;43m=\u001B[39;49m\u001B[43mremove_harmonics\u001B[49m\u001B[43m,\u001B[49m\n\u001B[1;32m    613\u001B[0m \u001B[43m    \u001B[49m\u001B[43mharmonic_order_method\u001B[49m\u001B[38;5;241;43m=\u001B[39;49m\u001B[43mharmonic_order_method\u001B[49m\u001B[43m,\u001B[49m\n\u001B[1;32m    614\u001B[0m \u001B[43m    \u001B[49m\u001B[43mnum_sps_to_use\u001B[49m\u001B[38;5;241;43m=\u001B[39;49m\u001B[43mnum_sps_to_use\u001B[49m\u001B[43m,\u001B[49m\n\u001B[1;32m    615\u001B[0m \u001B[43m    \u001B[49m\u001B[43mseasonality_type\u001B[49m\u001B[38;5;241;43m=\u001B[39;49m\u001B[43mseasonality_type\u001B[49m\u001B[43m,\u001B[49m\n\u001B[1;32m    616\u001B[0m \u001B[43m    \u001B[49m\u001B[43mpoint_alpha\u001B[49m\u001B[38;5;241;43m=\u001B[39;49m\u001B[43mpoint_alpha\u001B[49m\u001B[43m,\u001B[49m\n\u001B[1;32m    617\u001B[0m \u001B[43m    \u001B[49m\u001B[43mcoverage\u001B[49m\u001B[38;5;241;43m=\u001B[39;49m\u001B[43mcoverage\u001B[49m\u001B[43m,\u001B[49m\n\u001B[1;32m    618\u001B[0m \u001B[43m    \u001B[49m\u001B[43menforce_exogenous\u001B[49m\u001B[38;5;241;43m=\u001B[39;49m\u001B[43menforce_exogenous\u001B[49m\u001B[43m,\u001B[49m\n\u001B[1;32m    619\u001B[0m \u001B[43m    \u001B[49m\u001B[43mn_jobs\u001B[49m\u001B[38;5;241;43m=\u001B[39;49m\u001B[43mn_jobs\u001B[49m\u001B[43m,\u001B[49m\n\u001B[1;32m    620\u001B[0m \u001B[43m    \u001B[49m\u001B[43muse_gpu\u001B[49m\u001B[38;5;241;43m=\u001B[39;49m\u001B[43muse_gpu\u001B[49m\u001B[43m,\u001B[49m\n\u001B[1;32m    621\u001B[0m \u001B[43m    \u001B[49m\u001B[43mcustom_pipeline\u001B[49m\u001B[38;5;241;43m=\u001B[39;49m\u001B[43mcustom_pipeline\u001B[49m\u001B[43m,\u001B[49m\n\u001B[1;32m    622\u001B[0m \u001B[43m    \u001B[49m\u001B[43mhtml\u001B[49m\u001B[38;5;241;43m=\u001B[39;49m\u001B[43mhtml\u001B[49m\u001B[43m,\u001B[49m\n\u001B[1;32m    623\u001B[0m \u001B[43m    \u001B[49m\u001B[43msession_id\u001B[49m\u001B[38;5;241;43m=\u001B[39;49m\u001B[43msession_id\u001B[49m\u001B[43m,\u001B[49m\n\u001B[1;32m    624\u001B[0m \u001B[43m    \u001B[49m\u001B[43msystem_log\u001B[49m\u001B[38;5;241;43m=\u001B[39;49m\u001B[43msystem_log\u001B[49m\u001B[43m,\u001B[49m\n\u001B[1;32m    625\u001B[0m \u001B[43m    \u001B[49m\u001B[43mlog_experiment\u001B[49m\u001B[38;5;241;43m=\u001B[39;49m\u001B[43mlog_experiment\u001B[49m\u001B[43m,\u001B[49m\n\u001B[1;32m    626\u001B[0m \u001B[43m    \u001B[49m\u001B[43mexperiment_name\u001B[49m\u001B[38;5;241;43m=\u001B[39;49m\u001B[43mexperiment_name\u001B[49m\u001B[43m,\u001B[49m\n\u001B[1;32m    627\u001B[0m \u001B[43m    \u001B[49m\u001B[43mlog_plots\u001B[49m\u001B[38;5;241;43m=\u001B[39;49m\u001B[43mlog_plots\u001B[49m\u001B[43m,\u001B[49m\n\u001B[1;32m    628\u001B[0m \u001B[43m    \u001B[49m\u001B[43mlog_profile\u001B[49m\u001B[38;5;241;43m=\u001B[39;49m\u001B[43mlog_profile\u001B[49m\u001B[43m,\u001B[49m\n\u001B[1;32m    629\u001B[0m \u001B[43m    \u001B[49m\u001B[43mlog_data\u001B[49m\u001B[38;5;241;43m=\u001B[39;49m\u001B[43mlog_data\u001B[49m\u001B[43m,\u001B[49m\n\u001B[1;32m    630\u001B[0m \u001B[43m    \u001B[49m\u001B[43mverbose\u001B[49m\u001B[38;5;241;43m=\u001B[39;49m\u001B[43mverbose\u001B[49m\u001B[43m,\u001B[49m\n\u001B[1;32m    631\u001B[0m \u001B[43m    \u001B[49m\u001B[43mprofile\u001B[49m\u001B[38;5;241;43m=\u001B[39;49m\u001B[43mprofile\u001B[49m\u001B[43m,\u001B[49m\n\u001B[1;32m    632\u001B[0m \u001B[43m    \u001B[49m\u001B[43mprofile_kwargs\u001B[49m\u001B[38;5;241;43m=\u001B[39;49m\u001B[43mprofile_kwargs\u001B[49m\u001B[43m,\u001B[49m\n\u001B[1;32m    633\u001B[0m \u001B[43m    \u001B[49m\u001B[43mfig_kwargs\u001B[49m\u001B[38;5;241;43m=\u001B[39;49m\u001B[43mfig_kwargs\u001B[49m\u001B[43m,\u001B[49m\n\u001B[1;32m    634\u001B[0m \u001B[43m\u001B[49m\u001B[43m)\u001B[49m\n",
      "File \u001B[0;32m~/opt/anaconda3/envs/aiss/lib/python3.8/site-packages/pycaret/time_series/forecasting/oop.py:2095\u001B[0m, in \u001B[0;36mTSForecastingExperiment.setup\u001B[0;34m(self, data, data_func, target, index, ignore_features, numeric_imputation_target, numeric_imputation_exogenous, transform_target, transform_exogenous, scale_target, scale_exogenous, fe_target_rr, fe_exogenous, fold_strategy, fold, fh, hyperparameter_split, seasonal_period, ignore_seasonality_test, sp_detection, max_sp_to_consider, remove_harmonics, harmonic_order_method, num_sps_to_use, seasonality_type, point_alpha, coverage, enforce_exogenous, n_jobs, use_gpu, custom_pipeline, html, session_id, system_log, log_experiment, experiment_name, experiment_custom_tags, log_plots, log_profile, log_data, engine, verbose, profile, profile_kwargs, fig_kwargs)\u001B[0m\n\u001B[1;32m   2091\u001B[0m \u001B[38;5;66;03m# Features to be ignored (are not read by self.dataset, self.X, etc...)\u001B[39;00m\n\u001B[1;32m   2092\u001B[0m \u001B[38;5;28mself\u001B[39m\u001B[38;5;241m.\u001B[39m_fxs \u001B[38;5;241m=\u001B[39m {\u001B[38;5;124m\"\u001B[39m\u001B[38;5;124mIgnore\u001B[39m\u001B[38;5;124m\"\u001B[39m: ignore_features \u001B[38;5;129;01mor\u001B[39;00m []}\n\u001B[1;32m   2094\u001B[0m (\n\u001B[0;32m-> 2095\u001B[0m     \u001B[38;5;28;43mself\u001B[39;49m\u001B[38;5;241;43m.\u001B[39;49m\u001B[43m_initialize_setup\u001B[49m\u001B[43m(\u001B[49m\n\u001B[1;32m   2096\u001B[0m \u001B[43m        \u001B[49m\u001B[43mn_jobs\u001B[49m\u001B[38;5;241;43m=\u001B[39;49m\u001B[43mn_jobs\u001B[49m\u001B[43m,\u001B[49m\n\u001B[1;32m   2097\u001B[0m \u001B[43m        \u001B[49m\u001B[43muse_gpu\u001B[49m\u001B[38;5;241;43m=\u001B[39;49m\u001B[43muse_gpu\u001B[49m\u001B[43m,\u001B[49m\n\u001B[1;32m   2098\u001B[0m \u001B[43m        \u001B[49m\u001B[43mhtml\u001B[49m\u001B[38;5;241;43m=\u001B[39;49m\u001B[43mhtml\u001B[49m\u001B[43m,\u001B[49m\n\u001B[1;32m   2099\u001B[0m \u001B[43m        \u001B[49m\u001B[43msession_id\u001B[49m\u001B[38;5;241;43m=\u001B[39;49m\u001B[43msession_id\u001B[49m\u001B[43m,\u001B[49m\n\u001B[1;32m   2100\u001B[0m \u001B[43m        \u001B[49m\u001B[43msystem_log\u001B[49m\u001B[38;5;241;43m=\u001B[39;49m\u001B[43msystem_log\u001B[49m\u001B[43m,\u001B[49m\n\u001B[1;32m   2101\u001B[0m \u001B[43m        \u001B[49m\u001B[43mlog_experiment\u001B[49m\u001B[38;5;241;43m=\u001B[39;49m\u001B[43mlog_experiment\u001B[49m\u001B[43m,\u001B[49m\n\u001B[1;32m   2102\u001B[0m \u001B[43m        \u001B[49m\u001B[43mexperiment_name\u001B[49m\u001B[38;5;241;43m=\u001B[39;49m\u001B[43mexperiment_name\u001B[49m\u001B[43m,\u001B[49m\n\u001B[1;32m   2103\u001B[0m \u001B[43m        \u001B[49m\u001B[43mmemory\u001B[49m\u001B[38;5;241;43m=\u001B[39;49m\u001B[38;5;28;43;01mTrue\u001B[39;49;00m\u001B[43m,\u001B[49m\n\u001B[1;32m   2104\u001B[0m \u001B[43m        \u001B[49m\u001B[43mverbose\u001B[49m\u001B[38;5;241;43m=\u001B[39;49m\u001B[43mverbose\u001B[49m\u001B[43m,\u001B[49m\n\u001B[1;32m   2105\u001B[0m \u001B[43m    \u001B[49m\u001B[43m)\u001B[49m\n\u001B[1;32m   2106\u001B[0m     \u001B[38;5;241m.\u001B[39m_check_clean_and_set_data(data)\n\u001B[1;32m   2107\u001B[0m     \u001B[38;5;241m.\u001B[39m_check_and_clean_index(index\u001B[38;5;241m=\u001B[39mindex, seasonal_period\u001B[38;5;241m=\u001B[39mseasonal_period)\n\u001B[1;32m   2108\u001B[0m     \u001B[38;5;241m.\u001B[39m_check_and_set_targets(target\u001B[38;5;241m=\u001B[39mtarget)\n\u001B[1;32m   2109\u001B[0m     \u001B[38;5;241m.\u001B[39m_set_exogenous_names()\n\u001B[1;32m   2110\u001B[0m     \u001B[38;5;241m.\u001B[39m_check_and_set_forecasting_types()\n\u001B[1;32m   2111\u001B[0m     \u001B[38;5;241m.\u001B[39m_check_and_set_fh(fh\u001B[38;5;241m=\u001B[39mfh)\n\u001B[1;32m   2112\u001B[0m     \u001B[38;5;241m.\u001B[39m_set_point_alpha_intervals_enforce_pi(\n\u001B[1;32m   2113\u001B[0m         point_alpha\u001B[38;5;241m=\u001B[39mpoint_alpha, coverage\u001B[38;5;241m=\u001B[39mcoverage\n\u001B[1;32m   2114\u001B[0m     )\n\u001B[1;32m   2115\u001B[0m     \u001B[38;5;241m.\u001B[39m_setup_train_test_split()\n\u001B[1;32m   2116\u001B[0m     \u001B[38;5;241m.\u001B[39m_set_fold_generator()\n\u001B[1;32m   2117\u001B[0m     \u001B[38;5;241m.\u001B[39m_set_should_preprocess_data()\n\u001B[1;32m   2118\u001B[0m     \u001B[38;5;241m.\u001B[39m_set_missingness()\n\u001B[1;32m   2119\u001B[0m     \u001B[38;5;241m.\u001B[39m_initialize_pipeline()\n\u001B[1;32m   2120\u001B[0m     \u001B[38;5;66;03m##################################################################\u001B[39;00m\n\u001B[1;32m   2121\u001B[0m     \u001B[38;5;66;03m# Do these after the preprocessing pipeline has been setup.\u001B[39;00m\n\u001B[1;32m   2122\u001B[0m     \u001B[38;5;66;03m# Since the model will see transformed data, these parameters\u001B[39;00m\n\u001B[1;32m   2123\u001B[0m     \u001B[38;5;66;03m# should also be derived from the transformed data.\u001B[39;00m\n\u001B[1;32m   2124\u001B[0m     \u001B[38;5;66;03m##################################################################\u001B[39;00m\n\u001B[1;32m   2125\u001B[0m     \u001B[38;5;241m.\u001B[39m_check_and_set_seasonal_period()\n\u001B[1;32m   2126\u001B[0m     \u001B[38;5;241m.\u001B[39m_set_seasonal_type(seasonality_type\u001B[38;5;241m=\u001B[39mseasonality_type)\n\u001B[1;32m   2127\u001B[0m     \u001B[38;5;241m.\u001B[39m_perform_setup_eda()\n\u001B[1;32m   2128\u001B[0m     \u001B[38;5;241m.\u001B[39m_setup_display_container()\n\u001B[1;32m   2129\u001B[0m     \u001B[38;5;241m.\u001B[39m_profile(profile, profile_kwargs)\n\u001B[1;32m   2130\u001B[0m     \u001B[38;5;241m.\u001B[39m_set_exp_model_engines(\n\u001B[1;32m   2131\u001B[0m         container_default_engines\u001B[38;5;241m=\u001B[39mget_container_default_engines(),\n\u001B[1;32m   2132\u001B[0m         engine\u001B[38;5;241m=\u001B[39mengine,\n\u001B[1;32m   2133\u001B[0m     )\n\u001B[1;32m   2134\u001B[0m     \u001B[38;5;241m.\u001B[39m_set_all_models()\n\u001B[1;32m   2135\u001B[0m     \u001B[38;5;241m.\u001B[39m_set_all_metrics()\n\u001B[1;32m   2136\u001B[0m )\n\u001B[1;32m   2138\u001B[0m runtime \u001B[38;5;241m=\u001B[39m np\u001B[38;5;241m.\u001B[39marray(time\u001B[38;5;241m.\u001B[39mtime() \u001B[38;5;241m-\u001B[39m runtime_start)\u001B[38;5;241m.\u001B[39mround(\u001B[38;5;241m2\u001B[39m)\n\u001B[1;32m   2140\u001B[0m \u001B[38;5;28mself\u001B[39m\u001B[38;5;241m.\u001B[39m_set_up_logging(\n\u001B[1;32m   2141\u001B[0m     runtime,\n\u001B[1;32m   2142\u001B[0m     log_data,\n\u001B[1;32m   2143\u001B[0m     log_profile,\n\u001B[1;32m   2144\u001B[0m     experiment_custom_tags\u001B[38;5;241m=\u001B[39mexperiment_custom_tags,\n\u001B[1;32m   2145\u001B[0m )\n",
      "File \u001B[0;32m~/opt/anaconda3/envs/aiss/lib/python3.8/site-packages/pycaret/internal/pycaret_experiment/tabular_experiment.py:328\u001B[0m, in \u001B[0;36m_TabularExperiment._initialize_setup\u001B[0;34m(self, n_jobs, use_gpu, html, session_id, system_log, log_experiment, experiment_name, memory, verbose)\u001B[0m\n\u001B[1;32m    324\u001B[0m \u001B[38;5;28mself\u001B[39m\u001B[38;5;241m.\u001B[39mlogger\u001B[38;5;241m.\u001B[39minfo(\u001B[38;5;124mf\u001B[39m\u001B[38;5;124m\"\u001B[39m\u001B[38;5;124mself.USI: \u001B[39m\u001B[38;5;132;01m{\u001B[39;00m\u001B[38;5;28mself\u001B[39m\u001B[38;5;241m.\u001B[39mUSI\u001B[38;5;132;01m}\u001B[39;00m\u001B[38;5;124m\"\u001B[39m)\n\u001B[1;32m    326\u001B[0m \u001B[38;5;28mself\u001B[39m\u001B[38;5;241m.\u001B[39mlogger\u001B[38;5;241m.\u001B[39minfo(\u001B[38;5;124mf\u001B[39m\u001B[38;5;124m\"\u001B[39m\u001B[38;5;124mself._variable_keys: \u001B[39m\u001B[38;5;132;01m{\u001B[39;00m\u001B[38;5;28mself\u001B[39m\u001B[38;5;241m.\u001B[39m_variable_keys\u001B[38;5;132;01m}\u001B[39;00m\u001B[38;5;124m\"\u001B[39m)\n\u001B[0;32m--> 328\u001B[0m \u001B[38;5;28;43mself\u001B[39;49m\u001B[38;5;241;43m.\u001B[39;49m\u001B[43m_check_environment\u001B[49m\u001B[43m(\u001B[49m\u001B[43m)\u001B[49m\n\u001B[1;32m    330\u001B[0m \u001B[38;5;66;03m# Set up GPU usage ========================================= >>\u001B[39;00m\n\u001B[1;32m    332\u001B[0m \u001B[38;5;28;01mif\u001B[39;00m \u001B[38;5;28mself\u001B[39m\u001B[38;5;241m.\u001B[39mgpu_param \u001B[38;5;241m!=\u001B[39m \u001B[38;5;124m\"\u001B[39m\u001B[38;5;124mforce\u001B[39m\u001B[38;5;124m\"\u001B[39m \u001B[38;5;129;01mand\u001B[39;00m \u001B[38;5;28mtype\u001B[39m(\u001B[38;5;28mself\u001B[39m\u001B[38;5;241m.\u001B[39mgpu_param) \u001B[38;5;129;01mis\u001B[39;00m \u001B[38;5;129;01mnot\u001B[39;00m \u001B[38;5;28mbool\u001B[39m:\n",
      "File \u001B[0;32m~/opt/anaconda3/envs/aiss/lib/python3.8/site-packages/pycaret/internal/pycaret_experiment/pycaret_experiment.py:121\u001B[0m, in \u001B[0;36m_PyCaretExperiment._check_environment\u001B[0;34m(self)\u001B[0m\n\u001B[1;32m    118\u001B[0m \u001B[38;5;28;01mfrom\u001B[39;00m \u001B[38;5;21;01mpycaret\u001B[39;00m\u001B[38;5;21;01m.\u001B[39;00m\u001B[38;5;21;01mutils\u001B[39;00m\u001B[38;5;21;01m.\u001B[39;00m\u001B[38;5;21;01m_show_versions\u001B[39;00m \u001B[38;5;28;01mimport\u001B[39;00m show_versions\n\u001B[1;32m    120\u001B[0m \u001B[38;5;28mself\u001B[39m\u001B[38;5;241m.\u001B[39mlogger\u001B[38;5;241m.\u001B[39minfo(\u001B[38;5;124m\"\u001B[39m\u001B[38;5;124mChecking libraries\u001B[39m\u001B[38;5;124m\"\u001B[39m)\n\u001B[0;32m--> 121\u001B[0m \u001B[38;5;28mself\u001B[39m\u001B[38;5;241m.\u001B[39mlogger\u001B[38;5;241m.\u001B[39minfo(\u001B[43mshow_versions\u001B[49m\u001B[43m(\u001B[49m\u001B[43mlogger\u001B[49m\u001B[38;5;241;43m=\u001B[39;49m\u001B[38;5;28;43mself\u001B[39;49m\u001B[38;5;241;43m.\u001B[39;49m\u001B[43mlogger\u001B[49m\u001B[43m)\u001B[49m)\n",
      "File \u001B[0;32m~/opt/anaconda3/envs/aiss/lib/python3.8/site-packages/pycaret/utils/_show_versions.py:165\u001B[0m, in \u001B[0;36mshow_versions\u001B[0;34m(optional, logger)\u001B[0m\n\u001B[1;32m    162\u001B[0m     print_func(\u001B[38;5;124m\"\u001B[39m\u001B[38;5;132;01m{k:>10}\u001B[39;00m\u001B[38;5;124m: \u001B[39m\u001B[38;5;132;01m{stat}\u001B[39;00m\u001B[38;5;124m\"\u001B[39m\u001B[38;5;241m.\u001B[39mformat(k\u001B[38;5;241m=\u001B[39mk, stat\u001B[38;5;241m=\u001B[39mstat))  \u001B[38;5;66;03m# noqa: T001\u001B[39;00m\n\u001B[1;32m    164\u001B[0m print_func(\u001B[38;5;124mf\u001B[39m\u001B[38;5;124m\"\u001B[39m\u001B[38;5;132;01m{\u001B[39;00mprefix\u001B[38;5;132;01m}\u001B[39;00m\u001B[38;5;124mPyCaret required dependencies:\u001B[39m\u001B[38;5;124m\"\u001B[39m)  \u001B[38;5;66;03m# noqa: T001\u001B[39;00m\n\u001B[0;32m--> 165\u001B[0m optional_deps_info \u001B[38;5;241m=\u001B[39m \u001B[43m_get_deps_info\u001B[49m\u001B[43m(\u001B[49m\u001B[43mlogger\u001B[49m\u001B[38;5;241;43m=\u001B[39;49m\u001B[43mlogger\u001B[49m\u001B[43m)\u001B[49m\n\u001B[1;32m    166\u001B[0m \u001B[38;5;28;01mfor\u001B[39;00m k, stat \u001B[38;5;129;01min\u001B[39;00m optional_deps_info\u001B[38;5;241m.\u001B[39mitems():\n\u001B[1;32m    167\u001B[0m     print_func(\u001B[38;5;124m\"\u001B[39m\u001B[38;5;132;01m{k:>20}\u001B[39;00m\u001B[38;5;124m: \u001B[39m\u001B[38;5;132;01m{stat}\u001B[39;00m\u001B[38;5;124m\"\u001B[39m\u001B[38;5;241m.\u001B[39mformat(k\u001B[38;5;241m=\u001B[39mk, stat\u001B[38;5;241m=\u001B[39mstat))  \u001B[38;5;66;03m# noqa: T001\u001B[39;00m\n",
      "File \u001B[0;32m~/opt/anaconda3/envs/aiss/lib/python3.8/site-packages/pycaret/utils/_show_versions.py:130\u001B[0m, in \u001B[0;36m_get_deps_info\u001B[0;34m(optional, logger)\u001B[0m\n\u001B[1;32m    128\u001B[0m \u001B[38;5;28;01mfor\u001B[39;00m modname \u001B[38;5;129;01min\u001B[39;00m deps:\n\u001B[1;32m    129\u001B[0m     \u001B[38;5;28;01mtry\u001B[39;00m:\n\u001B[0;32m--> 130\u001B[0m         ver \u001B[38;5;241m=\u001B[39m \u001B[43mget_module_version\u001B[49m\u001B[43m(\u001B[49m\u001B[43mmodname\u001B[49m\u001B[43m)\u001B[49m\n\u001B[1;32m    131\u001B[0m         \u001B[38;5;28;01mif\u001B[39;00m \u001B[38;5;129;01mnot\u001B[39;00m ver:\n\u001B[1;32m    132\u001B[0m             ver \u001B[38;5;241m=\u001B[39m \u001B[38;5;124m\"\u001B[39m\u001B[38;5;124mInstalled but version unavailable\u001B[39m\u001B[38;5;124m\"\u001B[39m\n",
      "File \u001B[0;32m~/opt/anaconda3/envs/aiss/lib/python3.8/site-packages/pycaret/utils/_dependencies.py:81\u001B[0m, in \u001B[0;36mget_module_version\u001B[0;34m(modname)\u001B[0m\n\u001B[1;32m     79\u001B[0m \u001B[38;5;28;01mdef\u001B[39;00m \u001B[38;5;21mget_module_version\u001B[39m(modname: \u001B[38;5;28mstr\u001B[39m) \u001B[38;5;241m-\u001B[39m\u001B[38;5;241m>\u001B[39m Optional[LooseVersion]:\n\u001B[1;32m     80\u001B[0m     \u001B[38;5;124;03m\"\"\"Raises a ValueError if module is not installed\"\"\"\u001B[39;00m\n\u001B[0;32m---> 81\u001B[0m     version \u001B[38;5;241m=\u001B[39m \u001B[43m_get_module_version\u001B[49m\u001B[43m(\u001B[49m\u001B[43mmodname\u001B[49m\u001B[43m)\u001B[49m\n\u001B[1;32m     82\u001B[0m     \u001B[38;5;28;01mif\u001B[39;00m version \u001B[38;5;129;01mis\u001B[39;00m \u001B[38;5;28;01mFalse\u001B[39;00m:\n\u001B[1;32m     83\u001B[0m         \u001B[38;5;28;01mraise\u001B[39;00m \u001B[38;5;167;01mValueError\u001B[39;00m(\u001B[38;5;124mf\u001B[39m\u001B[38;5;124m\"\u001B[39m\u001B[38;5;124mModule \u001B[39m\u001B[38;5;124m'\u001B[39m\u001B[38;5;132;01m{\u001B[39;00mmodname\u001B[38;5;132;01m}\u001B[39;00m\u001B[38;5;124m'\u001B[39m\u001B[38;5;124m is not installed.\u001B[39m\u001B[38;5;124m\"\u001B[39m)\n",
      "File \u001B[0;32m~/opt/anaconda3/envs/aiss/lib/python3.8/site-packages/pycaret/utils/_dependencies.py:75\u001B[0m, in \u001B[0;36m_get_module_version\u001B[0;34m(modname)\u001B[0m\n\u001B[1;32m     72\u001B[0m installed_modules \u001B[38;5;241m=\u001B[39m get_installed_modules()\n\u001B[1;32m     73\u001B[0m \u001B[38;5;28;01mif\u001B[39;00m modname \u001B[38;5;129;01mnot\u001B[39;00m \u001B[38;5;129;01min\u001B[39;00m installed_modules:\n\u001B[1;32m     74\u001B[0m     \u001B[38;5;66;03m# Fallback. This should never happen unless module is not present\u001B[39;00m\n\u001B[0;32m---> 75\u001B[0m     installed_modules[modname] \u001B[38;5;241m=\u001B[39m \u001B[43m_try_import_and_get_module_version\u001B[49m\u001B[43m(\u001B[49m\u001B[43mmodname\u001B[49m\u001B[43m)\u001B[49m\n\u001B[1;32m     76\u001B[0m \u001B[38;5;28;01mreturn\u001B[39;00m installed_modules[modname]\n",
      "File \u001B[0;32m~/opt/anaconda3/envs/aiss/lib/python3.8/site-packages/pycaret/utils/_dependencies.py:28\u001B[0m, in \u001B[0;36m_try_import_and_get_module_version\u001B[0;34m(modname)\u001B[0m\n\u001B[1;32m     26\u001B[0m \u001B[38;5;28;01mif\u001B[39;00m logger:\n\u001B[1;32m     27\u001B[0m     \u001B[38;5;28;01mwith\u001B[39;00m redirect_output(logger):\n\u001B[0;32m---> 28\u001B[0m         mod \u001B[38;5;241m=\u001B[39m \u001B[43mimport_module\u001B[49m\u001B[43m(\u001B[49m\u001B[43mmodname\u001B[49m\u001B[43m)\u001B[49m\n\u001B[1;32m     29\u001B[0m \u001B[38;5;28;01melse\u001B[39;00m:\n\u001B[1;32m     30\u001B[0m     mod \u001B[38;5;241m=\u001B[39m import_module(modname)\n",
      "File \u001B[0;32m~/opt/anaconda3/envs/aiss/lib/python3.8/importlib/__init__.py:127\u001B[0m, in \u001B[0;36mimport_module\u001B[0;34m(name, package)\u001B[0m\n\u001B[1;32m    125\u001B[0m             \u001B[38;5;28;01mbreak\u001B[39;00m\n\u001B[1;32m    126\u001B[0m         level \u001B[38;5;241m+\u001B[39m\u001B[38;5;241m=\u001B[39m \u001B[38;5;241m1\u001B[39m\n\u001B[0;32m--> 127\u001B[0m \u001B[38;5;28;01mreturn\u001B[39;00m \u001B[43m_bootstrap\u001B[49m\u001B[38;5;241;43m.\u001B[39;49m\u001B[43m_gcd_import\u001B[49m\u001B[43m(\u001B[49m\u001B[43mname\u001B[49m\u001B[43m[\u001B[49m\u001B[43mlevel\u001B[49m\u001B[43m:\u001B[49m\u001B[43m]\u001B[49m\u001B[43m,\u001B[49m\u001B[43m \u001B[49m\u001B[43mpackage\u001B[49m\u001B[43m,\u001B[49m\u001B[43m \u001B[49m\u001B[43mlevel\u001B[49m\u001B[43m)\u001B[49m\n",
      "File \u001B[0;32m<frozen importlib._bootstrap>:1014\u001B[0m, in \u001B[0;36m_gcd_import\u001B[0;34m(name, package, level)\u001B[0m\n",
      "File \u001B[0;32m<frozen importlib._bootstrap>:991\u001B[0m, in \u001B[0;36m_find_and_load\u001B[0;34m(name, import_)\u001B[0m\n",
      "File \u001B[0;32m<frozen importlib._bootstrap>:975\u001B[0m, in \u001B[0;36m_find_and_load_unlocked\u001B[0;34m(name, import_)\u001B[0m\n",
      "File \u001B[0;32m<frozen importlib._bootstrap>:671\u001B[0m, in \u001B[0;36m_load_unlocked\u001B[0;34m(spec)\u001B[0m\n",
      "File \u001B[0;32m<frozen importlib._bootstrap_external>:843\u001B[0m, in \u001B[0;36mexec_module\u001B[0;34m(self, module)\u001B[0m\n",
      "File \u001B[0;32m<frozen importlib._bootstrap>:219\u001B[0m, in \u001B[0;36m_call_with_frames_removed\u001B[0;34m(f, *args, **kwds)\u001B[0m\n",
      "File \u001B[0;32m~/opt/anaconda3/envs/aiss/lib/python3.8/site-packages/lightgbm/__init__.py:8\u001B[0m, in \u001B[0;36m<module>\u001B[0;34m\u001B[0m\n\u001B[1;32m      2\u001B[0m \u001B[38;5;124;03m\"\"\"LightGBM, Light Gradient Boosting Machine.\u001B[39;00m\n\u001B[1;32m      3\u001B[0m \n\u001B[1;32m      4\u001B[0m \u001B[38;5;124;03mContributors: https://github.com/microsoft/LightGBM/graphs/contributors.\u001B[39;00m\n\u001B[1;32m      5\u001B[0m \u001B[38;5;124;03m\"\"\"\u001B[39;00m\n\u001B[1;32m      6\u001B[0m \u001B[38;5;28;01mfrom\u001B[39;00m \u001B[38;5;21;01mpathlib\u001B[39;00m \u001B[38;5;28;01mimport\u001B[39;00m Path\n\u001B[0;32m----> 8\u001B[0m \u001B[38;5;28;01mfrom\u001B[39;00m \u001B[38;5;21;01m.\u001B[39;00m\u001B[38;5;21;01mbasic\u001B[39;00m \u001B[38;5;28;01mimport\u001B[39;00m Booster, Dataset, Sequence, register_logger\n\u001B[1;32m      9\u001B[0m \u001B[38;5;28;01mfrom\u001B[39;00m \u001B[38;5;21;01m.\u001B[39;00m\u001B[38;5;21;01mcallback\u001B[39;00m \u001B[38;5;28;01mimport\u001B[39;00m EarlyStopException, early_stopping, log_evaluation, record_evaluation, reset_parameter\n\u001B[1;32m     10\u001B[0m \u001B[38;5;28;01mfrom\u001B[39;00m \u001B[38;5;21;01m.\u001B[39;00m\u001B[38;5;21;01mengine\u001B[39;00m \u001B[38;5;28;01mimport\u001B[39;00m CVBooster, cv, train\n",
      "File \u001B[0;32m~/opt/anaconda3/envs/aiss/lib/python3.8/site-packages/lightgbm/basic.py:247\u001B[0m, in \u001B[0;36m<module>\u001B[0;34m\u001B[0m\n\u001B[1;32m    245\u001B[0m     _LIB \u001B[38;5;241m=\u001B[39m Mock(ctypes\u001B[38;5;241m.\u001B[39mCDLL)  \u001B[38;5;66;03m# type: ignore\u001B[39;00m\n\u001B[1;32m    246\u001B[0m \u001B[38;5;28;01melse\u001B[39;00m:\n\u001B[0;32m--> 247\u001B[0m     _LIB \u001B[38;5;241m=\u001B[39m \u001B[43m_load_lib\u001B[49m\u001B[43m(\u001B[49m\u001B[43m)\u001B[49m\n\u001B[1;32m    250\u001B[0m _NUMERIC_TYPES \u001B[38;5;241m=\u001B[39m (\u001B[38;5;28mint\u001B[39m, \u001B[38;5;28mfloat\u001B[39m, \u001B[38;5;28mbool\u001B[39m)\n\u001B[1;32m    251\u001B[0m _ArrayLike \u001B[38;5;241m=\u001B[39m Union[List, np\u001B[38;5;241m.\u001B[39mndarray, pd_Series]\n",
      "File \u001B[0;32m~/opt/anaconda3/envs/aiss/lib/python3.8/site-packages/lightgbm/basic.py:232\u001B[0m, in \u001B[0;36m_load_lib\u001B[0;34m()\u001B[0m\n\u001B[1;32m    230\u001B[0m \u001B[38;5;124;03m\"\"\"Load LightGBM library.\"\"\"\u001B[39;00m\n\u001B[1;32m    231\u001B[0m lib_path \u001B[38;5;241m=\u001B[39m find_lib_path()\n\u001B[0;32m--> 232\u001B[0m lib \u001B[38;5;241m=\u001B[39m \u001B[43mctypes\u001B[49m\u001B[38;5;241;43m.\u001B[39;49m\u001B[43mcdll\u001B[49m\u001B[38;5;241;43m.\u001B[39;49m\u001B[43mLoadLibrary\u001B[49m\u001B[43m(\u001B[49m\u001B[43mlib_path\u001B[49m\u001B[43m[\u001B[49m\u001B[38;5;241;43m0\u001B[39;49m\u001B[43m]\u001B[49m\u001B[43m)\u001B[49m\n\u001B[1;32m    233\u001B[0m lib\u001B[38;5;241m.\u001B[39mLGBM_GetLastError\u001B[38;5;241m.\u001B[39mrestype \u001B[38;5;241m=\u001B[39m ctypes\u001B[38;5;241m.\u001B[39mc_char_p\n\u001B[1;32m    234\u001B[0m callback \u001B[38;5;241m=\u001B[39m ctypes\u001B[38;5;241m.\u001B[39mCFUNCTYPE(\u001B[38;5;28;01mNone\u001B[39;00m, ctypes\u001B[38;5;241m.\u001B[39mc_char_p)\n",
      "File \u001B[0;32m~/opt/anaconda3/envs/aiss/lib/python3.8/ctypes/__init__.py:451\u001B[0m, in \u001B[0;36mLibraryLoader.LoadLibrary\u001B[0;34m(self, name)\u001B[0m\n\u001B[1;32m    450\u001B[0m \u001B[38;5;28;01mdef\u001B[39;00m \u001B[38;5;21mLoadLibrary\u001B[39m(\u001B[38;5;28mself\u001B[39m, name):\n\u001B[0;32m--> 451\u001B[0m     \u001B[38;5;28;01mreturn\u001B[39;00m \u001B[38;5;28;43mself\u001B[39;49m\u001B[38;5;241;43m.\u001B[39;49m\u001B[43m_dlltype\u001B[49m\u001B[43m(\u001B[49m\u001B[43mname\u001B[49m\u001B[43m)\u001B[49m\n",
      "File \u001B[0;32m~/opt/anaconda3/envs/aiss/lib/python3.8/ctypes/__init__.py:373\u001B[0m, in \u001B[0;36mCDLL.__init__\u001B[0;34m(self, name, mode, handle, use_errno, use_last_error, winmode)\u001B[0m\n\u001B[1;32m    370\u001B[0m \u001B[38;5;28mself\u001B[39m\u001B[38;5;241m.\u001B[39m_FuncPtr \u001B[38;5;241m=\u001B[39m _FuncPtr\n\u001B[1;32m    372\u001B[0m \u001B[38;5;28;01mif\u001B[39;00m handle \u001B[38;5;129;01mis\u001B[39;00m \u001B[38;5;28;01mNone\u001B[39;00m:\n\u001B[0;32m--> 373\u001B[0m     \u001B[38;5;28mself\u001B[39m\u001B[38;5;241m.\u001B[39m_handle \u001B[38;5;241m=\u001B[39m \u001B[43m_dlopen\u001B[49m\u001B[43m(\u001B[49m\u001B[38;5;28;43mself\u001B[39;49m\u001B[38;5;241;43m.\u001B[39;49m\u001B[43m_name\u001B[49m\u001B[43m,\u001B[49m\u001B[43m \u001B[49m\u001B[43mmode\u001B[49m\u001B[43m)\u001B[49m\n\u001B[1;32m    374\u001B[0m \u001B[38;5;28;01melse\u001B[39;00m:\n\u001B[1;32m    375\u001B[0m     \u001B[38;5;28mself\u001B[39m\u001B[38;5;241m.\u001B[39m_handle \u001B[38;5;241m=\u001B[39m handle\n",
      "\u001B[0;31mOSError\u001B[0m: dlopen(/Users/fabianrockel/opt/anaconda3/envs/aiss/lib/python3.8/site-packages/lightgbm/lib/lib_lightgbm.so, 0x0006): Library not loaded: /usr/local/opt/libomp/lib/libomp.dylib\n  Referenced from: <C3EB28DD-60B6-3334-AFA2-72BBBF9DBAEF> /Users/fabianrockel/opt/anaconda3/envs/aiss/lib/python3.8/site-packages/lightgbm/lib/lib_lightgbm.so\n  Reason: tried: '/usr/local/opt/libomp/lib/libomp.dylib' (no such file), '/System/Volumes/Preboot/Cryptexes/OS/usr/local/opt/libomp/lib/libomp.dylib' (no such file), '/usr/local/opt/libomp/lib/libomp.dylib' (no such file), '/usr/local/lib/libomp.dylib' (no such file), '/usr/lib/libomp.dylib' (no such file, not in dyld cache)"
     ]
    }
   ],
   "source": [
    "from pycaret.time_series import * \n",
    "s = setup(df, fold = 3, fh = 18, session_id = 123)"
   ],
   "metadata": {
    "collapsed": false,
    "ExecuteTime": {
     "end_time": "2024-01-31T10:28:07.209242Z",
     "start_time": "2024-01-31T10:28:06.721427Z"
    }
   },
   "id": "4614a7f169c9651d"
  },
  {
   "cell_type": "code",
   "execution_count": 29,
   "outputs": [],
   "source": [
    "from pycaret.time_series import TSForecastingExperiment\n",
    "s1 = TSForecastingExperiment()"
   ],
   "metadata": {
    "collapsed": false,
    "ExecuteTime": {
     "end_time": "2024-01-31T10:28:11.451068Z",
     "start_time": "2024-01-31T10:28:11.443580Z"
    }
   },
   "id": "e8c6d15e8b35a195"
  },
  {
   "cell_type": "code",
   "execution_count": 30,
   "outputs": [
    {
     "ename": "OSError",
     "evalue": "dlopen(/Users/fabianrockel/opt/anaconda3/envs/aiss/lib/python3.8/site-packages/lightgbm/lib/lib_lightgbm.so, 0x0006): Library not loaded: /usr/local/opt/libomp/lib/libomp.dylib\n  Referenced from: <C3EB28DD-60B6-3334-AFA2-72BBBF9DBAEF> /Users/fabianrockel/opt/anaconda3/envs/aiss/lib/python3.8/site-packages/lightgbm/lib/lib_lightgbm.so\n  Reason: tried: '/usr/local/opt/libomp/lib/libomp.dylib' (no such file), '/System/Volumes/Preboot/Cryptexes/OS/usr/local/opt/libomp/lib/libomp.dylib' (no such file), '/usr/local/opt/libomp/lib/libomp.dylib' (no such file), '/usr/local/lib/libomp.dylib' (no such file), '/usr/lib/libomp.dylib' (no such file, not in dyld cache)",
     "output_type": "error",
     "traceback": [
      "\u001B[0;31m---------------------------------------------------------------------------\u001B[0m",
      "\u001B[0;31mOSError\u001B[0m                                   Traceback (most recent call last)",
      "Input \u001B[0;32mIn [30]\u001B[0m, in \u001B[0;36m<cell line: 1>\u001B[0;34m()\u001B[0m\n\u001B[0;32m----> 1\u001B[0m \u001B[43ms1\u001B[49m\u001B[38;5;241;43m.\u001B[39;49m\u001B[43msetup\u001B[49m\u001B[43m(\u001B[49m\u001B[43mdf\u001B[49m\u001B[43m,\u001B[49m\u001B[43m \u001B[49m\u001B[43mfold\u001B[49m\u001B[43m \u001B[49m\u001B[38;5;241;43m=\u001B[39;49m\u001B[43m \u001B[49m\u001B[38;5;241;43m3\u001B[39;49m\u001B[43m,\u001B[49m\u001B[43m \u001B[49m\u001B[43mfh\u001B[49m\u001B[43m \u001B[49m\u001B[38;5;241;43m=\u001B[39;49m\u001B[43m \u001B[49m\u001B[38;5;241;43m18\u001B[39;49m\u001B[43m,\u001B[49m\u001B[43m \u001B[49m\u001B[43msession_id\u001B[49m\u001B[43m \u001B[49m\u001B[38;5;241;43m=\u001B[39;49m\u001B[43m \u001B[49m\u001B[38;5;241;43m123\u001B[39;49m\u001B[43m)\u001B[49m\n",
      "File \u001B[0;32m~/opt/anaconda3/envs/aiss/lib/python3.8/site-packages/pycaret/time_series/forecasting/oop.py:2095\u001B[0m, in \u001B[0;36mTSForecastingExperiment.setup\u001B[0;34m(self, data, data_func, target, index, ignore_features, numeric_imputation_target, numeric_imputation_exogenous, transform_target, transform_exogenous, scale_target, scale_exogenous, fe_target_rr, fe_exogenous, fold_strategy, fold, fh, hyperparameter_split, seasonal_period, ignore_seasonality_test, sp_detection, max_sp_to_consider, remove_harmonics, harmonic_order_method, num_sps_to_use, seasonality_type, point_alpha, coverage, enforce_exogenous, n_jobs, use_gpu, custom_pipeline, html, session_id, system_log, log_experiment, experiment_name, experiment_custom_tags, log_plots, log_profile, log_data, engine, verbose, profile, profile_kwargs, fig_kwargs)\u001B[0m\n\u001B[1;32m   2091\u001B[0m \u001B[38;5;66;03m# Features to be ignored (are not read by self.dataset, self.X, etc...)\u001B[39;00m\n\u001B[1;32m   2092\u001B[0m \u001B[38;5;28mself\u001B[39m\u001B[38;5;241m.\u001B[39m_fxs \u001B[38;5;241m=\u001B[39m {\u001B[38;5;124m\"\u001B[39m\u001B[38;5;124mIgnore\u001B[39m\u001B[38;5;124m\"\u001B[39m: ignore_features \u001B[38;5;129;01mor\u001B[39;00m []}\n\u001B[1;32m   2094\u001B[0m (\n\u001B[0;32m-> 2095\u001B[0m     \u001B[38;5;28;43mself\u001B[39;49m\u001B[38;5;241;43m.\u001B[39;49m\u001B[43m_initialize_setup\u001B[49m\u001B[43m(\u001B[49m\n\u001B[1;32m   2096\u001B[0m \u001B[43m        \u001B[49m\u001B[43mn_jobs\u001B[49m\u001B[38;5;241;43m=\u001B[39;49m\u001B[43mn_jobs\u001B[49m\u001B[43m,\u001B[49m\n\u001B[1;32m   2097\u001B[0m \u001B[43m        \u001B[49m\u001B[43muse_gpu\u001B[49m\u001B[38;5;241;43m=\u001B[39;49m\u001B[43muse_gpu\u001B[49m\u001B[43m,\u001B[49m\n\u001B[1;32m   2098\u001B[0m \u001B[43m        \u001B[49m\u001B[43mhtml\u001B[49m\u001B[38;5;241;43m=\u001B[39;49m\u001B[43mhtml\u001B[49m\u001B[43m,\u001B[49m\n\u001B[1;32m   2099\u001B[0m \u001B[43m        \u001B[49m\u001B[43msession_id\u001B[49m\u001B[38;5;241;43m=\u001B[39;49m\u001B[43msession_id\u001B[49m\u001B[43m,\u001B[49m\n\u001B[1;32m   2100\u001B[0m \u001B[43m        \u001B[49m\u001B[43msystem_log\u001B[49m\u001B[38;5;241;43m=\u001B[39;49m\u001B[43msystem_log\u001B[49m\u001B[43m,\u001B[49m\n\u001B[1;32m   2101\u001B[0m \u001B[43m        \u001B[49m\u001B[43mlog_experiment\u001B[49m\u001B[38;5;241;43m=\u001B[39;49m\u001B[43mlog_experiment\u001B[49m\u001B[43m,\u001B[49m\n\u001B[1;32m   2102\u001B[0m \u001B[43m        \u001B[49m\u001B[43mexperiment_name\u001B[49m\u001B[38;5;241;43m=\u001B[39;49m\u001B[43mexperiment_name\u001B[49m\u001B[43m,\u001B[49m\n\u001B[1;32m   2103\u001B[0m \u001B[43m        \u001B[49m\u001B[43mmemory\u001B[49m\u001B[38;5;241;43m=\u001B[39;49m\u001B[38;5;28;43;01mTrue\u001B[39;49;00m\u001B[43m,\u001B[49m\n\u001B[1;32m   2104\u001B[0m \u001B[43m        \u001B[49m\u001B[43mverbose\u001B[49m\u001B[38;5;241;43m=\u001B[39;49m\u001B[43mverbose\u001B[49m\u001B[43m,\u001B[49m\n\u001B[1;32m   2105\u001B[0m \u001B[43m    \u001B[49m\u001B[43m)\u001B[49m\n\u001B[1;32m   2106\u001B[0m     \u001B[38;5;241m.\u001B[39m_check_clean_and_set_data(data)\n\u001B[1;32m   2107\u001B[0m     \u001B[38;5;241m.\u001B[39m_check_and_clean_index(index\u001B[38;5;241m=\u001B[39mindex, seasonal_period\u001B[38;5;241m=\u001B[39mseasonal_period)\n\u001B[1;32m   2108\u001B[0m     \u001B[38;5;241m.\u001B[39m_check_and_set_targets(target\u001B[38;5;241m=\u001B[39mtarget)\n\u001B[1;32m   2109\u001B[0m     \u001B[38;5;241m.\u001B[39m_set_exogenous_names()\n\u001B[1;32m   2110\u001B[0m     \u001B[38;5;241m.\u001B[39m_check_and_set_forecasting_types()\n\u001B[1;32m   2111\u001B[0m     \u001B[38;5;241m.\u001B[39m_check_and_set_fh(fh\u001B[38;5;241m=\u001B[39mfh)\n\u001B[1;32m   2112\u001B[0m     \u001B[38;5;241m.\u001B[39m_set_point_alpha_intervals_enforce_pi(\n\u001B[1;32m   2113\u001B[0m         point_alpha\u001B[38;5;241m=\u001B[39mpoint_alpha, coverage\u001B[38;5;241m=\u001B[39mcoverage\n\u001B[1;32m   2114\u001B[0m     )\n\u001B[1;32m   2115\u001B[0m     \u001B[38;5;241m.\u001B[39m_setup_train_test_split()\n\u001B[1;32m   2116\u001B[0m     \u001B[38;5;241m.\u001B[39m_set_fold_generator()\n\u001B[1;32m   2117\u001B[0m     \u001B[38;5;241m.\u001B[39m_set_should_preprocess_data()\n\u001B[1;32m   2118\u001B[0m     \u001B[38;5;241m.\u001B[39m_set_missingness()\n\u001B[1;32m   2119\u001B[0m     \u001B[38;5;241m.\u001B[39m_initialize_pipeline()\n\u001B[1;32m   2120\u001B[0m     \u001B[38;5;66;03m##################################################################\u001B[39;00m\n\u001B[1;32m   2121\u001B[0m     \u001B[38;5;66;03m# Do these after the preprocessing pipeline has been setup.\u001B[39;00m\n\u001B[1;32m   2122\u001B[0m     \u001B[38;5;66;03m# Since the model will see transformed data, these parameters\u001B[39;00m\n\u001B[1;32m   2123\u001B[0m     \u001B[38;5;66;03m# should also be derived from the transformed data.\u001B[39;00m\n\u001B[1;32m   2124\u001B[0m     \u001B[38;5;66;03m##################################################################\u001B[39;00m\n\u001B[1;32m   2125\u001B[0m     \u001B[38;5;241m.\u001B[39m_check_and_set_seasonal_period()\n\u001B[1;32m   2126\u001B[0m     \u001B[38;5;241m.\u001B[39m_set_seasonal_type(seasonality_type\u001B[38;5;241m=\u001B[39mseasonality_type)\n\u001B[1;32m   2127\u001B[0m     \u001B[38;5;241m.\u001B[39m_perform_setup_eda()\n\u001B[1;32m   2128\u001B[0m     \u001B[38;5;241m.\u001B[39m_setup_display_container()\n\u001B[1;32m   2129\u001B[0m     \u001B[38;5;241m.\u001B[39m_profile(profile, profile_kwargs)\n\u001B[1;32m   2130\u001B[0m     \u001B[38;5;241m.\u001B[39m_set_exp_model_engines(\n\u001B[1;32m   2131\u001B[0m         container_default_engines\u001B[38;5;241m=\u001B[39mget_container_default_engines(),\n\u001B[1;32m   2132\u001B[0m         engine\u001B[38;5;241m=\u001B[39mengine,\n\u001B[1;32m   2133\u001B[0m     )\n\u001B[1;32m   2134\u001B[0m     \u001B[38;5;241m.\u001B[39m_set_all_models()\n\u001B[1;32m   2135\u001B[0m     \u001B[38;5;241m.\u001B[39m_set_all_metrics()\n\u001B[1;32m   2136\u001B[0m )\n\u001B[1;32m   2138\u001B[0m runtime \u001B[38;5;241m=\u001B[39m np\u001B[38;5;241m.\u001B[39marray(time\u001B[38;5;241m.\u001B[39mtime() \u001B[38;5;241m-\u001B[39m runtime_start)\u001B[38;5;241m.\u001B[39mround(\u001B[38;5;241m2\u001B[39m)\n\u001B[1;32m   2140\u001B[0m \u001B[38;5;28mself\u001B[39m\u001B[38;5;241m.\u001B[39m_set_up_logging(\n\u001B[1;32m   2141\u001B[0m     runtime,\n\u001B[1;32m   2142\u001B[0m     log_data,\n\u001B[1;32m   2143\u001B[0m     log_profile,\n\u001B[1;32m   2144\u001B[0m     experiment_custom_tags\u001B[38;5;241m=\u001B[39mexperiment_custom_tags,\n\u001B[1;32m   2145\u001B[0m )\n",
      "File \u001B[0;32m~/opt/anaconda3/envs/aiss/lib/python3.8/site-packages/pycaret/internal/pycaret_experiment/tabular_experiment.py:328\u001B[0m, in \u001B[0;36m_TabularExperiment._initialize_setup\u001B[0;34m(self, n_jobs, use_gpu, html, session_id, system_log, log_experiment, experiment_name, memory, verbose)\u001B[0m\n\u001B[1;32m    324\u001B[0m \u001B[38;5;28mself\u001B[39m\u001B[38;5;241m.\u001B[39mlogger\u001B[38;5;241m.\u001B[39minfo(\u001B[38;5;124mf\u001B[39m\u001B[38;5;124m\"\u001B[39m\u001B[38;5;124mself.USI: \u001B[39m\u001B[38;5;132;01m{\u001B[39;00m\u001B[38;5;28mself\u001B[39m\u001B[38;5;241m.\u001B[39mUSI\u001B[38;5;132;01m}\u001B[39;00m\u001B[38;5;124m\"\u001B[39m)\n\u001B[1;32m    326\u001B[0m \u001B[38;5;28mself\u001B[39m\u001B[38;5;241m.\u001B[39mlogger\u001B[38;5;241m.\u001B[39minfo(\u001B[38;5;124mf\u001B[39m\u001B[38;5;124m\"\u001B[39m\u001B[38;5;124mself._variable_keys: \u001B[39m\u001B[38;5;132;01m{\u001B[39;00m\u001B[38;5;28mself\u001B[39m\u001B[38;5;241m.\u001B[39m_variable_keys\u001B[38;5;132;01m}\u001B[39;00m\u001B[38;5;124m\"\u001B[39m)\n\u001B[0;32m--> 328\u001B[0m \u001B[38;5;28;43mself\u001B[39;49m\u001B[38;5;241;43m.\u001B[39;49m\u001B[43m_check_environment\u001B[49m\u001B[43m(\u001B[49m\u001B[43m)\u001B[49m\n\u001B[1;32m    330\u001B[0m \u001B[38;5;66;03m# Set up GPU usage ========================================= >>\u001B[39;00m\n\u001B[1;32m    332\u001B[0m \u001B[38;5;28;01mif\u001B[39;00m \u001B[38;5;28mself\u001B[39m\u001B[38;5;241m.\u001B[39mgpu_param \u001B[38;5;241m!=\u001B[39m \u001B[38;5;124m\"\u001B[39m\u001B[38;5;124mforce\u001B[39m\u001B[38;5;124m\"\u001B[39m \u001B[38;5;129;01mand\u001B[39;00m \u001B[38;5;28mtype\u001B[39m(\u001B[38;5;28mself\u001B[39m\u001B[38;5;241m.\u001B[39mgpu_param) \u001B[38;5;129;01mis\u001B[39;00m \u001B[38;5;129;01mnot\u001B[39;00m \u001B[38;5;28mbool\u001B[39m:\n",
      "File \u001B[0;32m~/opt/anaconda3/envs/aiss/lib/python3.8/site-packages/pycaret/internal/pycaret_experiment/pycaret_experiment.py:121\u001B[0m, in \u001B[0;36m_PyCaretExperiment._check_environment\u001B[0;34m(self)\u001B[0m\n\u001B[1;32m    118\u001B[0m \u001B[38;5;28;01mfrom\u001B[39;00m \u001B[38;5;21;01mpycaret\u001B[39;00m\u001B[38;5;21;01m.\u001B[39;00m\u001B[38;5;21;01mutils\u001B[39;00m\u001B[38;5;21;01m.\u001B[39;00m\u001B[38;5;21;01m_show_versions\u001B[39;00m \u001B[38;5;28;01mimport\u001B[39;00m show_versions\n\u001B[1;32m    120\u001B[0m \u001B[38;5;28mself\u001B[39m\u001B[38;5;241m.\u001B[39mlogger\u001B[38;5;241m.\u001B[39minfo(\u001B[38;5;124m\"\u001B[39m\u001B[38;5;124mChecking libraries\u001B[39m\u001B[38;5;124m\"\u001B[39m)\n\u001B[0;32m--> 121\u001B[0m \u001B[38;5;28mself\u001B[39m\u001B[38;5;241m.\u001B[39mlogger\u001B[38;5;241m.\u001B[39minfo(\u001B[43mshow_versions\u001B[49m\u001B[43m(\u001B[49m\u001B[43mlogger\u001B[49m\u001B[38;5;241;43m=\u001B[39;49m\u001B[38;5;28;43mself\u001B[39;49m\u001B[38;5;241;43m.\u001B[39;49m\u001B[43mlogger\u001B[49m\u001B[43m)\u001B[49m)\n",
      "File \u001B[0;32m~/opt/anaconda3/envs/aiss/lib/python3.8/site-packages/pycaret/utils/_show_versions.py:165\u001B[0m, in \u001B[0;36mshow_versions\u001B[0;34m(optional, logger)\u001B[0m\n\u001B[1;32m    162\u001B[0m     print_func(\u001B[38;5;124m\"\u001B[39m\u001B[38;5;132;01m{k:>10}\u001B[39;00m\u001B[38;5;124m: \u001B[39m\u001B[38;5;132;01m{stat}\u001B[39;00m\u001B[38;5;124m\"\u001B[39m\u001B[38;5;241m.\u001B[39mformat(k\u001B[38;5;241m=\u001B[39mk, stat\u001B[38;5;241m=\u001B[39mstat))  \u001B[38;5;66;03m# noqa: T001\u001B[39;00m\n\u001B[1;32m    164\u001B[0m print_func(\u001B[38;5;124mf\u001B[39m\u001B[38;5;124m\"\u001B[39m\u001B[38;5;132;01m{\u001B[39;00mprefix\u001B[38;5;132;01m}\u001B[39;00m\u001B[38;5;124mPyCaret required dependencies:\u001B[39m\u001B[38;5;124m\"\u001B[39m)  \u001B[38;5;66;03m# noqa: T001\u001B[39;00m\n\u001B[0;32m--> 165\u001B[0m optional_deps_info \u001B[38;5;241m=\u001B[39m \u001B[43m_get_deps_info\u001B[49m\u001B[43m(\u001B[49m\u001B[43mlogger\u001B[49m\u001B[38;5;241;43m=\u001B[39;49m\u001B[43mlogger\u001B[49m\u001B[43m)\u001B[49m\n\u001B[1;32m    166\u001B[0m \u001B[38;5;28;01mfor\u001B[39;00m k, stat \u001B[38;5;129;01min\u001B[39;00m optional_deps_info\u001B[38;5;241m.\u001B[39mitems():\n\u001B[1;32m    167\u001B[0m     print_func(\u001B[38;5;124m\"\u001B[39m\u001B[38;5;132;01m{k:>20}\u001B[39;00m\u001B[38;5;124m: \u001B[39m\u001B[38;5;132;01m{stat}\u001B[39;00m\u001B[38;5;124m\"\u001B[39m\u001B[38;5;241m.\u001B[39mformat(k\u001B[38;5;241m=\u001B[39mk, stat\u001B[38;5;241m=\u001B[39mstat))  \u001B[38;5;66;03m# noqa: T001\u001B[39;00m\n",
      "File \u001B[0;32m~/opt/anaconda3/envs/aiss/lib/python3.8/site-packages/pycaret/utils/_show_versions.py:130\u001B[0m, in \u001B[0;36m_get_deps_info\u001B[0;34m(optional, logger)\u001B[0m\n\u001B[1;32m    128\u001B[0m \u001B[38;5;28;01mfor\u001B[39;00m modname \u001B[38;5;129;01min\u001B[39;00m deps:\n\u001B[1;32m    129\u001B[0m     \u001B[38;5;28;01mtry\u001B[39;00m:\n\u001B[0;32m--> 130\u001B[0m         ver \u001B[38;5;241m=\u001B[39m \u001B[43mget_module_version\u001B[49m\u001B[43m(\u001B[49m\u001B[43mmodname\u001B[49m\u001B[43m)\u001B[49m\n\u001B[1;32m    131\u001B[0m         \u001B[38;5;28;01mif\u001B[39;00m \u001B[38;5;129;01mnot\u001B[39;00m ver:\n\u001B[1;32m    132\u001B[0m             ver \u001B[38;5;241m=\u001B[39m \u001B[38;5;124m\"\u001B[39m\u001B[38;5;124mInstalled but version unavailable\u001B[39m\u001B[38;5;124m\"\u001B[39m\n",
      "File \u001B[0;32m~/opt/anaconda3/envs/aiss/lib/python3.8/site-packages/pycaret/utils/_dependencies.py:81\u001B[0m, in \u001B[0;36mget_module_version\u001B[0;34m(modname)\u001B[0m\n\u001B[1;32m     79\u001B[0m \u001B[38;5;28;01mdef\u001B[39;00m \u001B[38;5;21mget_module_version\u001B[39m(modname: \u001B[38;5;28mstr\u001B[39m) \u001B[38;5;241m-\u001B[39m\u001B[38;5;241m>\u001B[39m Optional[LooseVersion]:\n\u001B[1;32m     80\u001B[0m     \u001B[38;5;124;03m\"\"\"Raises a ValueError if module is not installed\"\"\"\u001B[39;00m\n\u001B[0;32m---> 81\u001B[0m     version \u001B[38;5;241m=\u001B[39m \u001B[43m_get_module_version\u001B[49m\u001B[43m(\u001B[49m\u001B[43mmodname\u001B[49m\u001B[43m)\u001B[49m\n\u001B[1;32m     82\u001B[0m     \u001B[38;5;28;01mif\u001B[39;00m version \u001B[38;5;129;01mis\u001B[39;00m \u001B[38;5;28;01mFalse\u001B[39;00m:\n\u001B[1;32m     83\u001B[0m         \u001B[38;5;28;01mraise\u001B[39;00m \u001B[38;5;167;01mValueError\u001B[39;00m(\u001B[38;5;124mf\u001B[39m\u001B[38;5;124m\"\u001B[39m\u001B[38;5;124mModule \u001B[39m\u001B[38;5;124m'\u001B[39m\u001B[38;5;132;01m{\u001B[39;00mmodname\u001B[38;5;132;01m}\u001B[39;00m\u001B[38;5;124m'\u001B[39m\u001B[38;5;124m is not installed.\u001B[39m\u001B[38;5;124m\"\u001B[39m)\n",
      "File \u001B[0;32m~/opt/anaconda3/envs/aiss/lib/python3.8/site-packages/pycaret/utils/_dependencies.py:75\u001B[0m, in \u001B[0;36m_get_module_version\u001B[0;34m(modname)\u001B[0m\n\u001B[1;32m     72\u001B[0m installed_modules \u001B[38;5;241m=\u001B[39m get_installed_modules()\n\u001B[1;32m     73\u001B[0m \u001B[38;5;28;01mif\u001B[39;00m modname \u001B[38;5;129;01mnot\u001B[39;00m \u001B[38;5;129;01min\u001B[39;00m installed_modules:\n\u001B[1;32m     74\u001B[0m     \u001B[38;5;66;03m# Fallback. This should never happen unless module is not present\u001B[39;00m\n\u001B[0;32m---> 75\u001B[0m     installed_modules[modname] \u001B[38;5;241m=\u001B[39m \u001B[43m_try_import_and_get_module_version\u001B[49m\u001B[43m(\u001B[49m\u001B[43mmodname\u001B[49m\u001B[43m)\u001B[49m\n\u001B[1;32m     76\u001B[0m \u001B[38;5;28;01mreturn\u001B[39;00m installed_modules[modname]\n",
      "File \u001B[0;32m~/opt/anaconda3/envs/aiss/lib/python3.8/site-packages/pycaret/utils/_dependencies.py:28\u001B[0m, in \u001B[0;36m_try_import_and_get_module_version\u001B[0;34m(modname)\u001B[0m\n\u001B[1;32m     26\u001B[0m \u001B[38;5;28;01mif\u001B[39;00m logger:\n\u001B[1;32m     27\u001B[0m     \u001B[38;5;28;01mwith\u001B[39;00m redirect_output(logger):\n\u001B[0;32m---> 28\u001B[0m         mod \u001B[38;5;241m=\u001B[39m \u001B[43mimport_module\u001B[49m\u001B[43m(\u001B[49m\u001B[43mmodname\u001B[49m\u001B[43m)\u001B[49m\n\u001B[1;32m     29\u001B[0m \u001B[38;5;28;01melse\u001B[39;00m:\n\u001B[1;32m     30\u001B[0m     mod \u001B[38;5;241m=\u001B[39m import_module(modname)\n",
      "File \u001B[0;32m~/opt/anaconda3/envs/aiss/lib/python3.8/importlib/__init__.py:127\u001B[0m, in \u001B[0;36mimport_module\u001B[0;34m(name, package)\u001B[0m\n\u001B[1;32m    125\u001B[0m             \u001B[38;5;28;01mbreak\u001B[39;00m\n\u001B[1;32m    126\u001B[0m         level \u001B[38;5;241m+\u001B[39m\u001B[38;5;241m=\u001B[39m \u001B[38;5;241m1\u001B[39m\n\u001B[0;32m--> 127\u001B[0m \u001B[38;5;28;01mreturn\u001B[39;00m \u001B[43m_bootstrap\u001B[49m\u001B[38;5;241;43m.\u001B[39;49m\u001B[43m_gcd_import\u001B[49m\u001B[43m(\u001B[49m\u001B[43mname\u001B[49m\u001B[43m[\u001B[49m\u001B[43mlevel\u001B[49m\u001B[43m:\u001B[49m\u001B[43m]\u001B[49m\u001B[43m,\u001B[49m\u001B[43m \u001B[49m\u001B[43mpackage\u001B[49m\u001B[43m,\u001B[49m\u001B[43m \u001B[49m\u001B[43mlevel\u001B[49m\u001B[43m)\u001B[49m\n",
      "File \u001B[0;32m<frozen importlib._bootstrap>:1014\u001B[0m, in \u001B[0;36m_gcd_import\u001B[0;34m(name, package, level)\u001B[0m\n",
      "File \u001B[0;32m<frozen importlib._bootstrap>:991\u001B[0m, in \u001B[0;36m_find_and_load\u001B[0;34m(name, import_)\u001B[0m\n",
      "File \u001B[0;32m<frozen importlib._bootstrap>:975\u001B[0m, in \u001B[0;36m_find_and_load_unlocked\u001B[0;34m(name, import_)\u001B[0m\n",
      "File \u001B[0;32m<frozen importlib._bootstrap>:671\u001B[0m, in \u001B[0;36m_load_unlocked\u001B[0;34m(spec)\u001B[0m\n",
      "File \u001B[0;32m<frozen importlib._bootstrap_external>:843\u001B[0m, in \u001B[0;36mexec_module\u001B[0;34m(self, module)\u001B[0m\n",
      "File \u001B[0;32m<frozen importlib._bootstrap>:219\u001B[0m, in \u001B[0;36m_call_with_frames_removed\u001B[0;34m(f, *args, **kwds)\u001B[0m\n",
      "File \u001B[0;32m~/opt/anaconda3/envs/aiss/lib/python3.8/site-packages/lightgbm/__init__.py:8\u001B[0m, in \u001B[0;36m<module>\u001B[0;34m\u001B[0m\n\u001B[1;32m      2\u001B[0m \u001B[38;5;124;03m\"\"\"LightGBM, Light Gradient Boosting Machine.\u001B[39;00m\n\u001B[1;32m      3\u001B[0m \n\u001B[1;32m      4\u001B[0m \u001B[38;5;124;03mContributors: https://github.com/microsoft/LightGBM/graphs/contributors.\u001B[39;00m\n\u001B[1;32m      5\u001B[0m \u001B[38;5;124;03m\"\"\"\u001B[39;00m\n\u001B[1;32m      6\u001B[0m \u001B[38;5;28;01mfrom\u001B[39;00m \u001B[38;5;21;01mpathlib\u001B[39;00m \u001B[38;5;28;01mimport\u001B[39;00m Path\n\u001B[0;32m----> 8\u001B[0m \u001B[38;5;28;01mfrom\u001B[39;00m \u001B[38;5;21;01m.\u001B[39;00m\u001B[38;5;21;01mbasic\u001B[39;00m \u001B[38;5;28;01mimport\u001B[39;00m Booster, Dataset, Sequence, register_logger\n\u001B[1;32m      9\u001B[0m \u001B[38;5;28;01mfrom\u001B[39;00m \u001B[38;5;21;01m.\u001B[39;00m\u001B[38;5;21;01mcallback\u001B[39;00m \u001B[38;5;28;01mimport\u001B[39;00m EarlyStopException, early_stopping, log_evaluation, record_evaluation, reset_parameter\n\u001B[1;32m     10\u001B[0m \u001B[38;5;28;01mfrom\u001B[39;00m \u001B[38;5;21;01m.\u001B[39;00m\u001B[38;5;21;01mengine\u001B[39;00m \u001B[38;5;28;01mimport\u001B[39;00m CVBooster, cv, train\n",
      "File \u001B[0;32m~/opt/anaconda3/envs/aiss/lib/python3.8/site-packages/lightgbm/basic.py:247\u001B[0m, in \u001B[0;36m<module>\u001B[0;34m\u001B[0m\n\u001B[1;32m    245\u001B[0m     _LIB \u001B[38;5;241m=\u001B[39m Mock(ctypes\u001B[38;5;241m.\u001B[39mCDLL)  \u001B[38;5;66;03m# type: ignore\u001B[39;00m\n\u001B[1;32m    246\u001B[0m \u001B[38;5;28;01melse\u001B[39;00m:\n\u001B[0;32m--> 247\u001B[0m     _LIB \u001B[38;5;241m=\u001B[39m \u001B[43m_load_lib\u001B[49m\u001B[43m(\u001B[49m\u001B[43m)\u001B[49m\n\u001B[1;32m    250\u001B[0m _NUMERIC_TYPES \u001B[38;5;241m=\u001B[39m (\u001B[38;5;28mint\u001B[39m, \u001B[38;5;28mfloat\u001B[39m, \u001B[38;5;28mbool\u001B[39m)\n\u001B[1;32m    251\u001B[0m _ArrayLike \u001B[38;5;241m=\u001B[39m Union[List, np\u001B[38;5;241m.\u001B[39mndarray, pd_Series]\n",
      "File \u001B[0;32m~/opt/anaconda3/envs/aiss/lib/python3.8/site-packages/lightgbm/basic.py:232\u001B[0m, in \u001B[0;36m_load_lib\u001B[0;34m()\u001B[0m\n\u001B[1;32m    230\u001B[0m \u001B[38;5;124;03m\"\"\"Load LightGBM library.\"\"\"\u001B[39;00m\n\u001B[1;32m    231\u001B[0m lib_path \u001B[38;5;241m=\u001B[39m find_lib_path()\n\u001B[0;32m--> 232\u001B[0m lib \u001B[38;5;241m=\u001B[39m \u001B[43mctypes\u001B[49m\u001B[38;5;241;43m.\u001B[39;49m\u001B[43mcdll\u001B[49m\u001B[38;5;241;43m.\u001B[39;49m\u001B[43mLoadLibrary\u001B[49m\u001B[43m(\u001B[49m\u001B[43mlib_path\u001B[49m\u001B[43m[\u001B[49m\u001B[38;5;241;43m0\u001B[39;49m\u001B[43m]\u001B[49m\u001B[43m)\u001B[49m\n\u001B[1;32m    233\u001B[0m lib\u001B[38;5;241m.\u001B[39mLGBM_GetLastError\u001B[38;5;241m.\u001B[39mrestype \u001B[38;5;241m=\u001B[39m ctypes\u001B[38;5;241m.\u001B[39mc_char_p\n\u001B[1;32m    234\u001B[0m callback \u001B[38;5;241m=\u001B[39m ctypes\u001B[38;5;241m.\u001B[39mCFUNCTYPE(\u001B[38;5;28;01mNone\u001B[39;00m, ctypes\u001B[38;5;241m.\u001B[39mc_char_p)\n",
      "File \u001B[0;32m~/opt/anaconda3/envs/aiss/lib/python3.8/ctypes/__init__.py:451\u001B[0m, in \u001B[0;36mLibraryLoader.LoadLibrary\u001B[0;34m(self, name)\u001B[0m\n\u001B[1;32m    450\u001B[0m \u001B[38;5;28;01mdef\u001B[39;00m \u001B[38;5;21mLoadLibrary\u001B[39m(\u001B[38;5;28mself\u001B[39m, name):\n\u001B[0;32m--> 451\u001B[0m     \u001B[38;5;28;01mreturn\u001B[39;00m \u001B[38;5;28;43mself\u001B[39;49m\u001B[38;5;241;43m.\u001B[39;49m\u001B[43m_dlltype\u001B[49m\u001B[43m(\u001B[49m\u001B[43mname\u001B[49m\u001B[43m)\u001B[49m\n",
      "File \u001B[0;32m~/opt/anaconda3/envs/aiss/lib/python3.8/ctypes/__init__.py:373\u001B[0m, in \u001B[0;36mCDLL.__init__\u001B[0;34m(self, name, mode, handle, use_errno, use_last_error, winmode)\u001B[0m\n\u001B[1;32m    370\u001B[0m \u001B[38;5;28mself\u001B[39m\u001B[38;5;241m.\u001B[39m_FuncPtr \u001B[38;5;241m=\u001B[39m _FuncPtr\n\u001B[1;32m    372\u001B[0m \u001B[38;5;28;01mif\u001B[39;00m handle \u001B[38;5;129;01mis\u001B[39;00m \u001B[38;5;28;01mNone\u001B[39;00m:\n\u001B[0;32m--> 373\u001B[0m     \u001B[38;5;28mself\u001B[39m\u001B[38;5;241m.\u001B[39m_handle \u001B[38;5;241m=\u001B[39m \u001B[43m_dlopen\u001B[49m\u001B[43m(\u001B[49m\u001B[38;5;28;43mself\u001B[39;49m\u001B[38;5;241;43m.\u001B[39;49m\u001B[43m_name\u001B[49m\u001B[43m,\u001B[49m\u001B[43m \u001B[49m\u001B[43mmode\u001B[49m\u001B[43m)\u001B[49m\n\u001B[1;32m    374\u001B[0m \u001B[38;5;28;01melse\u001B[39;00m:\n\u001B[1;32m    375\u001B[0m     \u001B[38;5;28mself\u001B[39m\u001B[38;5;241m.\u001B[39m_handle \u001B[38;5;241m=\u001B[39m handle\n",
      "\u001B[0;31mOSError\u001B[0m: dlopen(/Users/fabianrockel/opt/anaconda3/envs/aiss/lib/python3.8/site-packages/lightgbm/lib/lib_lightgbm.so, 0x0006): Library not loaded: /usr/local/opt/libomp/lib/libomp.dylib\n  Referenced from: <C3EB28DD-60B6-3334-AFA2-72BBBF9DBAEF> /Users/fabianrockel/opt/anaconda3/envs/aiss/lib/python3.8/site-packages/lightgbm/lib/lib_lightgbm.so\n  Reason: tried: '/usr/local/opt/libomp/lib/libomp.dylib' (no such file), '/System/Volumes/Preboot/Cryptexes/OS/usr/local/opt/libomp/lib/libomp.dylib' (no such file), '/usr/local/opt/libomp/lib/libomp.dylib' (no such file), '/usr/local/lib/libomp.dylib' (no such file), '/usr/lib/libomp.dylib' (no such file, not in dyld cache)"
     ]
    }
   ],
   "source": [
    "s1.setup(df, fold = 3, fh = 18, session_id = 123)"
   ],
   "metadata": {
    "collapsed": false,
    "ExecuteTime": {
     "end_time": "2024-01-31T10:28:12.147772Z",
     "start_time": "2024-01-31T10:28:11.616066Z"
    }
   },
   "id": "94bbbaa0ecf557ac"
  },
  {
   "cell_type": "code",
   "execution_count": null,
   "outputs": [],
   "source": [],
   "metadata": {
    "collapsed": false
   },
   "id": "8341f63eab2333fa"
  }
 ],
 "metadata": {
  "kernelspec": {
   "name": "aiss",
   "language": "python",
   "display_name": "aiss"
  },
  "language_info": {
   "codemirror_mode": {
    "name": "ipython",
    "version": 3
   },
   "file_extension": ".py",
   "mimetype": "text/x-python",
   "name": "python",
   "nbconvert_exporter": "python",
   "pygments_lexer": "ipython3",
   "version": "3.11.7"
  }
 },
 "nbformat": 4,
 "nbformat_minor": 5
}
